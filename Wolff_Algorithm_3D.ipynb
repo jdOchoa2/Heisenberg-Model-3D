{
 "cells": [
  {
   "cell_type": "markdown",
   "id": "7532671f",
   "metadata": {},
   "source": [
    "This is a jupyter version of the Julia scripts, mainly for the sake of quick testing."
   ]
  },
  {
   "cell_type": "markdown",
   "id": "46a3bdcc",
   "metadata": {},
   "source": [
    "\\begin{equation}\n",
    "    k_B = J = 1\n",
    "\\end{equation}"
   ]
  },
  {
   "cell_type": "code",
   "execution_count": 2,
   "id": "b6aa4cbc",
   "metadata": {},
   "outputs": [
    {
     "name": "stderr",
     "output_type": "stream",
     "text": [
      "\u001b[32m\u001b[1m  Activating\u001b[22m\u001b[39m new project at `~/Repos/Heisenberg-Model-3D/Packages`\n"
     ]
    }
   ],
   "source": [
    "using Pkg\n",
    "Pkg.activate(\"./Packages/Project.toml\");"
   ]
  },
  {
   "cell_type": "code",
   "execution_count": 99,
   "id": "559f81da",
   "metadata": {},
   "outputs": [],
   "source": [
    "using DelimitedFiles \n",
    "using LinearAlgebra\n",
    "using Random"
   ]
  },
  {
   "cell_type": "markdown",
   "id": "c4624fa5",
   "metadata": {},
   "source": [
    "# Wolff Algorithm"
   ]
  },
  {
   "cell_type": "code",
   "execution_count": 4,
   "id": "9e268cfe",
   "metadata": {},
   "outputs": [],
   "source": [
    "function RandomSpin()\n",
    "    \"\"\"Creates a random unit vector from an homogenous distribution\n",
    "    on the unit sphere\"\"\"\n",
    "    θ = acos(1-rand(0:1e-6:2))\n",
    "    ϕ = rand(0:1e-6:2π)\n",
    "    return [sin(θ)*cos(ϕ), sin(θ)*sin(ϕ), cos(θ)]\n",
    "end\n",
    "\n",
    "function AcceptanceProbability(Spin1, Spin2, n, β)\n",
    "    \"\"\"Computes the probability of adding Spin2 - neighbour of\n",
    "    Spin1 - to the cluster. It uses the temperature β and the \n",
    "    vector of reflection n\"\"\"\n",
    "    return 1 - exp(min(0,-2β*transpose(Spin1)*n*transpose(Spin2)*n))\n",
    "end\n",
    "\n",
    "function ReflectSpin(S,n,state)\n",
    "    \"\"\"Reflectes the spin state[S] around the plane defined by the\n",
    "    normal vector n\"\"\"\n",
    "    state[S] -=  2(transpose(state[S])*n)*n\n",
    "end\n",
    "\n",
    "function GetNeighbours(L,L2,L3)\n",
    "    \"\"\"Gets the coordinates of the 6 neighbours of every spin in the state. It uses \n",
    "    periodic boundery conditions in a 3D lattice of length L (area L2, volume L3). \n",
    "    The L3 × 6 matriz it returns contains the neighbours as folows: \n",
    "    [Up-Down-Left-Right-Front-Back]\"\"\"\n",
    "    Neighbours = zeros(Int16,L3,6)\n",
    "    for x in 1:L3\n",
    "        Neighbours[x,:] = [L2*((x-1)÷L2)+(x-1-L+L2)%L2+1,\n",
    "            L2*((x-1)÷L2)+(x-1+L)%L2+1,\n",
    "            L*((x-1)÷L)+(x+L-2)%L+1,\n",
    "            L*((x-1)÷L)+(x)%L+1,\n",
    "            (x-L2+L3-1)%L3+1,\n",
    "            (x+L2-1)%L3+1]\n",
    "    end\n",
    "    return Neighbours\n",
    "end\n",
    "\n",
    "function Grow_Reflect(S, Cluster, n, β, L, L2, L3, state, neighbours)\n",
    "    \"\"\"Checks every neighbour of spin state[S] and adds them to the Cluster given\n",
    "        a certain probability (refair to AcceptanceProbability). Finally, it \n",
    "        reflects the spin around the normal vector n (refair to ReflectSpin)\"\"\"\n",
    "    #Checks neighbours\n",
    "    for Sn in neighbours[S,:]\n",
    "        if Sn ∉ Cluster && rand(0:1e-15:1) < AcceptanceProbability(state[S],state[Sn],n,β)\n",
    "            #Adds neighbour to Cluster\n",
    "            push!(Cluster,Sn)\n",
    "            #Checks neighbours of neighbour\n",
    "            Grow_Reflect(Sn, Cluster, n, β, L, L2, L3, state, neighbours)\n",
    "        end\n",
    "    end\n",
    "    #Reflects the spin\n",
    "    ReflectSpin(S,n, state)\n",
    "end\n",
    "\n",
    "function NewState(state, L, L2, L3, β, neighbours)\n",
    "    \"\"\"Chooses a randon spin from the state with lattice sice L, and also a\n",
    "    random normal vector. From there it builds the cluster using Wolff algorithm\n",
    "    (see Grow_Reflect)\"\"\"\n",
    "    n = RandomSpin()     #Initial random Normal Vector\n",
    "    S0 = rand(1:1:L3)    #Initial random Spin\n",
    "    Cluster = [S0]       #Stores the indexes of the spins added to the cluster\n",
    "    Grow_Reflect(S0, Cluster, n, β, L, L2, L3, state, neighbours) #Builds cluster and flips for new state\n",
    "    return length(Cluster)\n",
    "end;"
   ]
  },
  {
   "cell_type": "markdown",
   "id": "49f293b6",
   "metadata": {},
   "source": [
    "# Observables"
   ]
  },
  {
   "cell_type": "code",
   "execution_count": 5,
   "id": "b297befe",
   "metadata": {},
   "outputs": [],
   "source": [
    "function Magnetization(state)\n",
    "    \"\"\"Returns the magnetization as the norm of the sum of all spins in the grid\"\"\"\n",
    "    return norm(sum(state))\n",
    "end\n",
    "\n",
    "function Energy(state,L3,neighbours)\n",
    "    \"\"\"Returns the energy of a state\"\"\"\n",
    "    energy = 0.0\n",
    "    #Goes through every spin in the lattice\n",
    "    for ii in 1:L3  \n",
    "        Sp = [0,0,0]\n",
    "        #Only checks 3 out the 6 neighbourds to avoid double counting of bounderies\n",
    "        for Sn in neighbours[ii,[2,4,6]] \n",
    "           Sp += state[Sn]\n",
    "        end\n",
    "        energy -= dot(Sp,state[ii])\n",
    "    end\n",
    "    return energy\n",
    "end;"
   ]
  },
  {
   "cell_type": "markdown",
   "id": "efa42fbf",
   "metadata": {},
   "source": [
    "# Evolution function for FSS"
   ]
  },
  {
   "cell_type": "code",
   "execution_count": 102,
   "id": "e0dcfa15",
   "metadata": {},
   "outputs": [],
   "source": [
    "function Proceed(state, β, n_samples, L, L2, L3, neighbours,τ,τ0,save)\n",
    "    \"\"\"For a single value of β in a lattice of size L, creates a sequence of \n",
    "    states and meassures the observables for the de-correlated configurations.\n",
    "    Then it prints the desired quantities.\"\"\"\n",
    "    Mmean,M2mean,M4mean,Emean,E2mean,p = zeros(6)\n",
    "    c = 3            #Safty factor\n",
    "    #First, reach the equilibrium...\n",
    "    for t in 1:c*τ0  #Current time in MCSS\n",
    "        mcss = 0     #Number of spins flipped\n",
    "        while mcss < L3 \n",
    "            mcss += NewState(state, L, L2, L3, β, neighbours) \n",
    "        end \n",
    "    end\n",
    "    #Then take samples...\n",
    "    for progress in  1:n_samples #Samples progress\n",
    "        M = Magnetization(state); E = Energy(state,L3,neighbours)\n",
    "        Mmean += M; M2mean += M*M; M4mean += M^4 \n",
    "        Emean += E; E2mean += E*E\n",
    "        for t in 1:c*τ  #Current time in MCSS\n",
    "            mcss = 0    #Number of spins flipped\n",
    "            while mcss < L3\n",
    "                Temp = NewState(state, L, L2, L3, β, neighbours) \n",
    "                if mcss == 0\n",
    "                    p += Temp #Get a sample of the cluster size\n",
    "                end\n",
    "                mcss += Temp\n",
    "            end \n",
    "        end\n",
    "    end\n",
    "    #save last state\n",
    "    if save == 1\n",
    "        open(\"./States/L\"*string(L)*\"_T\"*string(1/β)*\".txt\", \"a\") do io\n",
    "            writedlm(io, state)\n",
    "        end\n",
    "    end\n",
    "    #Calculated and print all desired quantities\n",
    "    Mmean /= n_samples; M2mean /= n_samples; M4mean /= n_samples\n",
    "    Emean /= n_samples; E2mean /= n_samples; p /= (n_samples*c*τ)\n",
    "    χ  = β*(M2mean-Mmean*Mmean)\n",
    "    Cv = β*β*(E2mean-Emean*Emean)\n",
    "    U  = 1. - 1. /3. *(M4mean/(M2mean*M2mean))\n",
    "    print(β,\" \",Mmean,\" \",M2mean,\" \",M4mean,\" \",Emean,\" \",E2mean,\" \",p,\" \",χ,\" \",Cv,\" \",U,\"\\n\")\n",
    "end;"
   ]
  },
  {
   "cell_type": "markdown",
   "id": "4f802d97",
   "metadata": {},
   "source": [
    "# MAIN for FSS"
   ]
  },
  {
   "cell_type": "code",
   "execution_count": 103,
   "id": "29db8efd",
   "metadata": {},
   "outputs": [],
   "source": [
    "i = 2\n",
    "#i = parse(Int64,ARGS[1]) \n",
    "n_samples = 800\n",
    "#n_samples = parse(Int64,ARGS[2]) \n",
    "Lattices  = [8,10,12,14,16]    #Different systems avaible\n",
    "CorrTimes = [3,3,3,3,3]\n",
    "L  = Lattices[i]     #Lattice size\n",
    "L2 = L*L             #Lattice Area\n",
    "L3 = L*L2            #Lattice Volume\n",
    "τ  = CorrTimes[i]    #Correlation times\n",
    "τ0 = 3               #Equilibrium times\n",
    "neighbours = GetNeighbours(L,L2,L3)  #Matrix with the indexes of the 6 adjacent spins of each in the lattice\n",
    "# Temperatures\n",
    "Ti = 1.2\n",
    "Tf = 2.0\n",
    "Tn = 40 \n",
    "Ts = (Tf-Ti)/Tn\n",
    "Temperatures = [kk for kk in Ti:Ts:Tf];"
   ]
  },
  {
   "cell_type": "code",
   "execution_count": null,
   "id": "1cb07b4b",
   "metadata": {},
   "outputs": [],
   "source": [
    "for kk in Temperatures                  #Loop over all tempetures\n",
    "    save = 0; if (kk == Ti) || (kk == Tf) || (kk == 1.44)\n",
    "        save = 1 end\n",
    "    state = [RandomSpin() for i in 1:L3] #The 3D lattice is store as a 1D-Array\n",
    "    Proceed(state, 1/kk, n_samples, L, L2, L3, neighbours, τ, τ0,save)\n",
    "end"
   ]
  },
  {
   "cell_type": "markdown",
   "id": "4e025544",
   "metadata": {},
   "source": [
    "# Equilibrium Time"
   ]
  },
  {
   "cell_type": "code",
   "execution_count": 75,
   "id": "9b438180",
   "metadata": {},
   "outputs": [],
   "source": [
    "function Equilibrium(β, Ttime, N_samples, L, L2, L3, neighbours)\n",
    "    \"\"\"Returns the nonlinear correlation function for magnetization and energy\n",
    "    using samples across multiple simulations (N_samples) during Ttime steps \n",
    "    and for a given temperature\"\"\"\n",
    "    Mmean = zeros(Ttime); Emean = zeros(Ttime)\n",
    "    for n in 1:N_samples\n",
    "        state = [RandomSpin() for i in 1:L3] \n",
    "        for t in 1:Ttime\n",
    "            M = Magnetization(state); E = Energy(state,L3,neighbours)\n",
    "            Mmean[t] += M; Emean[t] += E\n",
    "            mcss = 0\n",
    "            while mcss < L3 \n",
    "                mcss += NewState(state, L, L2, L3, βc, neighbours) \n",
    "            end \n",
    "        end\n",
    "    end\n",
    "    Mmean /= N_samples\n",
    "    Emean /= N_samples\n",
    "    ϕM = (1/(Mmean[1] - Mmean[end])).*(Mmean .- Mmean[end])\n",
    "    ϕE = (1/(Emean[1] - Emean[end])).*(Emean .- Emean[end])\n",
    "    for i in 1:Ttime\n",
    "        print(ϕM[i],\" \",ϕE[i],\"\\n\")\n",
    "    end\n",
    "end;"
   ]
  },
  {
   "cell_type": "code",
   "execution_count": null,
   "id": "abc6b8b1",
   "metadata": {},
   "outputs": [],
   "source": [
    "Equilibrium(0.693, 150, 500, L, L2, L3, neighbours)"
   ]
  },
  {
   "cell_type": "markdown",
   "id": "9c629925",
   "metadata": {},
   "source": [
    "# Correlation Time"
   ]
  },
  {
   "cell_type": "code",
   "execution_count": 78,
   "id": "7ec040cd",
   "metadata": {},
   "outputs": [],
   "source": [
    "function Correlation(β, Ttime, N_samples, L, L2, L3, neighbours)\n",
    "    \"\"\"Performs a set of simulations in equilibrium to get the linear correlation functions\"\"\"\n",
    "    E_T0mean = zeros(Ttime); E_0mean = 0.; E2_0mean = 0.\n",
    "    for n in 1:N_samples\n",
    "        state = [RandomSpin() for i in 1:L3]\n",
    "        for t in 1:9  #Current time in MCSS\n",
    "            mcss = 0     #Number of spins flipped\n",
    "            while mcss < L3 \n",
    "                mcss += NewState(state, L, L2, L3, β, neighbours) \n",
    "            end \n",
    "        end\n",
    "        E0 = Energy(state,L3,neighbours)\n",
    "        E_0mean += E0; E2_0mean += E0*E0\n",
    "        for t in 1:Ttime\n",
    "            E_T0mean[t] += E0*Energy(state,L3,neighbours)\n",
    "            mcss = 0\n",
    "            while mcss < L3 \n",
    "                mcss += NewState(state, L, L2, L3, β, neighbours) \n",
    "            end \n",
    "        end\n",
    "    end\n",
    "    E_0mean /= N_samples; E2_0mean /= N_samples; E_T0mean ./= N_samples\n",
    "    ϕE = (1/(E2_0mean - (E_0mean)^2)).*(E_T0mean .- (E_0mean)^2)\n",
    "    for i in 1:Ttime\n",
    "        print(ϕE[i],\"\\n\")\n",
    "    end\n",
    "end;"
   ]
  }
 ],
 "metadata": {
  "kernelspec": {
   "display_name": "Julia 1.7.2",
   "language": "julia",
   "name": "julia-1.7"
  },
  "language_info": {
   "file_extension": ".jl",
   "mimetype": "application/julia",
   "name": "julia",
   "version": "1.7.3"
  }
 },
 "nbformat": 4,
 "nbformat_minor": 5
}
