{
 "cells": [
  {
   "cell_type": "markdown",
   "id": "46a3bdcc",
   "metadata": {},
   "source": [
    "\\begin{equation}\n",
    "    k_B = J = 1\n",
    "\\end{equation}"
   ]
  },
  {
   "cell_type": "code",
   "execution_count": 1,
   "id": "b6aa4cbc",
   "metadata": {},
   "outputs": [
    {
     "name": "stderr",
     "output_type": "stream",
     "text": [
      "\u001b[32m\u001b[1m  Activating\u001b[22m\u001b[39m project at `~/Repos/Heisenberg-Model-3D/Packages`\n"
     ]
    }
   ],
   "source": [
    "using Pkg\n",
    "Pkg.activate(\"./Packages/Project.toml\");"
   ]
  },
  {
   "cell_type": "code",
   "execution_count": 2,
   "id": "559f81da",
   "metadata": {},
   "outputs": [
    {
     "name": "stderr",
     "output_type": "stream",
     "text": [
      "┌ Info: Precompiling Plots [91a5bcdd-55d7-5caf-9e0b-520d859cae80]\n",
      "└ @ Base loading.jl:1423\n"
     ]
    }
   ],
   "source": [
    "using DelimitedFiles \n",
    "using LinearAlgebra\n",
    "using Statistics\n",
    "using Random\n",
    "using Printf\n",
    "using Plots;"
   ]
  },
  {
   "cell_type": "code",
   "execution_count": 33,
   "id": "9e268cfe",
   "metadata": {},
   "outputs": [],
   "source": [
    "function RandomSpin()\n",
    "    \"\"\"Creates a random unit vector\"\"\"\n",
    "    θ = rand(0:1e-6:π)\n",
    "    ϕ = rand(0:1e-6:2π)\n",
    "    return [sin(θ)*cos(ϕ), sin(θ)*sin(ϕ), cos(θ)]\n",
    "end\n",
    "\n",
    "function AcceptanceProbability(Spin1, Spin2, n, β)\n",
    "    \"\"\"Computes the probability of adding Spin2 - neighbour of\n",
    "    Spin1 - to the cluster. It uses the temperature β and the \n",
    "    vector of reflection n\"\"\"\n",
    "    return 1 - exp(min(0,-2β*transpose(Spin1)*n*transpose(Spin2)*n))\n",
    "end\n",
    "\n",
    "function ReflectSpin(S,n,state)\n",
    "    \"\"\"Reflectes the spin state[S] around the plane defined by the\n",
    "    normal vector n\"\"\"\n",
    "    state[S] -=  2(transpose(state[S])*n)*n\n",
    "end\n",
    "\n",
    "function GetNeighbours(L,L2,L3)\n",
    "    \"\"\"Gets the coordinates of the 6 neighbours of every spin in the state. It uses \n",
    "    periodic boundery conditions in a 3D lattice of length L (area L2, volume L3). \n",
    "    The L3 × 6 matriz it returns contains the neighbours as folows: \n",
    "    [Up-Down-Left-Right-Front-Back]\"\"\"\n",
    "    Neighbours = zeros(Int16,L3,6)\n",
    "    for x in 1:L3\n",
    "        Neighbours[x,:] = [L2*((x-1)÷L2)+(x-1-L+L2)%L2+1,\n",
    "            L2*((x-1)÷L2)+(x-1+L)%L2+1,\n",
    "            L*((x-1)÷L)+(x+L-2)%L+1,\n",
    "            L*((x-1)÷L)+(x)%L+1,\n",
    "            (x-L2+L3-1)%L3+1,\n",
    "            (x+L2-1)%L3+1]\n",
    "    end\n",
    "    return Neighbours\n",
    "end\n",
    "\n",
    "function Grow_Reflect(S, Cluster, n, β, L, L2, L3, state, neighbours)\n",
    "    \"\"\"Checks every neighbour of spin state[S] and adds them to the Cluster given\n",
    "        a certain probability (refair to AcceptanceProbability). Finally, it \n",
    "        reflects the spin around the normal vector n (refair to ReflectSpin)\"\"\"\n",
    "    #Checks neighbours\n",
    "    for Sn in neighbours[S,:]\n",
    "        if Sn ∉ Cluster && rand(0:1e-15:1) < AcceptanceProbability(state[S],state[Sn],n,β)\n",
    "            #Adds neighbour to Cluster\n",
    "            push!(Cluster,Sn)\n",
    "            #Checks neighbours of neighbour\n",
    "            Grow_Reflect(Sn, Cluster, n, β, L, L2, L3, state, neighbours)\n",
    "        end\n",
    "    end\n",
    "    #Reflects the spin\n",
    "    ReflectSpin(S,n, state)\n",
    "end\n",
    "\n",
    "function NewState(state, L, L2, L3, β, neighbours)\n",
    "    \"\"\"Chooses a randon spin from the state with lattice sice L, and also a\n",
    "    random normal vector. From there it builds the cluster using Wolff algorithm\n",
    "    (see Grow_Reflect)\"\"\"\n",
    "    n = RandomSpin()     #Initial random Normal Vector\n",
    "    S0 = rand(1:1:L3)    #Initial random Spin\n",
    "    Cluster = [S0]       #Stores the indexes of the spins added to the cluster\n",
    "    Grow_Reflect(S0, Cluster, n, β, L, L2, L3, state, neighbours) #Builds cluster and flips for new state\n",
    "end;"
   ]
  },
  {
   "cell_type": "code",
   "execution_count": 10,
   "id": "b297befe",
   "metadata": {},
   "outputs": [],
   "source": [
    "function Magnetization(state)\n",
    "    \"\"\"Returns the magnetization as the norm of the sum of all spins in the grid\"\"\"\n",
    "    return norm(sum(state))\n",
    "end;\n",
    "\n",
    "function Energy(state,L,L2,L3,neighbours)\n",
    "    \"\"\"Returns the energy of a state\"\"\"\n",
    "    energy = 0.0\n",
    "    #Goes through every spin in the lattice\n",
    "    for ii in 1:L3  \n",
    "        Sp = [0,0,0]\n",
    "        #Only checks 3 out the 6 neighbourds to avoid double counting of bounderies\n",
    "        for Sn in neighbours[ii,[2,4,6]] \n",
    "           Sp += state[Sn]\n",
    "        end\n",
    "        energy -= dot(Sp,state[ii])\n",
    "    end\n",
    "    return energy\n",
    "end;\n",
    "\n",
    "function Variance(X)\n",
    "    \"\"\"Returns the variance of any array X\"\"\"\n",
    "    return mean(X.^2) - mean(X)^2\n",
    "end;\n",
    "\n",
    "function Suceptibility(M,β)\n",
    "    \"\"\"Magnetic suceptibility as the variance of magnetization over tempeture\"\"\"\n",
    "    return Variance(M)*β\n",
    "end\n",
    "\n",
    "function SpecificHeat(E,β)\n",
    "    \"\"\"Specific heat as the variance of energy over tempeture square\"\"\"\n",
    "    return Variance(E)*β^2\n",
    "end;"
   ]
  },
  {
   "cell_type": "code",
   "execution_count": 11,
   "id": "e0dcfa15",
   "metadata": {},
   "outputs": [],
   "source": [
    "function Proceed(state, β, epochs, jumps, L, L2, L3, neighbours)\n",
    "    \"\"\"Creates a sequence of states and saves to a file once every fixed number of epochs \n",
    "     given by jumps. This is done for a single value of β in a lattice of size L.\"\"\"\n",
    "    for jj in 1:epochs\n",
    "        NewState(state, L, L2, L3, β, neighbours)\n",
    "        if jj%jumps == 0\n",
    "            open(\"T_\"*string(β)*\".txt\", \"a\") do io\n",
    "                writedlm(io, state)\n",
    "            end\n",
    "        end\n",
    "    end\n",
    "end;"
   ]
  },
  {
   "cell_type": "code",
   "execution_count": 36,
   "id": "9edb2f23",
   "metadata": {},
   "outputs": [],
   "source": [
    "\"\"\"----- MAIN -----\"\"\"\n",
    "L = 10  #Lattice size\n",
    "L2 = L*L   #Lattice Area\n",
    "L3 = L*L2  #Lattice Volume\n",
    "epochs = 50000   #Number of states generated\n",
    "jumps = 1000     #Number of steps after which magnetization is calculated\n",
    "#Random.seed!(51)\n",
    "state = [RandomSpin() for i in 1:L3] #The 3D lattice is store as a 1D-Array\n",
    "neighbours = GetNeighbours(L,L2,L3)  #Matrix with the indexes of the 6 adjacent spins of each in the lattice\n",
    "Temperatures = [kk for kk in 0.5:.2:2.5 ]\n",
    "for kk in 1 ./Temperatures           #Loop over all tempetures\n",
    "    Proceed(state, kk, epochs, jumps, L, L2, L3, neighbours)\n",
    "end"
   ]
  },
  {
   "cell_type": "code",
   "execution_count": null,
   "id": "c34f5bd0",
   "metadata": {},
   "outputs": [],
   "source": [
    "\"\"\"---- Magnetization vs Temperature ----\"\"\"\n",
    "plot(T[5:30],Ms[5:30],seriestype = :scatter)"
   ]
  }
 ],
 "metadata": {
  "kernelspec": {
   "display_name": "Julia 1.7.2",
   "language": "julia",
   "name": "julia-1.7"
  },
  "language_info": {
   "file_extension": ".jl",
   "mimetype": "application/julia",
   "name": "julia",
   "version": "1.7.3"
  }
 },
 "nbformat": 4,
 "nbformat_minor": 5
}
