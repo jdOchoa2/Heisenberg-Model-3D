{
 "cells": [
  {
   "cell_type": "code",
   "execution_count": 1,
   "id": "b6aa4cbc",
   "metadata": {},
   "outputs": [
    {
     "name": "stderr",
     "output_type": "stream",
     "text": [
      "\u001b[32m\u001b[1m  Activating\u001b[22m\u001b[39m new project at `~/Repos/Heisenberg-Model-3D/Packages`\n"
     ]
    }
   ],
   "source": [
    "using Pkg\n",
    "Pkg.activate(\"./Packages/Project.toml\");"
   ]
  },
  {
   "cell_type": "code",
   "execution_count": 2,
   "id": "559f81da",
   "metadata": {},
   "outputs": [],
   "source": [
    "using Random"
   ]
  },
  {
   "cell_type": "code",
   "execution_count": 3,
   "id": "9e268cfe",
   "metadata": {},
   "outputs": [],
   "source": [
    "function RandomSpin()\n",
    "    \"\"\"Creates a random unit vector\"\"\"\n",
    "    θ = rand(0:1e-6:π)\n",
    "    ϕ = rand(0:1e-6:2π)\n",
    "    return [sin(θ)*cos(ϕ), sin(θ)*sin(ϕ), cos(θ)]\n",
    "end\n",
    "\n",
    "function AcceptanceProbability(Spin1, Spin2, n, βJ)\n",
    "    \"\"\"Computes the probability of adding Spin2 - neighbour of\n",
    "    Spin1 - to the cluster. It uses the energy βJ and the vector \n",
    "    of reflection n\"\"\"\n",
    "    return 1 - exp(min(0,-2βJ*transpose(Spin1)*n*transpose(Spin2)*n))\n",
    "end\n",
    "\n",
    "function ReflectSpin(S,n,state)\n",
    "    \"\"\"Reflectes the spin state[S] around the plane defined by the\n",
    "    normal vector n\"\"\"\n",
    "    state[S] -=  2(transpose(state[S])*n)*n\n",
    "end\n",
    "\n",
    "function GetNeighbours(x,L,L2,L3)\n",
    "    \"\"\"Gets the coordinates of the 6 neighbour spins of the one in index x. It uses \n",
    "    periodic boundery conditions in a 3D lattice of length L (area L2, volume L3). \n",
    "    The matriz it returns contains the neighbours as folows: \n",
    "    [Up-Down-Left-Right-Front-Back]\"\"\"\n",
    "    return [L2*((x-1)÷L2)+(x-1-L+L2)%L2+1,\n",
    "            L2*((x-1)÷L2)+(x-1+L)%L2+1,\n",
    "            L*((x-1)÷L)+(x+L-2)%L+1,\n",
    "            L*((x-1)÷L)+(x)%L+1,\n",
    "            (x-L2+L3-1)%L3+1,\n",
    "            (x+L2-1)%L3+1]\n",
    "end\n",
    "\n",
    "function Grow_Reflect(S, Cluster, n, βJ, L, L2, L3, state)\n",
    "    \"\"\"Checks every neighbour of spin state[S] and adds them to the Cluster given\n",
    "    a certain probability (See to AcceptanceProbability). Finally, it reflects\n",
    "    the spin around the normal vector n (Refair to ReflectSpin)\"\"\"\n",
    "    #Checks neighbours\n",
    "    for Sn in GetNeighbours(S,L,L2,L3)\n",
    "        if Sn ∉ Cluster && rand(0:1e-15:1) < AcceptanceProbability(state[S],state[Sn],n,βJ)\n",
    "            #Adds neighbour to Cluster\n",
    "            push!(Cluster,Sn)\n",
    "            #Checks neighbours of neighbour\n",
    "            Grow_Reflect(Sn, Cluster, n, βJ, L, L2, L3, state)\n",
    "        end\n",
    "    end\n",
    "    #Reflects the spin\n",
    "    ReflectSpin(S,n, state)\n",
    "end\n",
    "\n",
    "function NewState(state, L, L2, L3, βJ)\n",
    "    \"\"\"Chooses a randon spin from the state with lattice sice L, and also a\n",
    "    random normal vector. From there it builds the cluster using Wolff algorithm\n",
    "    (See Grow_Reflect)\"\"\"\n",
    "    n = RandomSpin()     #Initial random Normal Vector\n",
    "    #n = [0,0,1]         #Just for testing\n",
    "    S0 = rand(1:1:L3)    #Initial random Spin\n",
    "    Cluster = [S0]       #Stores the indexes of the spins added to the cluster\n",
    "    Grow_Reflect(S0, Cluster, n, βJ, L, L2, L3, state) #Builds cluster and flips states for new state\n",
    "    print(\"The Cluster contains:  \",Cluster,\"\\n\") #Just for testing\n",
    "end;"
   ]
  },
  {
   "cell_type": "code",
   "execution_count": 4,
   "id": "55f49809",
   "metadata": {},
   "outputs": [],
   "source": [
    "function RandomIsing()\n",
    "    \"\"\"Creates spins only in the z-axis (testing only)\"\"\"\n",
    "    return [0, 0, rand(-1:2:1)]\n",
    "end;"
   ]
  },
  {
   "cell_type": "code",
   "execution_count": 5,
   "id": "fcbf0884",
   "metadata": {},
   "outputs": [
    {
     "name": "stdout",
     "output_type": "stream",
     "text": [
      "The Cluster contains:  [18, 12, 17]\n"
     ]
    }
   ],
   "source": [
    "βJ = .5   #Energy of interaction (Quantified)\n",
    "L = 3     #Lattice size\n",
    "L2 = L*L  #Lattice Area\n",
    "L3 = L*L2 #Lattice Volume\n",
    "#state = [RandomIsing() for i in 1:L3] #Just for testing\n",
    "state = [RandomSpin() for i in 1:L3]   #The 3D lattice is store as a 1D-Array\n",
    "#print(state,\"\\n\\n\")\n",
    "#Random.seed!(51)\n",
    "NewState(state, L, L2, L3, βJ); #New state\n",
    "#print(\"\\n\",state)"
   ]
  }
 ],
 "metadata": {
  "kernelspec": {
   "display_name": "Julia 1.7.2",
   "language": "julia",
   "name": "julia-1.7"
  },
  "language_info": {
   "file_extension": ".jl",
   "mimetype": "application/julia",
   "name": "julia",
   "version": "1.7.3"
  }
 },
 "nbformat": 4,
 "nbformat_minor": 5
}
