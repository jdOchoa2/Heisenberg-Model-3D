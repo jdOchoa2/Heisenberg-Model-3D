{
 "cells": [
  {
   "cell_type": "markdown",
   "id": "46a3bdcc",
   "metadata": {},
   "source": [
    "\\begin{equation}\n",
    "    k_B = J = 1\n",
    "\\end{equation}"
   ]
  },
  {
   "cell_type": "code",
   "execution_count": 1,
   "id": "b6aa4cbc",
   "metadata": {},
   "outputs": [
    {
     "name": "stderr",
     "output_type": "stream",
     "text": [
      "\u001b[32m\u001b[1m  Activating\u001b[22m\u001b[39m project at `~/Repos/Heisenberg-Model-3D/Packages`\n"
     ]
    }
   ],
   "source": [
    "using Pkg\n",
    "Pkg.activate(\"./Packages/Project.toml\");"
   ]
  },
  {
   "cell_type": "code",
   "execution_count": 2,
   "id": "559f81da",
   "metadata": {},
   "outputs": [],
   "source": [
    "using LinearAlgebra\n",
    "using Random"
   ]
  },
  {
   "cell_type": "code",
   "execution_count": 3,
   "id": "9e268cfe",
   "metadata": {},
   "outputs": [],
   "source": [
    "function RandomSpin()\n",
    "    \"\"\"Creates a random unit vector from an homogenous distribution\n",
    "    on the unit sphere\"\"\"\n",
    "    θ = acos(1-rand(0:1e-6:2))\n",
    "    ϕ = rand(0:1e-6:2π)\n",
    "    return [sin(θ)*cos(ϕ), sin(θ)*sin(ϕ), cos(θ)]\n",
    "end\n",
    "\n",
    "function AcceptanceProbability(Spin1, Spin2, n, β)\n",
    "    \"\"\"Computes the probability of adding Spin2 - neighbour of\n",
    "    Spin1 - to the cluster. It uses the temperature β and the \n",
    "    vector of reflection n\"\"\"\n",
    "    return 1 - exp(min(0,-2β*transpose(Spin1)*n*transpose(Spin2)*n))\n",
    "end\n",
    "\n",
    "function ReflectSpin(S,n,state)\n",
    "    \"\"\"Reflectes the spin state[S] around the plane defined by the\n",
    "    normal vector n\"\"\"\n",
    "    state[S] -=  2(transpose(state[S])*n)*n\n",
    "end\n",
    "\n",
    "function GetNeighbours(L,L2,L3)\n",
    "    \"\"\"Gets the coordinates of the 6 neighbours of every spin in the state. It uses \n",
    "    periodic boundery conditions in a 3D lattice of length L (area L2, volume L3). \n",
    "    The L3 × 6 matriz it returns contains the neighbours as folows: \n",
    "    [Up-Down-Left-Right-Front-Back]\"\"\"\n",
    "    Neighbours = zeros(Int16,L3,6)\n",
    "    for x in 1:L3\n",
    "        Neighbours[x,:] = [L2*((x-1)÷L2)+(x-1-L+L2)%L2+1,\n",
    "            L2*((x-1)÷L2)+(x-1+L)%L2+1,\n",
    "            L*((x-1)÷L)+(x+L-2)%L+1,\n",
    "            L*((x-1)÷L)+(x)%L+1,\n",
    "            (x-L2+L3-1)%L3+1,\n",
    "            (x+L2-1)%L3+1]\n",
    "    end\n",
    "    return Neighbours\n",
    "end\n",
    "\n",
    "function Grow_Reflect(S, Cluster, n, β, L, L2, L3, state, neighbours)\n",
    "    \"\"\"Checks every neighbour of spin state[S] and adds them to the Cluster given\n",
    "        a certain probability (refair to AcceptanceProbability). Finally, it \n",
    "        reflects the spin around the normal vector n (refair to ReflectSpin)\"\"\"\n",
    "    #Checks neighbours\n",
    "    for Sn in neighbours[S,:]\n",
    "        if Sn ∉ Cluster && rand(0:1e-15:1) < AcceptanceProbability(state[S],state[Sn],n,β)\n",
    "            #Adds neighbour to Cluster\n",
    "            push!(Cluster,Sn)\n",
    "            #Checks neighbours of neighbour\n",
    "            Grow_Reflect(Sn, Cluster, n, β, L, L2, L3, state, neighbours)\n",
    "        end\n",
    "    end\n",
    "    #Reflects the spin\n",
    "    ReflectSpin(S,n, state)\n",
    "end\n",
    "\n",
    "function NewState(state, L, L2, L3, β, neighbours)\n",
    "    \"\"\"Chooses a randon spin from the state with lattice sice L, and also a\n",
    "    random normal vector. From there it builds the cluster using Wolff algorithm\n",
    "    (see Grow_Reflect)\"\"\"\n",
    "    n = RandomSpin()     #Initial random Normal Vector\n",
    "    S0 = rand(1:1:L3)    #Initial random Spin\n",
    "    Cluster = [S0]       #Stores the indexes of the spins added to the cluster\n",
    "    Grow_Reflect(S0, Cluster, n, β, L, L2, L3, state, neighbours) #Builds cluster and flips for new state\n",
    "    return length(Cluster)\n",
    "end;"
   ]
  },
  {
   "cell_type": "code",
   "execution_count": 4,
   "id": "b297befe",
   "metadata": {},
   "outputs": [],
   "source": [
    "function Magnetization(state)\n",
    "    \"\"\"Returns the magnetization as the norm of the sum of all spins in the grid\"\"\"\n",
    "    return norm(sum(state))\n",
    "end\n",
    "\n",
    "function Energy(state,L3,neighbours)\n",
    "    \"\"\"Returns the energy of a state\"\"\"\n",
    "    energy = 0.0\n",
    "    #Goes through every spin in the lattice\n",
    "    for ii in 1:L3  \n",
    "        Sp = [0,0,0]\n",
    "        #Only checks 3 out the 6 neighbourds to avoid double counting of bounderies\n",
    "        for Sn in neighbours[ii,[2,4,6]] \n",
    "           Sp += state[Sn]\n",
    "        end\n",
    "        energy -= dot(Sp,state[ii])\n",
    "    end\n",
    "    return energy\n",
    "end;"
   ]
  },
  {
   "cell_type": "code",
   "execution_count": 5,
   "id": "e0dcfa15",
   "metadata": {},
   "outputs": [],
   "source": [
    "function Proceed(state, β, n_samples, L, L2, L3, neighbours,τ)\n",
    "    \"\"\"For a single value of β in a lattice of size L, creates a sequence of \n",
    "    states and meassures the observables for the de-correlated configurations.\n",
    "    Then it prints the desired quantities.\"\"\"\n",
    "    Mmean,M2mean,M4mean,Emean,E2mean,p = zeros(6)\n",
    "    progress = 0      #Samples taken\n",
    "    while progress < n_samples\n",
    "        M = Magnetization(state); E = Energy(state,L3,neighbours)\n",
    "        Mmean += M; M2mean += M*M; M4mean += M^4 \n",
    "        Emean += E; E2mean += E*E\n",
    "        t = 0         #Current virtual time in MCSS\n",
    "        while t < τ \n",
    "            mcss = 0  #Number of spins flipped\n",
    "            while mcss < L3 \n",
    "                mcss += NewState(state, L, L2, L3, β, neighbours) \n",
    "            end \n",
    "        t += 1 \n",
    "        end\n",
    "        p += NewState(state, L, L2, L3, β, neighbours) #Additional step just to get the cluster size\n",
    "        progress += 1 \n",
    "    end\n",
    "    Mmean /= n_samples; M2mean /= n_samples; M4mean /= n_samples\n",
    "    Emean /= n_samples; E2mean /= n_samples; p /= n_samples\n",
    "    χ  = β*(M2mean-Mmean*Mmean)\n",
    "    Cv = β*β*(E2mean-Mmean*Mmean)\n",
    "    U  = 1. - 1. /3. *(M4mean/(M2mean*M2mean))\n",
    "    print(β,\" \",Mmean,\" \",M2mean,\" \",M4mean,\" \",Emean,\" \",E2mean,\" \",p,\" \",χ,\" \",Cv,\" \",U,\"\\n\")\n",
    "end;"
   ]
  },
  {
   "cell_type": "code",
   "execution_count": 6,
   "id": "29db8efd",
   "metadata": {},
   "outputs": [],
   "source": [
    "\"\"\"----- MAIN -----\"\"\"\n",
    "L = 10  #Lattice size\n",
    "L2 = L*L   #Lattice Area\n",
    "L3 = L*L2  #Lattice Volume\n",
    "n_samples = 1000\n",
    "τ = 10\n",
    "#Random.seed!(51)\n",
    "neighbours = GetNeighbours(L,L2,L3)  #Matrix with the indexes of the 6 adjacent spins of each in the lattice\n",
    "Temperatures = [kk for kk in 0.7:.1:2.1 ]\n",
    "βs = 1 ./ Temperatures;"
   ]
  },
  {
   "cell_type": "code",
   "execution_count": 7,
   "id": "d7b824d5",
   "metadata": {
    "scrolled": true
   },
   "outputs": [
    {
     "name": "stdout",
     "output_type": "stream",
     "text": [
      "1.4285714285714286 811.5385837103754 659314.1845915567 4.3535446993240735e11 -2241.820172281932 5.031409046363582e6 504.981 1027.5882013067271 8.924110558189673e6 0.666161120145892\n",
      "1.25 776.9775739970197 604377.8044486349 3.6594692629175903e11 -2117.8935361765216 4.490540316019177e6 478.94 854.5674429257633 6.07319713363263e6 0.6660512396222213\n",
      "1.1111111111111112 740.5961972675726 549162.0380196997 3.022593810190027e11 -1988.9950456602066 3.9611816437109965e6 414.208 754.7895694560268 4.213208538646676e6 0.6659145838587368\n",
      "1.0 698.8989753660751 489167.57012599445 2.4003110772360657e11 -1850.0877501132693 3.4276082930445806e6 365.113 707.7923582448275 2.939148515276831e6 0.6656271860806002\n",
      "0.9090909090909091 650.0836459882772 423390.3793114398 1.800801733282495e11 -1703.1270703023638 2.9054080823441534e6 319.038 710.5750272982351 2.05190027732458e6 0.6651404613018921\n",
      "0.8333333333333334 592.2551936587544 351686.87311681383 1.246156164807812e11 -1535.712382248051 2.3633047657591e6 262.103 767.2155842043383 1.397596216210647e6 0.6641549908241882\n",
      "0.7692307692307692 514.3459274926987 265926.6253442447 7.196171804629733e10 -1351.774036386591 1.832627991660612e6 189.641 1057.6093968616958 927855.77427946 0.6607993904992437\n",
      "0.7142857142857143 407.00408628070403 168469.68383902597 3.002686834984049e10 -1140.3137667616322 1.3059409851401213e6 120.322 2012.3982784537034 581779.9280055768 0.6473488832710994\n",
      "0.6666666666666666 257.2080477424765 70649.71452502438 6.107554282380981e9 -930.6463027656904 870696.692242104 49.508 2995.82313435221 357573.6499638257 0.5921267173712212\n",
      "0.625 158.44201011354795 28692.277675427275 1.219466034220772e9 -801.9481256911097 646354.6506410114 18.727 2242.7544416285264 242676.0859656991 0.5062371588198382\n",
      "0.5882352941176471 114.09886712136256 15163.761911565576 3.6944674829340065e8 -716.789478573424 516371.4633352285 10.391 1261.8884901101335 174170.55773593433 0.4644294598945272\n",
      "0.5555555555555556 89.20297373297215 9400.827917924398 1.4568090490864965e8 -653.3804347444328 429078.7318096229 6.372 802.0318861772658 129975.79052062273 0.4505234412004523\n",
      "0.5263157894736842 79.43851293607146 7338.647072387111 8.569148266422017e7 -606.071776734871 369210.2892068991 5.534 541.1419657330096 100526.26367573538 0.4696233474407906\n",
      "0.5 70.28401268570455 5808.979150989887 5.633402666183963e7 -565.17117741546 321278.9701413234 4.432 434.568355892804 79084.78192552978 0.44351955865479664\n",
      "0.47619047619047616 64.84848165339048 4924.280307732046 3.893455960044194e7 -530.8044897483064 283373.93933528574 4.029 342.35939761044 63303.54053572236 0.4647847507336309\n"
     ]
    }
   ],
   "source": [
    "for kk in βs                         #Loop over all tempetures\n",
    "    state = [RandomSpin() for i in 1:L3] #The 3D lattice is store as a 1D-Array\n",
    "    Proceed(state, kk, n_samples, L, L2, L3, neighbours,τ)\n",
    "end"
   ]
  }
 ],
 "metadata": {
  "kernelspec": {
   "display_name": "Julia 1.7.2",
   "language": "julia",
   "name": "julia-1.7"
  },
  "language_info": {
   "file_extension": ".jl",
   "mimetype": "application/julia",
   "name": "julia",
   "version": "1.7.3"
  }
 },
 "nbformat": 4,
 "nbformat_minor": 5
}
