{
 "cells": [
  {
   "cell_type": "markdown",
   "id": "c9073278",
   "metadata": {
    "papermill": {
     "duration": 0.010984,
     "end_time": "2022-12-05T22:55:22.114368",
     "exception": false,
     "start_time": "2022-12-05T22:55:22.103384",
     "status": "completed"
    },
    "tags": []
   },
   "source": [
    "# Wolff Algorithm and Broad Histogram method for 3D Heisenberg Model"
   ]
  },
  {
   "cell_type": "markdown",
   "id": "74028509",
   "metadata": {
    "papermill": {
     "duration": 0.010465,
     "end_time": "2022-12-05T22:55:22.134642",
     "exception": false,
     "start_time": "2022-12-05T22:55:22.124177",
     "status": "completed"
    },
    "tags": []
   },
   "source": [
    "## Packages"
   ]
  },
  {
   "cell_type": "code",
   "execution_count": 1,
   "id": "5d997ea2",
   "metadata": {
    "_cell_guid": "b1076dfc-b9ad-4769-8c92-a6c4dae69d19",
    "_uuid": "8f2839f25d086af736a60e9eeb907d3b93b6e0e5",
    "execution": {
     "iopub.execute_input": "2022-12-05T22:55:22.155801Z",
     "iopub.status.busy": "2022-12-05T22:55:22.155322Z",
     "iopub.status.idle": "2022-12-05T22:55:23.593767Z",
     "shell.execute_reply": "2022-12-05T22:55:23.592908Z"
    },
    "papermill": {
     "duration": 1.451847,
     "end_time": "2022-12-05T22:55:23.596060",
     "exception": false,
     "start_time": "2022-12-05T22:55:22.144213",
     "status": "completed"
    },
    "tags": []
   },
   "outputs": [],
   "source": [
    "try:\n",
    "    from tqdm.notebook import tqdm as tq\n",
    "except:\n",
    "    !pip install tqdm\n",
    "    !pip install ipywidgets\n",
    "    from tqdm.notebook import tqdm as tq\n",
    "\n",
    "import numpy as np\n",
    "from scipy import integrate\n",
    "from matplotlib import rcParams\n",
    "import matplotlib.pyplot as plt\n",
    "import numba as nb\n",
    "import seaborn as sns\n",
    "import pandas as pd\n",
    "from numba import prange\n",
    "import time as tm\n",
    "from tqdm.notebook import tqdm as tq\n",
    "\n",
    "from scipy.optimize import curve_fit\n",
    "\n",
    "rcParams.update({'font.size': 11.5})"
   ]
  },
  {
   "cell_type": "markdown",
   "id": "cb29b035",
   "metadata": {
    "papermill": {
     "duration": 0.009481,
     "end_time": "2022-12-05T22:55:23.615528",
     "exception": false,
     "start_time": "2022-12-05T22:55:23.606047",
     "status": "completed"
    },
    "tags": []
   },
   "source": [
    "# General functions"
   ]
  },
  {
   "cell_type": "markdown",
   "id": "0e0e0319",
   "metadata": {
    "papermill": {
     "duration": 0.009428,
     "end_time": "2022-12-05T22:55:23.634620",
     "exception": false,
     "start_time": "2022-12-05T22:55:23.625192",
     "status": "completed"
    },
    "tags": []
   },
   "source": [
    "## Initilization and neighbors"
   ]
  },
  {
   "cell_type": "code",
   "execution_count": 2,
   "id": "488cedc8",
   "metadata": {
    "execution": {
     "iopub.execute_input": "2022-12-05T22:55:23.656679Z",
     "iopub.status.busy": "2022-12-05T22:55:23.656352Z",
     "iopub.status.idle": "2022-12-05T22:55:23.914887Z",
     "shell.execute_reply": "2022-12-05T22:55:23.914021Z"
    },
    "papermill": {
     "duration": 0.272181,
     "end_time": "2022-12-05T22:55:23.917123",
     "exception": false,
     "start_time": "2022-12-05T22:55:23.644942",
     "status": "completed"
    },
    "tags": []
   },
   "outputs": [],
   "source": [
    "def gaussian(x, A, mu, sigma):\n",
    "    return A*np.exp(-(x-mu)**2/sigma**2)\n",
    "\n",
    "@nb.njit\n",
    "def random_initialize(L):\n",
    "    \"\"\"Generates a random initialization of the spins lattice.\n",
    "    Args:\n",
    "        L (int): Length of the lattice\n",
    "    Returns:\n",
    "        S (array): (L^3 x 3) array where each row represents a spin and each column contains\n",
    "                    its components in x, y and z.\n",
    "    \"\"\"\n",
    "    N = L**3\n",
    "    S = np.zeros((N,3))\n",
    "    PHI = np.random.uniform(0, 2*np.pi, N)\n",
    "    THETA = np.random.uniform(0, np.pi, N)\n",
    "    Sx = np.sin(THETA)*np.cos(PHI)\n",
    "    Sy = np.sin(THETA)*np.sin(PHI)\n",
    "    Sz = np.cos(THETA)\n",
    "    S[:,0], S[:,1], S[:,2] = Sx, Sy, Sz \n",
    "    return S\n",
    "\n",
    "@nb.njit\n",
    "def get_neighbors(L):\n",
    "    \"\"\"\n",
    "    Args:\n",
    "        L (int): Length of the lattice\n",
    "    Returns:\n",
    "        nbr (array): (L^3 x 6) array where each row represents a spin and each column the\n",
    "                    the index of its neighbors.\n",
    "    \"\"\"\n",
    "    N = L**3\n",
    "    nbr = np.zeros((N,6),dtype=np.int32)\n",
    "    for i in range(N):\n",
    "        nbr[i,:] = [(i // L) * L + (i - 1) % L, (i // L) * L + (i + 1) % L,\n",
    "               (i + L) % N, (i - L) % N, (i + L**2) % N, (i - L**2) % N]\n",
    "    return nbr\n",
    "\n",
    "def central_diff(Y, X):\n",
    "    n = Y.shape[0]\n",
    "    dy_dx = np.zeros(n-2)\n",
    "    for i in range(n-2):\n",
    "        dy_dx[i] = (Y[i+2]-Y[i])/(X[i+2]-X[i])\n",
    "    return dy_dx"
   ]
  },
  {
   "cell_type": "code",
   "execution_count": 3,
   "id": "90163747",
   "metadata": {
    "execution": {
     "iopub.execute_input": "2022-12-05T22:55:23.939282Z",
     "iopub.status.busy": "2022-12-05T22:55:23.939005Z",
     "iopub.status.idle": "2022-12-05T22:55:23.946882Z",
     "shell.execute_reply": "2022-12-05T22:55:23.946045Z"
    },
    "papermill": {
     "duration": 0.020626,
     "end_time": "2022-12-05T22:55:23.948559",
     "exception": false,
     "start_time": "2022-12-05T22:55:23.927933",
     "status": "completed"
    },
    "tags": []
   },
   "outputs": [],
   "source": [
    "@nb.njit\n",
    "def Metropolis(S, nbr, T, n_flips):\n",
    "    N = S.shape[0]\n",
    "    for step in range(n_flips):       \n",
    "        # Random vector r\n",
    "        phi = np.random.uniform(0, 2*np.pi)\n",
    "        z = np.random.uniform(-1,1)\n",
    "        theta = np.arccos(z)\n",
    "        r = np.array([np.sin(theta)*np.cos(phi),\n",
    "                      np.sin(theta)*np.sin(phi),\n",
    "                      np.cos(theta)])\n",
    "        \n",
    "        # Generate and flip cluster at site k\n",
    "        k = np.random.randint(0, N)\n",
    "        A_k = np.sum(S[nbr[k]],axis=0)\n",
    "        Anorm = np.linalg.norm(A_k)\n",
    "        S_k = S[k]\n",
    "        # Calculate the old and new energy (assumin the flip is accepted):\n",
    "        ek_old = -np.dot(S_k, A_k)\n",
    "        S_k = S_k - 2*np.dot(S_k, r)*r\n",
    "        ek_new = -np.dot(S_k, A_k)\n",
    "        DeltaE = ek_new - ek_old\n",
    "        p = np.exp(-DeltaE/T) # Probability of accepting the move\n",
    "        if np.random.random() < p:\n",
    "            S[k] = S_k # Accept the move with probability p\n",
    "    return S"
   ]
  },
  {
   "cell_type": "markdown",
   "id": "178f68ba",
   "metadata": {
    "papermill": {
     "duration": 0.009618,
     "end_time": "2022-12-05T22:55:23.968467",
     "exception": false,
     "start_time": "2022-12-05T22:55:23.958849",
     "status": "completed"
    },
    "tags": []
   },
   "source": [
    "## Thermodynamic quantities"
   ]
  },
  {
   "cell_type": "code",
   "execution_count": 4,
   "id": "630494ea",
   "metadata": {
    "execution": {
     "iopub.execute_input": "2022-12-05T22:55:23.989988Z",
     "iopub.status.busy": "2022-12-05T22:55:23.989195Z",
     "iopub.status.idle": "2022-12-05T22:55:23.996925Z",
     "shell.execute_reply": "2022-12-05T22:55:23.996329Z"
    },
    "papermill": {
     "duration": 0.020273,
     "end_time": "2022-12-05T22:55:23.998596",
     "exception": false,
     "start_time": "2022-12-05T22:55:23.978323",
     "status": "completed"
    },
    "tags": []
   },
   "outputs": [],
   "source": [
    "def DoS(E_vals, beta):\n",
    "    \"\"\"\n",
    "    Args:\n",
    "        beta\n",
    "    Returns:\n",
    "        DoS (array): Density of states / DoS at E0\n",
    "    \"\"\"\n",
    "    num_energies = E_vals.shape[0]\n",
    "    entropy = np.zeros(num_energies)\n",
    "    for i in range(num_energies):\n",
    "        entropy[i] = integrate.trapezoid(beta[:i+1], E_vals[:i+1])\n",
    "    return entropy\n",
    "\n",
    "@nb.njit\n",
    "def calculate_energy(S, nbr):\n",
    "    \"\"\"\n",
    "    Args:\n",
    "        S (array): Lattice\n",
    "        nbr (array): Neighbors\n",
    "    Returns:\n",
    "        E (float): Energy\n",
    "    \"\"\"\n",
    "    N = S.shape[0]\n",
    "    E = 0\n",
    "    for i in prange(N):\n",
    "        nbrs_i = nbr[i]\n",
    "        S_i = S[i]\n",
    "        for ii in nbrs_i:\n",
    "            E += -np.dot(S[ii], S_i)\n",
    "    E = E/2\n",
    "    return E\n",
    "\n",
    "@nb.njit\n",
    "def calculate_magnet(S):\n",
    "    \"\"\"\n",
    "    Args:\n",
    "        S (array): Lattice\n",
    "    Returns:\n",
    "        M (float): Magentization calculated as the norm of the sum of all spin vectors\n",
    "    \"\"\"\n",
    "    S_sum = np.sum(S, axis=0)\n",
    "    return np.linalg.norm(S_sum)"
   ]
  },
  {
   "cell_type": "code",
   "execution_count": 5,
   "id": "877eecd1",
   "metadata": {
    "execution": {
     "iopub.execute_input": "2022-12-05T22:55:24.019304Z",
     "iopub.status.busy": "2022-12-05T22:55:24.019023Z",
     "iopub.status.idle": "2022-12-05T22:55:25.464219Z",
     "shell.execute_reply": "2022-12-05T22:55:25.463135Z"
    },
    "papermill": {
     "duration": 1.458588,
     "end_time": "2022-12-05T22:55:25.466935",
     "exception": false,
     "start_time": "2022-12-05T22:55:24.008347",
     "status": "completed"
    },
    "tags": []
   },
   "outputs": [
    {
     "name": "stdout",
     "output_type": "stream",
     "text": [
      "Energy1 =  -66.79549501187664\n",
      "Energy2 = -3000.0\n"
     ]
    }
   ],
   "source": [
    "def test_calculate_energy(L):\n",
    "    nbr = get_neighbors(L)\n",
    "    S = random_initialize(L)\n",
    "    E = calculate_energy(S, nbr)\n",
    "    print('Energy1 = ', E)\n",
    "    S = np.zeros((L**3,3))\n",
    "    S[:,0] = 1\n",
    "    E = calculate_energy(S, nbr)\n",
    "    print('Energy2 =', E)\n",
    "\n",
    "test_calculate_energy(10)"
   ]
  },
  {
   "cell_type": "markdown",
   "id": "f86274e9",
   "metadata": {
    "papermill": {
     "duration": 0.00981,
     "end_time": "2022-12-05T22:55:25.488381",
     "exception": false,
     "start_time": "2022-12-05T22:55:25.478571",
     "status": "completed"
    },
    "tags": []
   },
   "source": [
    "# Wolff Clusters Algorithm"
   ]
  },
  {
   "cell_type": "code",
   "execution_count": 6,
   "id": "b2ab5baa",
   "metadata": {
    "execution": {
     "iopub.execute_input": "2022-12-05T22:55:25.509734Z",
     "iopub.status.busy": "2022-12-05T22:55:25.509429Z",
     "iopub.status.idle": "2022-12-05T22:55:25.524257Z",
     "shell.execute_reply": "2022-12-05T22:55:25.523251Z"
    },
    "papermill": {
     "duration": 0.028014,
     "end_time": "2022-12-05T22:55:25.526377",
     "exception": false,
     "start_time": "2022-12-05T22:55:25.498363",
     "status": "completed"
    },
    "tags": []
   },
   "outputs": [],
   "source": [
    "@nb.njit\n",
    "def p_acc(T, r, s_i, s_j):\n",
    "    \"\"\"\n",
    "    Args:\n",
    "        T (float): Temperature\n",
    "        r (array): Random vector along which the cluster will be flipped\n",
    "        s_i (array): Spin i\n",
    "        s_j (array): Spin j (neighbor to add/reject)\n",
    "    Returns:\n",
    "        p (float): Probability of accepting a neighboring spin in the cluster\n",
    "    \"\"\"\n",
    "    beta = 1/T\n",
    "    p = 1-np.exp(min(0,-2*beta*(np.dot(r, s_i))*np.dot(r, s_j))) \n",
    "    return p\n",
    "\n",
    "@nb.njit\n",
    "def add_neighbors(neighbors, j, T, r, S, Pocket, Cluster):\n",
    "    \"\"\"\n",
    "    Args:\n",
    "        T (float): Temperature\n",
    "        r (array): Random vector along which the cluster will be flipped\n",
    "        s_i (array): Spin i\n",
    "        s_j (array): Spin j (neighbor to add/reject)\n",
    "    Returns:\n",
    "        p (float): Probability of accepting a neighboring spin in the cluster\n",
    "    \"\"\"\n",
    "    for ii in range(neighbors[j].shape[0]):\n",
    "        l = int(neighbors[j][ii])\n",
    "        p = p_acc(T, r, S[j,:], S[l,:])\n",
    "        if (l not in Cluster) and np.random.random() < p:\n",
    "            Pocket = np.append(Pocket, l)\n",
    "            Cluster = np.append(Cluster, l)\n",
    "    return Pocket, Cluster\n",
    "\n",
    "@nb.njit\n",
    "def generate_and_flip_cluster(S, neighbors, k, T, r):\n",
    "    Pocket, Cluster = np.array([k], dtype=np.int32), np.array([k], dtype=np.int32)\n",
    "    while Pocket.shape[0] != 0:\n",
    "        index_j = np.random.randint(0, Pocket.shape[0])\n",
    "        j = int(Pocket[index_j])\n",
    "        Pocket, Cluster = add_neighbors(neighbors, j, T, r, S, Pocket, Cluster)\n",
    "        Pocket = np.delete(Pocket, index_j)\n",
    "    for i in Cluster:\n",
    "        S[i] = S[i] - 2*np.dot(S[i], r)*r\n",
    "    return S, Cluster.shape[0]\n",
    "\n",
    "@nb.njit\n",
    "def cluster_sample(S, nbr, T, c, tau):\n",
    "    \"\"\"\n",
    "    Returns:\n",
    "        S, E, M\n",
    "    \"\"\"\n",
    "    N = S.shape[0] # Total number of spins\n",
    "    # Generate cluster configuration with n_flips\n",
    "    total_size = 0\n",
    "    for i in range(int(c*tau)):\n",
    "        while total_size<N:       \n",
    "            # Random vector r\n",
    "            phi = np.random.uniform(0, 2*np.pi)\n",
    "            z = np.random.uniform(-1,1)\n",
    "            theta = np.arccos(z)\n",
    "            r = np.array([np.sin(theta)*np.cos(phi),\n",
    "                          np.sin(theta)*np.sin(phi),\n",
    "                          np.cos(theta)])\n",
    "\n",
    "            # Generate and flip cluster at site k\n",
    "            k = np.random.randint(0, N)\n",
    "            S, size_cluster = generate_and_flip_cluster(S, nbr, k, T, r)\n",
    "            total_size += size_cluster\n",
    "    E = calculate_energy(S, nbr)\n",
    "    M = calculate_magnet(S)\n",
    "    return S, E, M"
   ]
  },
  {
   "cell_type": "code",
   "execution_count": 7,
   "id": "8bedd006",
   "metadata": {
    "execution": {
     "iopub.execute_input": "2022-12-05T22:55:25.548221Z",
     "iopub.status.busy": "2022-12-05T22:55:25.547874Z",
     "iopub.status.idle": "2022-12-05T22:55:25.554749Z",
     "shell.execute_reply": "2022-12-05T22:55:25.553939Z"
    },
    "papermill": {
     "duration": 0.019717,
     "end_time": "2022-12-05T22:55:25.556439",
     "exception": false,
     "start_time": "2022-12-05T22:55:25.536722",
     "status": "completed"
    },
    "tags": []
   },
   "outputs": [],
   "source": [
    "@nb.njit\n",
    "def thermo_T(S, nbr, T, n_samples, c, tau):\n",
    "    \"\"\"Calculates the thermodynamic quantities at a given temperature\n",
    "    Args:\n",
    "        S (array)\n",
    "        nbr (array)\n",
    "        T (float): Temperature > 0\n",
    "        n_samples (int): Number of values to calculate\n",
    "        \n",
    "    Returns:\n",
    "        S (array)\n",
    "        M (float): Magnetization\n",
    "        Cv (float): Heat capacity\n",
    "        Xm (float): Magnetic Susceptibility\n",
    "    \"\"\"\n",
    "    M, M2 = 0, 0\n",
    "    E, E2 = 0, 0\n",
    "    N = S.shape[0]\n",
    "    for i in range(n_samples):\n",
    "        S, E_current, M_current = cluster_sample(S, nbr, T, c, tau)\n",
    "        E += E_current\n",
    "        E2 += E_current**2\n",
    "        M += M_current\n",
    "        M2 += M_current**2\n",
    "    M = M/n_samples\n",
    "    Xm = (M2/n_samples - M**2)/T\n",
    "    Cv = (E2/n_samples - (E/n_samples)**2)/(T**2)\n",
    "    E = E/n_samples\n",
    "    return S, (M, Xm, E, Cv)"
   ]
  },
  {
   "cell_type": "code",
   "execution_count": 8,
   "id": "9c1ff550",
   "metadata": {
    "execution": {
     "iopub.execute_input": "2022-12-05T22:55:25.577283Z",
     "iopub.status.busy": "2022-12-05T22:55:25.577004Z",
     "iopub.status.idle": "2022-12-05T23:19:14.101194Z",
     "shell.execute_reply": "2022-12-05T23:19:14.100298Z"
    },
    "papermill": {
     "duration": 1428.590981,
     "end_time": "2022-12-05T23:19:14.157339",
     "exception": false,
     "start_time": "2022-12-05T22:55:25.566358",
     "status": "completed"
    },
    "tags": []
   },
   "outputs": [
    {
     "data": {
      "application/vnd.jupyter.widget-view+json": {
       "model_id": "882e9b81595247feb1efe67c316b6685",
       "version_major": 2,
       "version_minor": 0
      },
      "text/plain": [
       "  0%|          | 0/30 [00:00<?, ?it/s]"
      ]
     },
     "metadata": {},
     "output_type": "display_data"
    }
   ],
   "source": [
    "n_temps = 30 # Number of temperature values \n",
    "T_vals = np.linspace(2.5, 0.5, n_temps)\n",
    "Thermo_W = np.zeros((n_temps, 4))\n",
    "L = 10\n",
    "tau = 3\n",
    "c = 3 # Safety factor\n",
    "S = random_initialize(L)\n",
    "nbr = get_neighbors(L)\n",
    "t = tq(range(n_temps))\n",
    "n_samples = 16000 # Number n of samples for calculating the thermal average\n",
    "for ii in t:\n",
    "    # First thermalize to desired temperautre\n",
    "    S, _, _  = cluster_sample(S, nbr, T_vals[ii], c, tau)\n",
    "    S, Thermo_W[ii, :] = thermo_T(S, nbr, T_vals[ii], n_samples, c, tau)\n",
    "    t.set_description(\"T = {:.3f} : \".format(T_vals[ii]))"
   ]
  },
  {
   "cell_type": "code",
   "execution_count": 9,
   "id": "d868d59e",
   "metadata": {
    "execution": {
     "iopub.execute_input": "2022-12-05T23:19:14.179343Z",
     "iopub.status.busy": "2022-12-05T23:19:14.179008Z",
     "iopub.status.idle": "2022-12-05T23:19:14.714017Z",
     "shell.execute_reply": "2022-12-05T23:19:14.713187Z"
    },
    "papermill": {
     "duration": 0.548011,
     "end_time": "2022-12-05T23:19:14.715683",
     "exception": false,
     "start_time": "2022-12-05T23:19:14.167672",
     "status": "completed"
    },
    "tags": []
   },
   "outputs": [
    {
     "data": {
      "text/plain": [
       "<matplotlib.legend.Legend at 0x7fe35f7b8690>"
      ]
     },
     "execution_count": 9,
     "metadata": {},
     "output_type": "execute_result"
    },
    {
     "data": {
      "image/png": "[encoded data removed]",
      "text/plain": [
       "<Figure size 432x288 with 1 Axes>"
      ]
     },
     "metadata": {
      "needs_background": "light"
     },
     "output_type": "display_data"
    }
   ],
   "source": [
    "plt.plot(T_vals, Thermo_W[:,0]/1000,'ko-',mfc='w',label='L={}'.format(L))\n",
    "plt.xlabel('Temperature')\n",
    "plt.ylabel(r'$\\langle M\\rangle_T$')\n",
    "plt.legend()\n",
    "# plt.savefig('L_{}.jpg'.format(L), bbox_inches='tight')"
   ]
  },
  {
   "cell_type": "code",
   "execution_count": 10,
   "id": "aca190df",
   "metadata": {
    "execution": {
     "iopub.execute_input": "2022-12-05T23:19:14.738280Z",
     "iopub.status.busy": "2022-12-05T23:19:14.737959Z",
     "iopub.status.idle": "2022-12-05T23:19:14.908693Z",
     "shell.execute_reply": "2022-12-05T23:19:14.907857Z"
    },
    "papermill": {
     "duration": 0.184514,
     "end_time": "2022-12-05T23:19:14.910793",
     "exception": false,
     "start_time": "2022-12-05T23:19:14.726279",
     "status": "completed"
    },
    "tags": []
   },
   "outputs": [
    {
     "data": {
      "text/plain": [
       "<matplotlib.legend.Legend at 0x7fe35c5da050>"
      ]
     },
     "execution_count": 10,
     "metadata": {},
     "output_type": "execute_result"
    },
    {
     "data": {
      "image/png": "[encoded data removed]",
      "text/plain": [
       "<Figure size 432x288 with 1 Axes>"
      ]
     },
     "metadata": {
      "needs_background": "light"
     },
     "output_type": "display_data"
    }
   ],
   "source": [
    "plt.plot(T_vals, Thermo_W[:,1],'ko-',mfc='w',label='L={}'.format(L))\n",
    "plt.xlabel('Temperature')\n",
    "plt.ylabel(r'$X_m$ per site')\n",
    "plt.legend()"
   ]
  },
  {
   "cell_type": "code",
   "execution_count": 11,
   "id": "e7f71dfe",
   "metadata": {
    "execution": {
     "iopub.execute_input": "2022-12-05T23:19:14.934176Z",
     "iopub.status.busy": "2022-12-05T23:19:14.933842Z",
     "iopub.status.idle": "2022-12-05T23:19:15.100311Z",
     "shell.execute_reply": "2022-12-05T23:19:15.099236Z"
    },
    "papermill": {
     "duration": 0.181366,
     "end_time": "2022-12-05T23:19:15.103342",
     "exception": false,
     "start_time": "2022-12-05T23:19:14.921976",
     "status": "completed"
    },
    "tags": []
   },
   "outputs": [
    {
     "data": {
      "text/plain": [
       "<matplotlib.legend.Legend at 0x7fe35c58bb90>"
      ]
     },
     "execution_count": 11,
     "metadata": {},
     "output_type": "execute_result"
    },
    {
     "data": {
      "image/png": "[encoded data removed]",
      "text/plain": [
       "<Figure size 432x288 with 1 Axes>"
      ]
     },
     "metadata": {
      "needs_background": "light"
     },
     "output_type": "display_data"
    }
   ],
   "source": [
    "plt.plot(T_vals, Thermo_W[:,3]/1000,'ko-',mfc='w',label='L={}'.format(L))\n",
    "plt.xlabel('Temperature')\n",
    "plt.ylabel(r'$\\chi_T$')\n",
    "plt.legend()"
   ]
  },
  {
   "cell_type": "markdown",
   "id": "7394eb84",
   "metadata": {
    "papermill": {
     "duration": 0.01081,
     "end_time": "2022-12-05T23:19:15.125529",
     "exception": false,
     "start_time": "2022-12-05T23:19:15.114719",
     "status": "completed"
    },
    "tags": []
   },
   "source": [
    "# Broad Histogram Method"
   ]
  },
  {
   "cell_type": "markdown",
   "id": "9b09a497",
   "metadata": {
    "papermill": {
     "duration": 0.010544,
     "end_time": "2022-12-05T23:19:15.146943",
     "exception": false,
     "start_time": "2022-12-05T23:19:15.136399",
     "status": "completed"
    },
    "tags": []
   },
   "source": [
    "## Energize and rotate spin"
   ]
  },
  {
   "cell_type": "code",
   "execution_count": 12,
   "id": "b44187c3",
   "metadata": {
    "execution": {
     "iopub.execute_input": "2022-12-05T23:19:15.170300Z",
     "iopub.status.busy": "2022-12-05T23:19:15.169952Z",
     "iopub.status.idle": "2022-12-05T23:19:17.012883Z",
     "shell.execute_reply": "2022-12-05T23:19:17.011697Z"
    },
    "papermill": {
     "duration": 1.857549,
     "end_time": "2022-12-05T23:19:17.015308",
     "exception": false,
     "start_time": "2022-12-05T23:19:15.157759",
     "status": "completed"
    },
    "tags": []
   },
   "outputs": [
    {
     "name": "stdout",
     "output_type": "stream",
     "text": [
      "Testing Energize function...\n",
      "Tolerance is  0.0005\n",
      "................................\n",
      "E_before =  -68.34219708860032\n",
      "E_desired =  192.67697473786643\n",
      "E_after =  192.67721591440844\n",
      "................................\n",
      "E_before =  10.96524821642736\n",
      "E_desired =  537.8701317314883\n",
      "E_after =  537.869714136999\n",
      "................................\n",
      "E_before =  64.5914441823589\n",
      "E_desired =  -523.7858003279092\n",
      "E_after =  -523.7856274252565\n",
      "................................\n",
      "E_before =  41.738934530883064\n",
      "E_desired =  978.5026034141626\n",
      "E_after =  978.5021356670188\n",
      "................................\n",
      "E_before =  -6.196383729183819\n",
      "E_desired =  424.1755311090244\n",
      "E_after =  424.17594414114575\n",
      "................................\n",
      "Energize tested.\n"
     ]
    }
   ],
   "source": [
    "@nb.njit\n",
    "def get_angles(vector):\n",
    "    \"\"\"\n",
    "    Args:\n",
    "        vector (array)\n",
    "        \n",
    "    Returns:\n",
    "        theta (float): Polar angle (z axis) \n",
    "        phi (float): Azimuth angle\n",
    "    \"\"\"\n",
    "    r = np.linalg.norm(vector)\n",
    "    x, y, z = vector[0], vector[1], vector[2]\n",
    "    theta = np.arccos(z/r)\n",
    "    if theta == 0:\n",
    "        phi = 0\n",
    "    else:\n",
    "        phi = np.arctan2(y,x)\n",
    "    return theta, phi\n",
    "\n",
    "@nb.njit()\n",
    "def energize(S, nbr, E_target, tol, max_iter):\n",
    "    \"\"\"\n",
    "    Args:\n",
    "        S (array)\n",
    "        nbr (array)\n",
    "        E_target (float)\n",
    "        tol (float)\n",
    "        max_iter (int)\n",
    "    Returns:\n",
    "        S (array): Energized configuration\n",
    "        E_current: Energy \n",
    "    \"\"\"\n",
    "    N = S.shape[0]\n",
    "    iteration = 0\n",
    "    E_current = calculate_energy(S, nbr)\n",
    "    DeltaE = abs(E_target - E_current)\n",
    "    while DeltaE > tol and iteration <= max_iter:\n",
    "        # Choose a spin at random\n",
    "        k = np.random.randint(0, N)\n",
    "        S_k = S[k]\n",
    "        # Calculate the local field of that spin\n",
    "        A_k = np.sum(S[nbr[k]],axis=0)\n",
    "        Anorm = np.linalg.norm(A_k)\n",
    "        theta, phi = get_angles(A_k)\n",
    "        # Make a rotation to align A_k with the z axis\n",
    "        alpha = np.pi/2 - phi\n",
    "        beta = -theta\n",
    "        Rotz = np.array([[np.cos(alpha), -np.sin(alpha), 0.0],\n",
    "                        [np.sin(alpha), np.cos(alpha), 0.0],\n",
    "                        [0.0, 0.0, 1.0]])\n",
    "        Rotx = np.array([[1.0, 0.0, 0.0],\n",
    "                        [0.0, np.cos(beta), np.sin(beta)],\n",
    "                        [0.0, -np.sin(beta), np.cos(beta)]])\n",
    "        Rot = np.dot(Rotx, Rotz)\n",
    "        # Calculates the old energy\n",
    "        ei_old = -np.dot(S_k, A_k)\n",
    "        z = -ei_old/Anorm\n",
    "        if E_current < E_target:\n",
    "            z = np.random.uniform(-1, z)\n",
    "        else:\n",
    "            z = np.random.uniform(z, 1)\n",
    "        theta = np.arccos(z)\n",
    "        phi = np.random.uniform(0, 2*np.pi)\n",
    "        # Get the new vector in spherical coordinates\n",
    "        Sk_new = np.array([[np.sin(theta)*np.cos(phi)],\n",
    "                           [np.sin(theta)*np.sin(phi)],\n",
    "                           [np.cos(theta)]])\n",
    "        # Rotate the new vector back to the original basis\n",
    "        Sk_new = np.reshape(np.dot(Rot.T, Sk_new), A_k.shape)\n",
    "        ei_new = - np.dot(Sk_new, A_k)\n",
    "        S[k] = Sk_new\n",
    "        DE = ei_new - ei_old\n",
    "        # Calculate the new energy\n",
    "        E_current += DE\n",
    "        DeltaE = abs(E_target-E_current)\n",
    "        iteration += 1\n",
    "    return S, E_current\n",
    "\n",
    "def test_energize(L, tol=0.01):\n",
    "    print('Tolerance is ', tol)\n",
    "    print('................................')\n",
    "    for i in range(5):\n",
    "        S = random_initialize(L)\n",
    "        nbr = get_neighbors(L)\n",
    "        E_desired = np.random.uniform(-L**3, L**3)\n",
    "        E_before = calculate_energy(S, nbr)\n",
    "        print('E_before = ', E_before)\n",
    "        S, E_after = energize(S, nbr, E_desired, tol, 200000)\n",
    "        print('E_desired = ', E_desired)\n",
    "        print('E_after = ', E_after)\n",
    "        print('................................')\n",
    "print('Testing Energize function...')\n",
    "test_energize(10, 0.0005)\n",
    "print('Energize tested.')"
   ]
  },
  {
   "cell_type": "code",
   "execution_count": 13,
   "id": "460b0a17",
   "metadata": {
    "execution": {
     "iopub.execute_input": "2022-12-05T23:19:17.039417Z",
     "iopub.status.busy": "2022-12-05T23:19:17.039127Z",
     "iopub.status.idle": "2022-12-05T23:19:20.037308Z",
     "shell.execute_reply": "2022-12-05T23:19:20.035973Z"
    },
    "papermill": {
     "duration": 3.012592,
     "end_time": "2022-12-05T23:19:20.039665",
     "exception": false,
     "start_time": "2022-12-05T23:19:17.027073",
     "status": "completed"
    },
    "tags": []
   },
   "outputs": [
    {
     "name": "stdout",
     "output_type": "stream",
     "text": [
      "Testing spin rotation function...\n",
      "Emax = 41.28680314047594\n",
      "Emin = 37.28680314047594\n",
      "E_initial = 39.28680314047594\n"
     ]
    },
    {
     "name": "stderr",
     "output_type": "stream",
     "text": [
      "/tmp/ipykernel_19/3540244521.py:45: NumbaPerformanceWarning: \u001b[1m\u001b[1m\u001b[1mnp.dot() is faster on contiguous arrays, called on (array(float64, 1d, A), array(float64, 1d, C))\u001b[0m\u001b[0m\u001b[0m\n",
      "  ei_new = -np.dot(si_new, A_i)\n"
     ]
    },
    {
     "name": "stdout",
     "output_type": "stream",
     "text": [
      "Time= 1.8021152019500732\n",
      "E_final = 38.75275348004588\n",
      "Num_true out (/40000) = 40000\n",
      ".............................................\n",
      "Emax = 14.09640706092433\n",
      "Emin = 10.09640706092433\n",
      "E_initial = 12.09640706092433\n",
      "Time= 0.293060302734375\n",
      "E_final = 10.549409895683182\n",
      "Num_true out (/40000) = 40000\n",
      ".............................................\n",
      "Emax = -5.338221458253139\n",
      "Emin = -9.33822145825314\n",
      "E_initial = -7.338221458253139\n",
      "Time= 0.29248476028442383\n",
      "E_final = -7.462700786902545\n",
      "Num_true out (/40000) = 40000\n",
      ".............................................\n",
      "Emax = -9.20040946371214\n",
      "Emin = -13.20040946371214\n",
      "E_initial = -11.20040946371214\n",
      "Time= 0.293515682220459\n",
      "E_final = -12.77170009023497\n",
      "Num_true out (/40000) = 40000\n",
      ".............................................\n",
      "Emax = -32.10548634738848\n",
      "Emin = -36.10548634738848\n",
      "E_initial = -34.10548634738848\n",
      "Time= 0.291424036026001\n",
      "E_final = -33.420947060080024\n",
      "Num_true out (/40000) = 40000\n",
      ".............................................\n",
      "Test completed.\n"
     ]
    }
   ],
   "source": [
    "@nb.njit(fastmath=True)\n",
    "def rotate_spin2(S, nbr, index, E, Emin, Emax, inplace=False):\n",
    "    \"\"\"\n",
    "    Args:\n",
    "        S (arary)\n",
    "        nbr (array)\n",
    "        index (int)\n",
    "        E (float): Current energy of the configuration\n",
    "        Emin (float): Minimun energy of the window\n",
    "        Emax (float): Maximum energy of the window\n",
    "    Returns:\n",
    "        S (array)\n",
    "        ei_old (float): Energy of the spin at given index. Needed for later.\n",
    "        E (float): New energy\n",
    "        Anorm (float): Magnitude of the local field of the spin at given index. Needed for later\n",
    "    \"\"\"\n",
    "    N = S.shape[0]\n",
    "    DeltaEb_sup = Emax-E\n",
    "    DeltaEb_inf = E-Emin\n",
    "    S_i = S[index]\n",
    "    nbr_i = nbr[index]\n",
    "    # Local field A_i and norm\n",
    "    A_i = np.sum(S[nbr_i],axis=0)\n",
    "    Anorm = np.linalg.norm(A_i)\n",
    "    theta, phi = get_angles(A_i)\n",
    "    alpha = np.pi/2 - phi\n",
    "    beta = -theta\n",
    "    Rot = np.array([[np.cos(alpha), -np.sin(alpha),0.0],\n",
    "                    [np.cos(beta)*np.sin(alpha), np.cos(beta)*np.cos(alpha), np.sin(beta)],\n",
    "                    [-np.sin(alpha)*np.sin(beta), -np.sin(beta)*np.cos(alpha), np.cos(beta)]])\n",
    "    ei_old = -np.dot(S_i, A_i)\n",
    "    # Calculate the minimun and maximun values the energy of the spin i can have\n",
    "    ei_min = ei_old - DeltaEb_inf\n",
    "    ei_max = ei_old + DeltaEb_sup\n",
    "    zmin = max(-1, -ei_max/Anorm) # These conditions ensure that z is always between [-1, 1].\n",
    "    zmax = min(1, -ei_min/Anorm)\n",
    "    zrand = np.random.rand()*(zmax-zmin)+zmin\n",
    "    theta = np.arccos(zrand)\n",
    "    phi_rand = np.random.rand()*2*np.pi\n",
    "    si_new = np.array([[np.sin(theta)*np.cos(phi_rand)],\n",
    "                       [np.sin(theta)*np.sin(phi_rand)],\n",
    "                       [np.cos(theta)]])\n",
    "    # Get si_new back to old basis\n",
    "    si_new = np.dot(Rot.T, si_new).T[0]\n",
    "    ei_new = -np.dot(si_new, A_i)\n",
    "#     ei_new = -(si_new[0]*A_i[0]+si_new[1]*A_i[1]+si_new[2]*A_i[2])\n",
    "    S[index] = si_new\n",
    "    DeltaE = ei_new - ei_old\n",
    "    E += DeltaE    # Update the energy\n",
    "    M = calculate_magnet(S)\n",
    "    return S, E, M\n",
    "\n",
    "def test_rotate_spin2(L, Num):\n",
    "    for i in range(Num):\n",
    "        S = random_initialize(L)\n",
    "        nbr = get_neighbors(L)\n",
    "        N = S.shape[0]\n",
    "        index = np.random.randint(0,N)\n",
    "        DeltaEb = 2\n",
    "        E_ini = calculate_energy(S, nbr)\n",
    "        Emin = E_ini - DeltaEb\n",
    "        Emax = E_ini + DeltaEb\n",
    "        print('Emax =', Emax)\n",
    "        print('Emin =', Emin)\n",
    "        print('E_initial =', E_ini)\n",
    "        num_true = 0\n",
    "        E = E_ini\n",
    "        Timel = tm.time()\n",
    "        for i in range(40000):\n",
    "            S, E, _ = rotate_spin2(S, nbr, index, E, Emin, Emax, inplace=True)\n",
    "            Efin = E\n",
    "            num_true += Emin < Efin and Efin < Emax  \n",
    "        print('Time=',tm.time()-Timel)\n",
    "        print('E_final =', calculate_energy(S, nbr))\n",
    "        print('Num_true out (/40000) =', num_true)\n",
    "        print('.............................................')\n",
    "print('Testing spin rotation function...')\n",
    "test_rotate_spin2(10, 5)\n",
    "print('Test completed.')"
   ]
  },
  {
   "cell_type": "markdown",
   "id": "7c473264",
   "metadata": {
    "papermill": {
     "duration": 0.011645,
     "end_time": "2022-12-05T23:19:20.063674",
     "exception": false,
     "start_time": "2022-12-05T23:19:20.052029",
     "status": "completed"
    },
    "tags": []
   },
   "source": [
    "## Sampling"
   ]
  },
  {
   "cell_type": "code",
   "execution_count": 14,
   "id": "ba609f92",
   "metadata": {
    "execution": {
     "iopub.execute_input": "2022-12-05T23:19:20.088847Z",
     "iopub.status.busy": "2022-12-05T23:19:20.088497Z",
     "iopub.status.idle": "2022-12-05T23:19:20.104304Z",
     "shell.execute_reply": "2022-12-05T23:19:20.103458Z"
    },
    "papermill": {
     "duration": 0.030455,
     "end_time": "2022-12-05T23:19:20.106004",
     "exception": false,
     "start_time": "2022-12-05T23:19:20.075549",
     "status": "completed"
    },
    "tags": []
   },
   "outputs": [],
   "source": [
    "@nb.njit(fastmath=True)\n",
    "def one_lattice_sweep(S, nbr, DeltaE_fix):\n",
    "    N = S.shape[0]\n",
    "    N_up, N_down = 0.0, 0.0\n",
    "    for i in range(N):\n",
    "        S_i = S[i]\n",
    "        A_i = np.sum(S[nbr[i]],axis=0)\n",
    "        Ai_norm = np.linalg.norm(A_i)\n",
    "        ei_old = -np.dot(S_i, A_i)\n",
    "        if abs(DeltaE_fix + ei_old) < Ai_norm:\n",
    "            N_up += 1/N * 1/(2*Ai_norm)\n",
    "        if abs(-DeltaE_fix + ei_old) < Ai_norm:\n",
    "            N_down += 1/N * 1/(2*Ai_norm)\n",
    "    return N_up, N_down\n",
    "\n",
    "@nb.njit()\n",
    "def one_energy(S, nbr, E_iter, DeltaEb, DeltaE_fix, num_samples = 60):\n",
    "    \"\"\"Calculate everything for a given energy at some T and E\n",
    "    Args:\n",
    "        S (array): Array of spins size (Nx3).\n",
    "        nbr (array): Array containig the indices of the neighbors of each spin.\n",
    "        E (float): Energy of interest.\n",
    "        DeltaEb (float): Window for rotating the spins.\n",
    "        DeltaE_fix (float): Fixed number for obtaining the N_up, N_down values.\n",
    "        shuffle (bool): Random lattice sweep.\n",
    "    Returns:\n",
    "        N_up (float): Updated\n",
    "        N_down (float): Updated\n",
    "        Thermo (dict): Updated\n",
    "    \"\"\"\n",
    "    N = S.shape[0]\n",
    "    Thermo = np.zeros(4)\n",
    "    M, M2 = 0, 0\n",
    "    E, E2 = 0, 0\n",
    "    N_up, N_down = 0, 0\n",
    "    indices = np.arange(N)\n",
    "    indices_shuffle = indices.copy()\n",
    "    Emin = E_iter - DeltaEb/2 # Window centered at E_iter and size DeltaEb\n",
    "    Emax = E_iter + DeltaEb/2\n",
    "    E_current = calculate_energy(S, nbr)\n",
    "    for k in range(40*N):\n",
    "        index = np.random.randint(0,N)\n",
    "        S, E_current, Mi = rotate_spin2(S, nbr, index, E_current, Emin, Emax, inplace=True)\n",
    "    for i in range(num_samples):\n",
    "        for k in range(4*N):\n",
    "            index = np.random.randint(0,N)\n",
    "            S, E_current, Mi = rotate_spin2(S, nbr, index, E_current, Emin, Emax, inplace=True)\n",
    "        N_up_i, N_down_i = one_lattice_sweep(S, nbr, DeltaE_fix)\n",
    "        N_up += N_up_i\n",
    "        N_down += N_down_i\n",
    "        M += Mi\n",
    "        M2 += Mi**2\n",
    "        E += E_iter\n",
    "        E2 += E_iter**2 \n",
    "    N_up = N_up/num_samples\n",
    "    N_down = N_down/num_samples\n",
    "    Thermo[0] = M/num_samples # Microcanonical average\n",
    "    Thermo[1] = (M2/num_samples)-(M/num_samples)**2\n",
    "    Thermo[2] = E/num_samples\n",
    "    Thermo[3] = (E2/num_samples)-(E/num_samples)**2\n",
    "    return N_up, N_down, Thermo"
   ]
  },
  {
   "cell_type": "code",
   "execution_count": 15,
   "id": "2c81dbe1",
   "metadata": {
    "execution": {
     "iopub.execute_input": "2022-12-05T23:19:20.130646Z",
     "iopub.status.busy": "2022-12-05T23:19:20.130370Z",
     "iopub.status.idle": "2022-12-05T23:19:20.137571Z",
     "shell.execute_reply": "2022-12-05T23:19:20.136597Z"
    },
    "papermill": {
     "duration": 0.021558,
     "end_time": "2022-12-05T23:19:20.139359",
     "exception": false,
     "start_time": "2022-12-05T23:19:20.117801",
     "status": "completed"
    },
    "tags": []
   },
   "outputs": [],
   "source": [
    "@nb.njit(parallel=True)\n",
    "def BHM_uC(L, nbr, E_vals, DeltaEb, DeltaE_fix, num_samples):\n",
    "    \"\"\"Samples across all energies in a given array.\n",
    "    Args:\n",
    "        L (int)\n",
    "        E_vals (array)\n",
    "        DeltaEb (float)\n",
    "        DeltaE_fix (float)\n",
    "        nbr (array)\n",
    "    Returns:\n",
    "        Nup (Array)\n",
    "        Ndown (Array)\n",
    "        Thermo (Array)\n",
    "    \"\"\"\n",
    "    num_energies =  E_vals.shape[0]\n",
    "    Nup = np.zeros(num_energies)\n",
    "    Ndown = np.zeros(num_energies)\n",
    "    range_energies = prange(num_energies)\n",
    "    Thermo = np.zeros((num_energies, 4))\n",
    "    for ii in range_energies:\n",
    "        energy = E_vals[ii]\n",
    "        S = random_initialize(L)\n",
    "        # Generate a configuration whose energy falls inside the next window\n",
    "        S, E_start = energize(S, nbr, energy, DeltaEb/5, 50000)\n",
    "        Nup[ii], Ndown[ii], Thermo[ii] = one_energy(S, nbr, energy, DeltaEb, DeltaE_fix, num_samples)\n",
    "    return Nup, Ndown, Thermo"
   ]
  },
  {
   "cell_type": "markdown",
   "id": "286519a6",
   "metadata": {
    "papermill": {
     "duration": 0.011241,
     "end_time": "2022-12-05T23:19:20.162066",
     "exception": false,
     "start_time": "2022-12-05T23:19:20.150825",
     "status": "completed"
    },
    "tags": []
   },
   "source": [
    "## Analysis of results"
   ]
  },
  {
   "cell_type": "code",
   "execution_count": 16,
   "id": "3fe2cc02",
   "metadata": {
    "execution": {
     "iopub.execute_input": "2022-12-05T23:19:20.186972Z",
     "iopub.status.busy": "2022-12-05T23:19:20.186632Z",
     "iopub.status.idle": "2022-12-06T08:54:52.751951Z",
     "shell.execute_reply": "2022-12-06T08:54:52.750749Z"
    },
    "papermill": {
     "duration": 34532.591478,
     "end_time": "2022-12-06T08:54:52.765160",
     "exception": false,
     "start_time": "2022-12-05T23:19:20.173682",
     "status": "completed"
    },
    "tags": []
   },
   "outputs": [
    {
     "name": "stdout",
     "output_type": "stream",
     "text": [
      "BHM_uC started.\n"
     ]
    },
    {
     "data": {
      "application/vnd.jupyter.widget-view+json": {
       "model_id": "1d076368d69a4449853ec02fdf16dace",
       "version_major": 2,
       "version_minor": 0
      },
      "text/plain": [
       "  0%|          | 0/10 [00:00<?, ?it/s]"
      ]
     },
     "metadata": {},
     "output_type": "display_data"
    },
    {
     "name": "stdout",
     "output_type": "stream",
     "text": [
      "BHM_uC finished.\n"
     ]
    }
   ],
   "source": [
    "L = 10\n",
    "nbr = get_neighbors(L)\n",
    "\n",
    "num_energies = 120\n",
    "E_vals = np.linspace(-2700, 0, num_energies, endpoint=False)\n",
    "dE = E_vals[1]-E_vals[0]\n",
    "\n",
    "DeltaEb = 2\n",
    "DeltaE_fix = 1\n",
    "num_samples = 2000\n",
    "total_epochs = 10\n",
    "\n",
    "Nup = np.zeros((total_epochs, num_energies))\n",
    "Ndown = np.zeros((total_epochs, num_energies))\n",
    "Thermo = np.zeros((total_epochs, num_energies, 4))\n",
    "print('BHM_uC started.')\n",
    "for i in tq(range(total_epochs)):\n",
    "        Nup[i,:], Ndown[i,:], Thermo[i,:,:] = BHM_uC(L, nbr, E_vals, DeltaEb, DeltaE_fix, num_samples)\n",
    "print('BHM_uC finished.')\n",
    "Nup_avg = np.mean(Nup, axis=0)\n",
    "Ndown_avg = np.mean(Ndown, axis=0)\n",
    "Thermo_avg = np.mean(Thermo, axis=0)"
   ]
  },
  {
   "cell_type": "code",
   "execution_count": 17,
   "id": "7ce7b83c",
   "metadata": {
    "execution": {
     "iopub.execute_input": "2022-12-06T08:54:52.790277Z",
     "iopub.status.busy": "2022-12-06T08:54:52.789946Z",
     "iopub.status.idle": "2022-12-06T08:54:52.796765Z",
     "shell.execute_reply": "2022-12-06T08:54:52.795729Z"
    },
    "papermill": {
     "duration": 0.021616,
     "end_time": "2022-12-06T08:54:52.798616",
     "exception": false,
     "start_time": "2022-12-06T08:54:52.777000",
     "status": "completed"
    },
    "tags": []
   },
   "outputs": [],
   "source": [
    "beta_uC = 1/DeltaE_fix * np.log(Nup_avg/Ndown_avg)\n",
    "E_vals = np.linspace(-2700, 0, num_energies, endpoint=False)\n",
    "entropy = DoS(E_vals, beta_uC)"
   ]
  },
  {
   "cell_type": "markdown",
   "id": "9cbfa700",
   "metadata": {
    "papermill": {
     "duration": 0.012527,
     "end_time": "2022-12-06T08:54:52.824009",
     "exception": false,
     "start_time": "2022-12-06T08:54:52.811482",
     "status": "completed"
    },
    "tags": []
   },
   "source": [
    "# Plotting"
   ]
  },
  {
   "cell_type": "code",
   "execution_count": 18,
   "id": "24f2fe34",
   "metadata": {
    "execution": {
     "iopub.execute_input": "2022-12-06T08:54:52.850751Z",
     "iopub.status.busy": "2022-12-06T08:54:52.850214Z",
     "iopub.status.idle": "2022-12-06T08:54:53.026386Z",
     "shell.execute_reply": "2022-12-06T08:54:53.025631Z"
    },
    "papermill": {
     "duration": 0.192247,
     "end_time": "2022-12-06T08:54:53.028605",
     "exception": false,
     "start_time": "2022-12-06T08:54:52.836358",
     "status": "completed"
    },
    "tags": []
   },
   "outputs": [
    {
     "data": {
      "text/plain": [
       "<matplotlib.legend.Legend at 0x7fe35c1efcd0>"
      ]
     },
     "execution_count": 18,
     "metadata": {},
     "output_type": "execute_result"
    },
    {
     "data": {
      "image/png": "[encoded data removed]",
      "text/plain": [
       "<Figure size 432x288 with 1 Axes>"
      ]
     },
     "metadata": {
      "needs_background": "light"
     },
     "output_type": "display_data"
    }
   ],
   "source": [
    "plt.plot(E_vals/3000, np.log(Nup_avg),'k-', label=r'Ln $\\langle N_{up}(E)\\rangle$')\n",
    "plt.plot(E_vals/3000, np.log(Ndown_avg),'k--', label=r'Ln $\\langle N_{dn}(E)\\rangle$')\n",
    "plt.ylabel(r'Ln $\\langle N(E)\\rangle$')\n",
    "plt.xlabel(r'Energy per bond')\n",
    "plt.legend(loc='lower right')\n",
    "# plt.savefig('Log.jpg',bbox_inches='tight')"
   ]
  },
  {
   "cell_type": "code",
   "execution_count": 19,
   "id": "c7094bad",
   "metadata": {
    "execution": {
     "iopub.execute_input": "2022-12-06T08:54:53.056624Z",
     "iopub.status.busy": "2022-12-06T08:54:53.055951Z",
     "iopub.status.idle": "2022-12-06T08:54:53.187264Z",
     "shell.execute_reply": "2022-12-06T08:54:53.186319Z"
    },
    "papermill": {
     "duration": 0.147643,
     "end_time": "2022-12-06T08:54:53.189445",
     "exception": false,
     "start_time": "2022-12-06T08:54:53.041802",
     "status": "completed"
    },
    "tags": []
   },
   "outputs": [
    {
     "data": {
      "text/plain": [
       "Text(0, 0.5, '$\\\\beta(E)$')"
      ]
     },
     "execution_count": 19,
     "metadata": {},
     "output_type": "execute_result"
    },
    {
     "data": {
      "image/png": "[encoded data removed]",
      "text/plain": [
       "<Figure size 432x288 with 1 Axes>"
      ]
     },
     "metadata": {
      "needs_background": "light"
     },
     "output_type": "display_data"
    }
   ],
   "source": [
    "beta_uC = np.zeros(num_energies)\n",
    "for i in range(num_energies):\n",
    "    beta_uC[i] = 1/DeltaE_fix * np.log(Nup_avg[i]/Ndown_avg[i])\n",
    "plt.plot(E_vals/3000, beta_uC,'b.-')\n",
    "plt.xlabel(r'Energy per bond')\n",
    "plt.ylabel(r'$\\beta(E)$')\n",
    "# plt.savefig('beta.jpg',dpi=400,bbox_inches='tight')"
   ]
  },
  {
   "cell_type": "code",
   "execution_count": 20,
   "id": "f51c247a",
   "metadata": {
    "execution": {
     "iopub.execute_input": "2022-12-06T08:54:53.218298Z",
     "iopub.status.busy": "2022-12-06T08:54:53.217978Z",
     "iopub.status.idle": "2022-12-06T08:54:53.349945Z",
     "shell.execute_reply": "2022-12-06T08:54:53.349029Z"
    },
    "papermill": {
     "duration": 0.148495,
     "end_time": "2022-12-06T08:54:53.351828",
     "exception": false,
     "start_time": "2022-12-06T08:54:53.203333",
     "status": "completed"
    },
    "tags": []
   },
   "outputs": [
    {
     "data": {
      "text/plain": [
       "Text(0, 0.5, '$S = \\\\ln g(E)$')"
      ]
     },
     "execution_count": 20,
     "metadata": {},
     "output_type": "execute_result"
    },
    {
     "data": {
      "image/png": "[encoded data removed]",
      "text/plain": [
       "<Figure size 432x288 with 1 Axes>"
      ]
     },
     "metadata": {
      "needs_background": "light"
     },
     "output_type": "display_data"
    }
   ],
   "source": [
    "plt.plot(E_vals/3000, entropy,'b-')\n",
    "plt.xlabel(r'Energy per bond')\n",
    "plt.ylabel(r'$S = \\ln g(E)$')"
   ]
  },
  {
   "cell_type": "code",
   "execution_count": 21,
   "id": "62ce20ce",
   "metadata": {
    "execution": {
     "iopub.execute_input": "2022-12-06T08:54:53.381387Z",
     "iopub.status.busy": "2022-12-06T08:54:53.381062Z",
     "iopub.status.idle": "2022-12-06T08:54:53.517721Z",
     "shell.execute_reply": "2022-12-06T08:54:53.516834Z"
    },
    "papermill": {
     "duration": 0.153638,
     "end_time": "2022-12-06T08:54:53.519654",
     "exception": false,
     "start_time": "2022-12-06T08:54:53.366016",
     "status": "completed"
    },
    "tags": []
   },
   "outputs": [
    {
     "data": {
      "text/plain": [
       "<matplotlib.legend.Legend at 0x7fe34dec0350>"
      ]
     },
     "execution_count": 21,
     "metadata": {},
     "output_type": "execute_result"
    },
    {
     "data": {
      "image/png": "[encoded data removed]",
      "text/plain": [
       "<Figure size 432x288 with 1 Axes>"
      ]
     },
     "metadata": {
      "needs_background": "light"
     },
     "output_type": "display_data"
    }
   ],
   "source": [
    "T_uC = 1/beta_uC\n",
    "vals = (T_uC >= 0.1) & (T_uC <= 2.9)\n",
    "Thermo_avg\n",
    "plt.plot(T_vals, Thermo_W[:,0],'ko-',label='Wolff')\n",
    "plt.plot(T_uC[vals], Thermo_avg[vals,0],'b.-',label=\"BHM\")\n",
    "plt.xlabel('Temperature')\n",
    "plt.ylabel(r'$\\langle M\\rangle_T$')\n",
    "plt.legend()"
   ]
  },
  {
   "cell_type": "code",
   "execution_count": 22,
   "id": "59d6c71d",
   "metadata": {
    "execution": {
     "iopub.execute_input": "2022-12-06T08:54:53.549210Z",
     "iopub.status.busy": "2022-12-06T08:54:53.548917Z",
     "iopub.status.idle": "2022-12-06T08:54:53.664486Z",
     "shell.execute_reply": "2022-12-06T08:54:53.663630Z"
    },
    "papermill": {
     "duration": 0.133203,
     "end_time": "2022-12-06T08:54:53.666362",
     "exception": false,
     "start_time": "2022-12-06T08:54:53.533159",
     "status": "completed"
    },
    "tags": []
   },
   "outputs": [
    {
     "data": {
      "text/plain": [
       "[<matplotlib.lines.Line2D at 0x7fe34de368d0>]"
      ]
     },
     "execution_count": 22,
     "metadata": {},
     "output_type": "execute_result"
    },
    {
     "data": {
      "image/png": "[encoded data removed]",
      "text/plain": [
       "<Figure size 432x288 with 1 Axes>"
      ]
     },
     "metadata": {
      "needs_background": "light"
     },
     "output_type": "display_data"
    }
   ],
   "source": [
    "plt.plot(T_uC[vals], Thermo_avg[vals,1]/T_uC[vals],'b.-',mfc='w',label=\"BHM\")\n",
    "plt.plot(T_vals, Thermo_W[:,1],'k.-',mfc='w',label='L={}'.format(L))"
   ]
  },
  {
   "cell_type": "markdown",
   "id": "16dbd3d8",
   "metadata": {
    "papermill": {
     "duration": 0.014613,
     "end_time": "2022-12-06T08:54:53.699082",
     "exception": false,
     "start_time": "2022-12-06T08:54:53.684469",
     "status": "completed"
    },
    "tags": []
   },
   "source": [
    "## BHM-M: Broad Histogram Method using canonical sampling"
   ]
  },
  {
   "cell_type": "markdown",
   "id": "af1a1e6d",
   "metadata": {
    "papermill": {
     "duration": 0.013147,
     "end_time": "2022-12-06T08:54:53.725520",
     "exception": false,
     "start_time": "2022-12-06T08:54:53.712373",
     "status": "completed"
    },
    "tags": []
   },
   "source": [
    "### STEPS\n",
    "\n",
    "1. Sample at many temperatures, usually (T, T-3s, T+3s) though other options are possible.\n",
    "2. Generate (2400) samples using Wolff Clusters.\n",
    "3. For each sample store in the histogram (same, not a different one) the vals of Nup, Ndown, Visits(E), Thermodynamic quantities, etc.\n",
    "\n",
    "Let's goooo."
   ]
  },
  {
   "cell_type": "code",
   "execution_count": 23,
   "id": "95b747aa",
   "metadata": {
    "execution": {
     "iopub.execute_input": "2022-12-06T08:54:53.754655Z",
     "iopub.status.busy": "2022-12-06T08:54:53.754264Z",
     "iopub.status.idle": "2022-12-06T08:54:53.762014Z",
     "shell.execute_reply": "2022-12-06T08:54:53.761135Z"
    },
    "papermill": {
     "duration": 0.024724,
     "end_time": "2022-12-06T08:54:53.763840",
     "exception": false,
     "start_time": "2022-12-06T08:54:53.739116",
     "status": "completed"
    },
    "tags": []
   },
   "outputs": [],
   "source": [
    "def BHM_M(L, T, n_samples, DeltaEb, DeltaE_fix):\n",
    "    \"\"\"Broad histogram method using Metropolis-like sampling\n",
    "    Args:\n",
    "        L (array)\n",
    "        nbr (array)\n",
    "        T (float): Temperature > 0\n",
    "        n_samples (int): Number of values to calculate\n",
    "    Returns:\n",
    "        M (float): Magnetization\n",
    "    \"\"\"\n",
    "    S = random_initialize(L)\n",
    "    nbr = get_neighbors(L)\n",
    "    c = 3\n",
    "    tau = 3\n",
    "    S,_,_ = cluster_sample(S, nbr, T, c, tau)\n",
    "    N_UpDown = np.zeros((n_samples, 2))\n",
    "    Thermo = np.zeros((n_samples, 2))\n",
    "    for i in tq(range(n_samples)):\n",
    "        S, E, M = cluster_sample(S, nbr, T, c, tau)\n",
    "        Thermo[i,:] = (E, M)\n",
    "        Emin = E - DeltaEb/2\n",
    "        Emax = E + DeltaEb/2\n",
    "        N_UpDown[i,0], N_UpDown[i,1] = one_lattice_sweep(S, nbr, DeltaE_fix)\n",
    "    return N_UpDown, Thermo"
   ]
  },
  {
   "cell_type": "code",
   "execution_count": 24,
   "id": "09502ca3",
   "metadata": {
    "execution": {
     "iopub.execute_input": "2022-12-06T08:54:53.794450Z",
     "iopub.status.busy": "2022-12-06T08:54:53.794066Z",
     "iopub.status.idle": "2022-12-06T08:57:32.942952Z",
     "shell.execute_reply": "2022-12-06T08:57:32.941792Z"
    },
    "papermill": {
     "duration": 159.166945,
     "end_time": "2022-12-06T08:57:32.945238",
     "exception": false,
     "start_time": "2022-12-06T08:54:53.778293",
     "status": "completed"
    },
    "tags": []
   },
   "outputs": [
    {
     "name": "stdout",
     "output_type": "stream",
     "text": [
      "BHM_M for Tc started.\n"
     ]
    },
    {
     "data": {
      "application/vnd.jupyter.widget-view+json": {
       "model_id": "35471a1ca88e480f8c683dec76690803",
       "version_major": 2,
       "version_minor": 0
      },
      "text/plain": [
       "  0%|          | 0/50000 [00:00<?, ?it/s]"
      ]
     },
     "metadata": {},
     "output_type": "display_data"
    },
    {
     "name": "stdout",
     "output_type": "stream",
     "text": [
      "BHM_M for Tc finished.\n"
     ]
    }
   ],
   "source": [
    "# First, define the temperatures to use Tc = 1.444\n",
    "L = 10\n",
    "Tc = 1.443\n",
    "n_samples = 50000\n",
    "DeltaEb = 2\n",
    "DeltaE_fix = 1\n",
    "print('BHM_M for Tc started.')\n",
    "N_UpDown0, Thermo0 = BHM_M(L, Tc, n_samples, DeltaEb, DeltaE_fix)\n",
    "print('BHM_M for Tc finished.')"
   ]
  },
  {
   "cell_type": "code",
   "execution_count": 25,
   "id": "cd11e24e",
   "metadata": {
    "execution": {
     "iopub.execute_input": "2022-12-06T08:57:32.976393Z",
     "iopub.status.busy": "2022-12-06T08:57:32.975456Z",
     "iopub.status.idle": "2022-12-06T08:57:34.086134Z",
     "shell.execute_reply": "2022-12-06T08:57:34.085005Z"
    },
    "papermill": {
     "duration": 1.128291,
     "end_time": "2022-12-06T08:57:34.088223",
     "exception": false,
     "start_time": "2022-12-06T08:57:32.959932",
     "status": "completed"
    },
    "tags": []
   },
   "outputs": [
    {
     "data": {
      "text/plain": [
       "Text(0, 0.5, '$Visits$')"
      ]
     },
     "execution_count": 25,
     "metadata": {},
     "output_type": "execute_result"
    },
    {
     "data": {
      "image/png": "[encoded data removed]",
      "text/plain": [
       "<Figure size 432x288 with 1 Axes>"
      ]
     },
     "metadata": {
      "needs_background": "light"
     },
     "output_type": "display_data"
    }
   ],
   "source": [
    "plt.hist(Thermo0[:,0],bins = 500)\n",
    "plt.xlabel('Energy')\n",
    "plt.ylabel(r'$Visits$')"
   ]
  },
  {
   "cell_type": "code",
   "execution_count": 26,
   "id": "0e1f4d20",
   "metadata": {
    "execution": {
     "iopub.execute_input": "2022-12-06T08:57:34.119099Z",
     "iopub.status.busy": "2022-12-06T08:57:34.118752Z",
     "iopub.status.idle": "2022-12-06T08:57:34.286158Z",
     "shell.execute_reply": "2022-12-06T08:57:34.285115Z"
    },
    "papermill": {
     "duration": 0.185495,
     "end_time": "2022-12-06T08:57:34.288464",
     "exception": false,
     "start_time": "2022-12-06T08:57:34.102969",
     "status": "completed"
    },
    "tags": []
   },
   "outputs": [],
   "source": [
    "def histogram(N_UpDown, Thermo, DeltaE):\n",
    "    Emin = np.min(Thermo[:,0])\n",
    "    Emax = np.max(Thermo[:,0])\n",
    "    bins = int((Emax-Emin)/DeltaE)\n",
    "    n_samples = Thermo.shape[0]\n",
    "    BHM_array = np.zeros((bins, 8))\n",
    "    Nup = N_UpDown[:,0]\n",
    "    Ndown = N_UpDown[:,1]\n",
    "    E_visits, E_values = np.histogram(Thermo[:,0], bins)\n",
    "    belong = np.digitize(Thermo[:,0], E_values, right=True)\n",
    "    E_values = E_values[:-1] + DeltaE\n",
    "    BHM_array[:,0] = E_values # Energies\n",
    "    BHM_array[:,1] = E_visits # Visits per energy\n",
    "    num_trues_T = 0\n",
    "    for i in range(n_samples):\n",
    "        index = belong[i]-1\n",
    "        if index==-1: index = 0\n",
    "        BHM_array[index, 2] += Thermo[i,0] # Energy\n",
    "        BHM_array[index, 3] += Thermo[i,0]**2 # Energy^2\n",
    "        BHM_array[index, 4] += Thermo[i,1] # Magnetization\n",
    "        BHM_array[index, 5] += Thermo[i,1]**2 # M^2\n",
    "        BHM_array[index, 6] += Nup[i]\n",
    "        BHM_array[index, 7] += Ndown[i]\n",
    "    null_list = []\n",
    "    for ii in range(bins):\n",
    "        if BHM_array[ii,1] != 0:\n",
    "            BHM_array[ii,2:] /=  BHM_array[ii,1]\n",
    "        else: null_list.append(ii)\n",
    "    BHM_array = np.delete(BHM_array, null_list, axis=0) # Delete empty slots\n",
    "    return BHM_array\n",
    "\n",
    "BHM_TC = histogram(N_UpDown0, Thermo0, 5)"
   ]
  },
  {
   "cell_type": "code",
   "execution_count": 27,
   "id": "c7e325c5",
   "metadata": {
    "execution": {
     "iopub.execute_input": "2022-12-06T08:57:34.320546Z",
     "iopub.status.busy": "2022-12-06T08:57:34.320129Z",
     "iopub.status.idle": "2022-12-06T08:57:34.327082Z",
     "shell.execute_reply": "2022-12-06T08:57:34.326081Z"
    },
    "papermill": {
     "duration": 0.025208,
     "end_time": "2022-12-06T08:57:34.328880",
     "exception": false,
     "start_time": "2022-12-06T08:57:34.303672",
     "status": "completed"
    },
    "tags": []
   },
   "outputs": [],
   "source": [
    "Nup_Tc, Ndown_Tc = BHM_TC[:,6], BHM_TC[:,7]\n",
    "E_vals_Tc = BHM_TC[:,0]\n",
    "Visits_Tc = BHM_TC[:,1]\n",
    "beta_M_Tc = 1/DeltaE_fix * np.log(Nup_Tc/Ndown_Tc)\n",
    "T_Tc = 1/beta_M_Tc\n",
    "entropy_Tc = DoS(E_vals_Tc, beta_M_Tc)"
   ]
  },
  {
   "cell_type": "code",
   "execution_count": 28,
   "id": "ce2930b6",
   "metadata": {
    "execution": {
     "iopub.execute_input": "2022-12-06T08:57:34.361479Z",
     "iopub.status.busy": "2022-12-06T08:57:34.360691Z",
     "iopub.status.idle": "2022-12-06T08:57:34.514189Z",
     "shell.execute_reply": "2022-12-06T08:57:34.513489Z"
    },
    "papermill": {
     "duration": 0.17235,
     "end_time": "2022-12-06T08:57:34.516014",
     "exception": false,
     "start_time": "2022-12-06T08:57:34.343664",
     "status": "completed"
    },
    "tags": []
   },
   "outputs": [
    {
     "data": {
      "text/plain": [
       "Text(0, 0.5, '$S = \\\\ln g(E)$')"
      ]
     },
     "execution_count": 28,
     "metadata": {},
     "output_type": "execute_result"
    },
    {
     "data": {
      "image/png": "[encoded data removed]",
      "text/plain": [
       "<Figure size 432x288 with 1 Axes>"
      ]
     },
     "metadata": {
      "needs_background": "light"
     },
     "output_type": "display_data"
    }
   ],
   "source": [
    "plt.plot(E_vals_Tc/3000, entropy_Tc,'r.-')\n",
    "plt.xlabel(r'Energy per bond')\n",
    "plt.ylabel(r'$S = \\ln g(E)$')"
   ]
  },
  {
   "cell_type": "code",
   "execution_count": 29,
   "id": "4078070f",
   "metadata": {
    "execution": {
     "iopub.execute_input": "2022-12-06T08:57:34.547460Z",
     "iopub.status.busy": "2022-12-06T08:57:34.546474Z",
     "iopub.status.idle": "2022-12-06T08:57:34.567461Z",
     "shell.execute_reply": "2022-12-06T08:57:34.566439Z"
    },
    "papermill": {
     "duration": 0.03853,
     "end_time": "2022-12-06T08:57:34.569513",
     "exception": false,
     "start_time": "2022-12-06T08:57:34.530983",
     "status": "completed"
    },
    "tags": []
   },
   "outputs": [
    {
     "name": "stdout",
     "output_type": "stream",
     "text": [
      "mu_T = 1.440207266141798\n",
      "sigma_T = 0.04031679739090289\n"
     ]
    }
   ],
   "source": [
    "# Determine Delta T =  1 sigma\n",
    "popt, pcov = curve_fit(gaussian, T_Tc,  Visits_Tc)\n",
    "muT = abs(popt[1])\n",
    "sigmaT = abs(popt[2])\n",
    "print('mu_T =', muT)\n",
    "print('sigma_T =', sigmaT)"
   ]
  },
  {
   "cell_type": "code",
   "execution_count": 30,
   "id": "82510a97",
   "metadata": {
    "execution": {
     "iopub.execute_input": "2022-12-06T08:57:34.600175Z",
     "iopub.status.busy": "2022-12-06T08:57:34.599840Z",
     "iopub.status.idle": "2022-12-06T08:57:34.605378Z",
     "shell.execute_reply": "2022-12-06T08:57:34.604602Z"
    },
    "papermill": {
     "duration": 0.023451,
     "end_time": "2022-12-06T08:57:34.607699",
     "exception": false,
     "start_time": "2022-12-06T08:57:34.584248",
     "status": "completed"
    },
    "tags": []
   },
   "outputs": [],
   "source": [
    "def many_temperatures(L, Tc, T_BHM, n_samples, DeltaEb, DeltaE_fix):\n",
    "    N_UpDown = np.zeros((0,2))\n",
    "    Thermo = np.zeros((0,2))\n",
    "    for T in T_BHM:\n",
    "        N_UpDown_ii, Thermo_ii = BHM_M(L, T, n_samples, DeltaEb, DeltaE_fix)\n",
    "        N_UpDown = np.append(N_UpDown, N_UpDown_ii, axis=0)\n",
    "        Thermo = np.append(Thermo, Thermo_ii, axis=0)\n",
    "    return N_UpDown, Thermo"
   ]
  },
  {
   "cell_type": "code",
   "execution_count": 31,
   "id": "46086313",
   "metadata": {
    "execution": {
     "iopub.execute_input": "2022-12-06T08:57:34.641131Z",
     "iopub.status.busy": "2022-12-06T08:57:34.640440Z",
     "iopub.status.idle": "2022-12-06T09:17:35.667399Z",
     "shell.execute_reply": "2022-12-06T09:17:35.665952Z"
    },
    "papermill": {
     "duration": 1201.046011,
     "end_time": "2022-12-06T09:17:35.670027",
     "exception": false,
     "start_time": "2022-12-06T08:57:34.624016",
     "status": "completed"
    },
    "tags": []
   },
   "outputs": [
    {
     "name": "stdout",
     "output_type": "stream",
     "text": [
      "BHM_M for many T's started.\n"
     ]
    },
    {
     "data": {
      "application/vnd.jupyter.widget-view+json": {
       "model_id": "62caa19fdab74106ab09c4553ea28b0c",
       "version_major": 2,
       "version_minor": 0
      },
      "text/plain": [
       "  0%|          | 0/50000 [00:00<?, ?it/s]"
      ]
     },
     "metadata": {},
     "output_type": "display_data"
    },
    {
     "data": {
      "application/vnd.jupyter.widget-view+json": {
       "model_id": "ad1e3ad79e5a430f8beff9b92c690203",
       "version_major": 2,
       "version_minor": 0
      },
      "text/plain": [
       "  0%|          | 0/50000 [00:00<?, ?it/s]"
      ]
     },
     "metadata": {},
     "output_type": "display_data"
    },
    {
     "data": {
      "application/vnd.jupyter.widget-view+json": {
       "model_id": "10c9906066eb4d0587c7dd60c5a1b9ce",
       "version_major": 2,
       "version_minor": 0
      },
      "text/plain": [
       "  0%|          | 0/50000 [00:00<?, ?it/s]"
      ]
     },
     "metadata": {},
     "output_type": "display_data"
    },
    {
     "data": {
      "application/vnd.jupyter.widget-view+json": {
       "model_id": "587c03bf091c4121b419b7621ed1bac9",
       "version_major": 2,
       "version_minor": 0
      },
      "text/plain": [
       "  0%|          | 0/50000 [00:00<?, ?it/s]"
      ]
     },
     "metadata": {},
     "output_type": "display_data"
    },
    {
     "data": {
      "application/vnd.jupyter.widget-view+json": {
       "model_id": "695f1d87b0234fb4a9eff9f5cb3c51f6",
       "version_major": 2,
       "version_minor": 0
      },
      "text/plain": [
       "  0%|          | 0/50000 [00:00<?, ?it/s]"
      ]
     },
     "metadata": {},
     "output_type": "display_data"
    },
    {
     "data": {
      "application/vnd.jupyter.widget-view+json": {
       "model_id": "3d95779dd18a4f5ead7be490b9e6fa89",
       "version_major": 2,
       "version_minor": 0
      },
      "text/plain": [
       "  0%|          | 0/50000 [00:00<?, ?it/s]"
      ]
     },
     "metadata": {},
     "output_type": "display_data"
    },
    {
     "name": "stdout",
     "output_type": "stream",
     "text": [
      "BHM_M for many T's finished.\n"
     ]
    }
   ],
   "source": [
    "n_samples = 50000\n",
    "DeltaEb = 2\n",
    "DeltaE_fix = 1\n",
    "print(\"BHM_M for many T's started.\")\n",
    "T_BHM = [Tc+i*sigmaT for i in [3, -3, 6, -6, -9, -12]]\n",
    "N_UpDown1, Thermo1 = many_temperatures(L, Tc, T_BHM, n_samples, DeltaEb, DeltaE_fix)\n",
    "print(\"BHM_M for many T's finished.\")"
   ]
  },
  {
   "cell_type": "code",
   "execution_count": 32,
   "id": "25475385",
   "metadata": {
    "execution": {
     "iopub.execute_input": "2022-12-06T09:17:35.704795Z",
     "iopub.status.busy": "2022-12-06T09:17:35.704407Z",
     "iopub.status.idle": "2022-12-06T09:17:37.517737Z",
     "shell.execute_reply": "2022-12-06T09:17:37.516652Z"
    },
    "papermill": {
     "duration": 1.833218,
     "end_time": "2022-12-06T09:17:37.520311",
     "exception": false,
     "start_time": "2022-12-06T09:17:35.687093",
     "status": "completed"
    },
    "tags": []
   },
   "outputs": [],
   "source": [
    "N_UpDown = np.append(N_UpDown0, N_UpDown1, axis=0)\n",
    "np.savetxt(\"NUP_M.txt\", N_UpDown)\n",
    "Thermo = np.append(Thermo0, Thermo1, axis=0)\n",
    "np.savetxt(\"THERMO_M.txt\", Thermo)"
   ]
  },
  {
   "cell_type": "code",
   "execution_count": 33,
   "id": "9514137a",
   "metadata": {
    "execution": {
     "iopub.execute_input": "2022-12-06T09:17:37.554696Z",
     "iopub.status.busy": "2022-12-06T09:17:37.554304Z",
     "iopub.status.idle": "2022-12-06T09:17:38.856178Z",
     "shell.execute_reply": "2022-12-06T09:17:38.855289Z"
    },
    "papermill": {
     "duration": 1.321334,
     "end_time": "2022-12-06T09:17:38.858358",
     "exception": false,
     "start_time": "2022-12-06T09:17:37.537024",
     "status": "completed"
    },
    "tags": []
   },
   "outputs": [
    {
     "data": {
      "text/plain": [
       "<matplotlib.legend.Legend at 0x7fe35ec61ed0>"
      ]
     },
     "execution_count": 33,
     "metadata": {},
     "output_type": "execute_result"
    },
    {
     "data": {
      "image/png": "[encoded data removed]",
      "text/plain": [
       "<Figure size 432x288 with 2 Axes>"
      ]
     },
     "metadata": {
      "needs_background": "light"
     },
     "output_type": "display_data"
    }
   ],
   "source": [
    "BHM_WOLFF = histogram(N_UpDown, Thermo, 2)\n",
    "fig, ax1 = plt.subplots()\n",
    "ax2 = ax1.twinx()\n",
    "\n",
    "Visits_BHM_WOLFF =  BHM_WOLFF[:,1] # Vistis\n",
    "E_BHM_WOLFF = BHM_WOLFF[:,2] # Energy <E>\n",
    "E2_BHM_WOLFF = BHM_WOLFF[:,3] # <E^2>\n",
    "M_BHM_WOLFF = BHM_WOLFF[:,4] # Magnetization <M>\n",
    "M2_BHM_WOLFF = BHM_WOLFF[:,5] # <M^2>\n",
    "Nup_BHM_WOLFF = BHM_WOLFF[:,6] # N_up\n",
    "Ndown_BHM_WOLFF = BHM_WOLFF[:,7] # N_down\n",
    "\n",
    "ax1.plot(E_BHM_WOLFF, Visits_BHM_WOLFF, 'k.-',label=r'$V(E)$')\n",
    "# ax2.plot(E, M2-M**2, 'b.-',label=r'$Var(M)$')\n",
    "# ax2.plot(E_BHM_WOLFF, M_BHM_WOLFF, 'b.-',label=r'$M$')\n",
    "ax1.set_ylabel('Visits')\n",
    "# ax2.set_ylabel('Magnetization')\n",
    "ax1.set_xlabel('Energy')\n",
    "ax2.legend()"
   ]
  },
  {
   "cell_type": "markdown",
   "id": "f0f358ba",
   "metadata": {
    "execution": {
     "iopub.execute_input": "2022-12-03T16:59:52.606275Z",
     "iopub.status.busy": "2022-12-03T16:59:52.605239Z",
     "iopub.status.idle": "2022-12-03T16:59:52.613007Z",
     "shell.execute_reply": "2022-12-03T16:59:52.611562Z",
     "shell.execute_reply.started": "2022-12-03T16:59:52.606226Z"
    },
    "papermill": {
     "duration": 0.016268,
     "end_time": "2022-12-06T09:17:38.890982",
     "exception": false,
     "start_time": "2022-12-06T09:17:38.874714",
     "status": "completed"
    },
    "tags": []
   },
   "source": [
    "## Plotting"
   ]
  },
  {
   "cell_type": "code",
   "execution_count": 34,
   "id": "ddee4894",
   "metadata": {
    "execution": {
     "iopub.execute_input": "2022-12-06T09:17:38.925206Z",
     "iopub.status.busy": "2022-12-06T09:17:38.924859Z",
     "iopub.status.idle": "2022-12-06T09:17:39.221073Z",
     "shell.execute_reply": "2022-12-06T09:17:39.219927Z"
    },
    "papermill": {
     "duration": 0.316055,
     "end_time": "2022-12-06T09:17:39.223461",
     "exception": false,
     "start_time": "2022-12-06T09:17:38.907406",
     "status": "completed"
    },
    "tags": []
   },
   "outputs": [
    {
     "data": {
      "image/png": "[encoded data removed]",
      "text/plain": [
       "<Figure size 432x288 with 1 Axes>"
      ]
     },
     "metadata": {
      "needs_background": "light"
     },
     "output_type": "display_data"
    }
   ],
   "source": [
    "COND = Ndown_BHM_WOLFF>0\n",
    "beta_M_BHM = 1/DeltaE_fix * np.log(Nup_BHM_WOLFF[COND]/Ndown_BHM_WOLFF[COND])\n",
    "T_BHM = 1/beta_M_BHM\n",
    "entropy_BHM = DoS(E_BHM_WOLFF[COND], beta_M_BHM)\n",
    "plt.plot(E_vals/3000, beta_uC,'b.-',label='Microcanónica')\n",
    "plt.plot(E_BHM_WOLFF[COND]/3000, beta_M_BHM,'r.-', label='Canónica (Wolff)')\n",
    "plt.xlabel(r'Energy per bond')\n",
    "plt.ylabel(r'$\\beta(E)$')\n",
    "plt.legend()\n",
    "plt.minorticks_on()"
   ]
  },
  {
   "cell_type": "code",
   "execution_count": 35,
   "id": "88671a0e",
   "metadata": {
    "execution": {
     "iopub.execute_input": "2022-12-06T09:17:39.258890Z",
     "iopub.status.busy": "2022-12-06T09:17:39.258055Z",
     "iopub.status.idle": "2022-12-06T09:17:39.409216Z",
     "shell.execute_reply": "2022-12-06T09:17:39.408018Z"
    },
    "papermill": {
     "duration": 0.171321,
     "end_time": "2022-12-06T09:17:39.411683",
     "exception": false,
     "start_time": "2022-12-06T09:17:39.240362",
     "status": "completed"
    },
    "tags": []
   },
   "outputs": [
    {
     "data": {
      "text/plain": [
       "<matplotlib.legend.Legend at 0x7fe35c483190>"
      ]
     },
     "execution_count": 35,
     "metadata": {},
     "output_type": "execute_result"
    },
    {
     "data": {
      "image/png": "[encoded data removed]",
      "text/plain": [
       "<Figure size 432x288 with 1 Axes>"
      ]
     },
     "metadata": {
      "needs_background": "light"
     },
     "output_type": "display_data"
    }
   ],
   "source": [
    "plt.plot(E_BHM_WOLFF[COND]/3000, entropy_BHM,'r.-',label='Canónica (Wolff)')\n",
    "plt.plot(E_vals/3000, entropy,'b-',label='Microcanónica')\n",
    "plt.xlabel(r'Energy per bond')\n",
    "plt.ylabel(r'$S(E)$')\n",
    "plt.legend()"
   ]
  },
  {
   "cell_type": "code",
   "execution_count": 36,
   "id": "2b0ecc1b",
   "metadata": {
    "execution": {
     "iopub.execute_input": "2022-12-06T09:17:39.447307Z",
     "iopub.status.busy": "2022-12-06T09:17:39.446974Z",
     "iopub.status.idle": "2022-12-06T09:17:39.582984Z",
     "shell.execute_reply": "2022-12-06T09:17:39.582111Z"
    },
    "papermill": {
     "duration": 0.155743,
     "end_time": "2022-12-06T09:17:39.584905",
     "exception": false,
     "start_time": "2022-12-06T09:17:39.429162",
     "status": "completed"
    },
    "tags": []
   },
   "outputs": [
    {
     "data": {
      "text/plain": [
       "Text(0, 0.5, '$C_v$ per site')"
      ]
     },
     "execution_count": 36,
     "metadata": {},
     "output_type": "execute_result"
    },
    {
     "data": {
      "image/png": "[encoded data removed]",
      "text/plain": [
       "<Figure size 432x288 with 1 Axes>"
      ]
     },
     "metadata": {
      "needs_background": "light"
     },
     "output_type": "display_data"
    }
   ],
   "source": [
    "cv_plot =  (E2_BHM_WOLFF[COND] - (E_BHM_WOLFF[COND])**2)/(10**3*T_BHM**2)\n",
    "plt.plot(T_BHM, cv_plot ,'k.')\n",
    "plt.xlabel('Temperature')\n",
    "plt.ylabel(r'$C_v$ per site')"
   ]
  },
  {
   "cell_type": "code",
   "execution_count": 37,
   "id": "af3d5c3f",
   "metadata": {
    "execution": {
     "iopub.execute_input": "2022-12-06T09:17:39.621210Z",
     "iopub.status.busy": "2022-12-06T09:17:39.620370Z",
     "iopub.status.idle": "2022-12-06T09:17:39.774274Z",
     "shell.execute_reply": "2022-12-06T09:17:39.773629Z"
    },
    "papermill": {
     "duration": 0.173805,
     "end_time": "2022-12-06T09:17:39.776202",
     "exception": false,
     "start_time": "2022-12-06T09:17:39.602397",
     "status": "completed"
    },
    "tags": []
   },
   "outputs": [
    {
     "data": {
      "text/plain": [
       "<matplotlib.legend.Legend at 0x7fe35c388950>"
      ]
     },
     "execution_count": 37,
     "metadata": {},
     "output_type": "execute_result"
    },
    {
     "data": {
      "image/png": "[encoded data removed]",
      "text/plain": [
       "<Figure size 432x288 with 1 Axes>"
      ]
     },
     "metadata": {
      "needs_background": "light"
     },
     "output_type": "display_data"
    }
   ],
   "source": [
    "plt.plot(T_vals, Thermo_W[:,0],'ko-',label='Wolff')\n",
    "plt.plot(T_uC[vals], Thermo_avg[vals,0],'b.-',label=\"BHM Micro\")\n",
    "plt.plot(T_BHM, M_BHM_WOLFF[COND] ,'r.-', label='BHM Wolff')\n",
    "plt.xlabel('Temperature')\n",
    "plt.ylabel(r'$\\langle M\\rangle$')\n",
    "plt.legend()"
   ]
  },
  {
   "cell_type": "code",
   "execution_count": 38,
   "id": "d5e26217",
   "metadata": {
    "execution": {
     "iopub.execute_input": "2022-12-06T09:17:39.813845Z",
     "iopub.status.busy": "2022-12-06T09:17:39.813303Z",
     "iopub.status.idle": "2022-12-06T09:17:39.949301Z",
     "shell.execute_reply": "2022-12-06T09:17:39.947976Z"
    },
    "papermill": {
     "duration": 0.157847,
     "end_time": "2022-12-06T09:17:39.952000",
     "exception": false,
     "start_time": "2022-12-06T09:17:39.794153",
     "status": "completed"
    },
    "tags": []
   },
   "outputs": [
    {
     "data": {
      "text/plain": [
       "Text(0, 0.5, '$X_m$')"
      ]
     },
     "execution_count": 38,
     "metadata": {},
     "output_type": "execute_result"
    },
    {
     "data": {
      "image/png": "[encoded data removed]",
      "text/plain": [
       "<Figure size 432x288 with 1 Axes>"
      ]
     },
     "metadata": {
      "needs_background": "light"
     },
     "output_type": "display_data"
    }
   ],
   "source": [
    "Xm_plot =  (M2_BHM_WOLFF[COND] - M_BHM_WOLFF[COND]**2)/T_BHM\n",
    "plt.plot(T_BHM, Xm_plot ,'bo-',mfc='w')\n",
    "# plt.plot(T_vals, Thermo_W[:,1],'ko-',mfc='w',label='L={}'.format(L))\n",
    "plt.xlabel('Temperature')\n",
    "plt.ylabel(r'$X_m$')"
   ]
  }
 ],
 "metadata": {
  "kernelspec": {
   "display_name": "Python 3",
   "language": "python",
   "name": "python3"
  },
  "language_info": {
   "codemirror_mode": {
    "name": "ipython",
    "version": 3
   },
   "file_extension": ".py",
   "mimetype": "text/x-python",
   "name": "python",
   "nbconvert_exporter": "python",
   "pygments_lexer": "ipython3",
   "version": "3.7.12"
  },
  "papermill": {
   "default_parameters": {},
   "duration": 37345.752495,
   "end_time": "2022-12-06T09:17:41.258125",
   "environment_variables": {},
   "exception": null,
   "input_path": "__notebook__.ipynb",
   "output_path": "__notebook__.ipynb",
   "parameters": {},
   "start_time": "2022-12-05T22:55:15.505630",
   "version": "2.3.4"
  },
  "widgets": {
   "application/vnd.jupyter.widget-state+json": {
    "state": {
     "05bc281c9344405ca135766bd1255fc3": {
      "model_module": "@jupyter-widgets/base",
      "model_module_version": "1.2.0",
      "model_name": "LayoutModel",
      "state": {
       "_model_module": "@jupyter-widgets/base",
       "_model_module_version": "1.2.0",
       "_model_name": "LayoutModel",
       "_view_count": null,
       "_view_module": "@jupyter-widgets/base",
       "_view_module_version": "1.2.0",
       "_view_name": "LayoutView",
       "align_content": null,
       "align_items": null,
       "align_self": null,
       "border": null,
       "bottom": null,
       "display": null,
       "flex": null,
       "flex_flow": null,
       "grid_area": null,
       "grid_auto_columns": null,
       "grid_auto_flow": null,
       "grid_auto_rows": null,
       "grid_column": null,
       "grid_gap": null,
       "grid_row": null,
       "grid_template_areas": null,
       "grid_template_columns": null,
       "grid_template_rows": null,
       "height": null,
       "justify_content": null,
       "justify_items": null,
       "left": null,
       "margin": null,
       "max_height": null,
       "max_width": null,
       "min_height": null,
       "min_width": null,
       "object_fit": null,
       "object_position": null,
       "order": null,
       "overflow": null,
       "overflow_x": null,
       "overflow_y": null,
       "padding": null,
       "right": null,
       "top": null,
       "visibility": null,
       "width": null
      }
     },
     "086440dc8cfe4e08a6b0df34980465ad": {
      "model_module": "@jupyter-widgets/base",
      "model_module_version": "1.2.0",
      "model_name": "LayoutModel",
      "state": {
       "_model_module": "@jupyter-widgets/base",
       "_model_module_version": "1.2.0",
       "_model_name": "LayoutModel",
       "_view_count": null,
       "_view_module": "@jupyter-widgets/base",
       "_view_module_version": "1.2.0",
       "_view_name": "LayoutView",
       "align_content": null,
       "align_items": null,
       "align_self": null,
       "border": null,
       "bottom": null,
       "display": null,
       "flex": null,
       "flex_flow": null,
       "grid_area": null,
       "grid_auto_columns": null,
       "grid_auto_flow": null,
       "grid_auto_rows": null,
       "grid_column": null,
       "grid_gap": null,
       "grid_row": null,
       "grid_template_areas": null,
       "grid_template_columns": null,
       "grid_template_rows": null,
       "height": null,
       "justify_content": null,
       "justify_items": null,
       "left": null,
       "margin": null,
       "max_height": null,
       "max_width": null,
       "min_height": null,
       "min_width": null,
       "object_fit": null,
       "object_position": null,
       "order": null,
       "overflow": null,
       "overflow_x": null,
       "overflow_y": null,
       "padding": null,
       "right": null,
       "top": null,
       "visibility": null,
       "width": null
      }
     },
     "09f189b487664e08927bc925d87fd1d6": {
      "model_module": "@jupyter-widgets/base",
      "model_module_version": "1.2.0",
      "model_name": "LayoutModel",
      "state": {
       "_model_module": "@jupyter-widgets/base",
       "_model_module_version": "1.2.0",
       "_model_name": "LayoutModel",
       "_view_count": null,
       "_view_module": "@jupyter-widgets/base",
       "_view_module_version": "1.2.0",
       "_view_name": "LayoutView",
       "align_content": null,
       "align_items": null,
       "align_self": null,
       "border": null,
       "bottom": null,
       "display": null,
       "flex": null,
       "flex_flow": null,
       "grid_area": null,
       "grid_auto_columns": null,
       "grid_auto_flow": null,
       "grid_auto_rows": null,
       "grid_column": null,
       "grid_gap": null,
       "grid_row": null,
       "grid_template_areas": null,
       "grid_template_columns": null,
       "grid_template_rows": null,
       "height": null,
       "justify_content": null,
       "justify_items": null,
       "left": null,
       "margin": null,
       "max_height": null,
       "max_width": null,
       "min_height": null,
       "min_width": null,
       "object_fit": null,
       "object_position": null,
       "order": null,
       "overflow": null,
       "overflow_x": null,
       "overflow_y": null,
       "padding": null,
       "right": null,
       "top": null,
       "visibility": null,
       "width": null
      }
     },
     "0b8e526d4753495cb7b05153637c6272": {
      "model_module": "@jupyter-widgets/controls",
      "model_module_version": "1.5.0",
      "model_name": "HTMLModel",
      "state": {
       "_dom_classes": [],
       "_model_module": "@jupyter-widgets/controls",
       "_model_module_version": "1.5.0",
       "_model_name": "HTMLModel",
       "_view_count": null,
       "_view_module": "@jupyter-widgets/controls",
       "_view_module_version": "1.5.0",
       "_view_name": "HTMLView",
       "description": "",
       "description_tooltip": null,
       "layout": "IPY_MODEL_e0efb54a20b943829ddd2ec0a4aa5654",
       "placeholder": "​",
       "style": "IPY_MODEL_b13e44ced2604016b62c5db3f365718c",
       "value": "100%"
      }
     },
     "0cda6cd5c9d04bc38eea63c50e998704": {
      "model_module": "@jupyter-widgets/controls",
      "model_module_version": "1.5.0",
      "model_name": "FloatProgressModel",
      "state": {
       "_dom_classes": [],
       "_model_module": "@jupyter-widgets/controls",
       "_model_module_version": "1.5.0",
       "_model_name": "FloatProgressModel",
       "_view_count": null,
       "_view_module": "@jupyter-widgets/controls",
       "_view_module_version": "1.5.0",
       "_view_name": "ProgressView",
       "bar_style": "success",
       "description": "",
       "description_tooltip": null,
       "layout": "IPY_MODEL_ddde440738bf43d8a2d01451e5660720",
       "max": 50000.0,
       "min": 0.0,
       "orientation": "horizontal",
       "style": "IPY_MODEL_8bb6a6b5b49645f18c41885cf20a4e85",
       "value": 50000.0
      }
     },
     "10c9906066eb4d0587c7dd60c5a1b9ce": {
      "model_module": "@jupyter-widgets/controls",
      "model_module_version": "1.5.0",
      "model_name": "HBoxModel",
      "state": {
       "_dom_classes": [],
       "_model_module": "@jupyter-widgets/controls",
       "_model_module_version": "1.5.0",
       "_model_name": "HBoxModel",
       "_view_count": null,
       "_view_module": "@jupyter-widgets/controls",
       "_view_module_version": "1.5.0",
       "_view_name": "HBoxView",
       "box_style": "",
       "children": [
        "IPY_MODEL_caf5c0cb3b2d4009bdf192d2b871fcf0",
        "IPY_MODEL_46365a17b09944abba9027da7a8aaf77",
        "IPY_MODEL_9b908f1d10a54068bd0ba1254a431e91"
       ],
       "layout": "IPY_MODEL_09f189b487664e08927bc925d87fd1d6"
      }
     },
     "13fee811c4e44d19ab2610d25fa3531e": {
      "model_module": "@jupyter-widgets/controls",
      "model_module_version": "1.5.0",
      "model_name": "ProgressStyleModel",
      "state": {
       "_model_module": "@jupyter-widgets/controls",
       "_model_module_version": "1.5.0",
       "_model_name": "ProgressStyleModel",
       "_view_count": null,
       "_view_module": "@jupyter-widgets/base",
       "_view_module_version": "1.2.0",
       "_view_name": "StyleView",
       "bar_color": null,
       "description_width": ""
      }
     },
     "14be1b77ca4846dfad772b85e46c2d70": {
      "model_module": "@jupyter-widgets/controls",
      "model_module_version": "1.5.0",
      "model_name": "DescriptionStyleModel",
      "state": {
       "_model_module": "@jupyter-widgets/controls",
       "_model_module_version": "1.5.0",
       "_model_name": "DescriptionStyleModel",
       "_view_count": null,
       "_view_module": "@jupyter-widgets/base",
       "_view_module_version": "1.2.0",
       "_view_name": "StyleView",
       "description_width": ""
      }
     },
     "1546efab0007405790aae0931012f744": {
      "model_module": "@jupyter-widgets/controls",
      "model_module_version": "1.5.0",
      "model_name": "FloatProgressModel",
      "state": {
       "_dom_classes": [],
       "_model_module": "@jupyter-widgets/controls",
       "_model_module_version": "1.5.0",
       "_model_name": "FloatProgressModel",
       "_view_count": null,
       "_view_module": "@jupyter-widgets/controls",
       "_view_module_version": "1.5.0",
       "_view_name": "ProgressView",
       "bar_style": "success",
       "description": "",
       "description_tooltip": null,
       "layout": "IPY_MODEL_3feb73355702433e9ddcb321a6f77e53",
       "max": 50000.0,
       "min": 0.0,
       "orientation": "horizontal",
       "style": "IPY_MODEL_848cf73bacc6403c8d2e4c207acce712",
       "value": 50000.0
      }
     },
     "170cf57f5e4a46ef901c1d937c44e310": {
      "model_module": "@jupyter-widgets/base",
      "model_module_version": "1.2.0",
      "model_name": "LayoutModel",
      "state": {
       "_model_module": "@jupyter-widgets/base",
       "_model_module_version": "1.2.0",
       "_model_name": "LayoutModel",
       "_view_count": null,
       "_view_module": "@jupyter-widgets/base",
       "_view_module_version": "1.2.0",
       "_view_name": "LayoutView",
       "align_content": null,
       "align_items": null,
       "align_self": null,
       "border": null,
       "bottom": null,
       "display": null,
       "flex": null,
       "flex_flow": null,
       "grid_area": null,
       "grid_auto_columns": null,
       "grid_auto_flow": null,
       "grid_auto_rows": null,
       "grid_column": null,
       "grid_gap": null,
       "grid_row": null,
       "grid_template_areas": null,
       "grid_template_columns": null,
       "grid_template_rows": null,
       "height": null,
       "justify_content": null,
       "justify_items": null,
       "left": null,
       "margin": null,
       "max_height": null,
       "max_width": null,
       "min_height": null,
       "min_width": null,
       "object_fit": null,
       "object_position": null,
       "order": null,
       "overflow": null,
       "overflow_x": null,
       "overflow_y": null,
       "padding": null,
       "right": null,
       "top": null,
       "visibility": null,
       "width": null
      }
     },
     "1b9a24ef51e049ddabf5a8f9c728b256": {
      "model_module": "@jupyter-widgets/controls",
      "model_module_version": "1.5.0",
      "model_name": "HTMLModel",
      "state": {
       "_dom_classes": [],
       "_model_module": "@jupyter-widgets/controls",
       "_model_module_version": "1.5.0",
       "_model_name": "HTMLModel",
       "_view_count": null,
       "_view_module": "@jupyter-widgets/controls",
       "_view_module_version": "1.5.0",
       "_view_name": "HTMLView",
       "description": "",
       "description_tooltip": null,
       "layout": "IPY_MODEL_2eda85b085c248d98c65de4cf0bf13c6",
       "placeholder": "​",
       "style": "IPY_MODEL_6ba8a11779e4446dbaaf84e93da1ba70",
       "value": " 30/30 [23:48&lt;00:00, 91.43s/it]"
      }
     },
     "1bd18fb221bf4027b8555261211f34b9": {
      "model_module": "@jupyter-widgets/base",
      "model_module_version": "1.2.0",
      "model_name": "LayoutModel",
      "state": {
       "_model_module": "@jupyter-widgets/base",
       "_model_module_version": "1.2.0",
       "_model_name": "LayoutModel",
       "_view_count": null,
       "_view_module": "@jupyter-widgets/base",
       "_view_module_version": "1.2.0",
       "_view_name": "LayoutView",
       "align_content": null,
       "align_items": null,
       "align_self": null,
       "border": null,
       "bottom": null,
       "display": null,
       "flex": null,
       "flex_flow": null,
       "grid_area": null,
       "grid_auto_columns": null,
       "grid_auto_flow": null,
       "grid_auto_rows": null,
       "grid_column": null,
       "grid_gap": null,
       "grid_row": null,
       "grid_template_areas": null,
       "grid_template_columns": null,
       "grid_template_rows": null,
       "height": null,
       "justify_content": null,
       "justify_items": null,
       "left": null,
       "margin": null,
       "max_height": null,
       "max_width": null,
       "min_height": null,
       "min_width": null,
       "object_fit": null,
       "object_position": null,
       "order": null,
       "overflow": null,
       "overflow_x": null,
       "overflow_y": null,
       "padding": null,
       "right": null,
       "top": null,
       "visibility": null,
       "width": null
      }
     },
     "1d076368d69a4449853ec02fdf16dace": {
      "model_module": "@jupyter-widgets/controls",
      "model_module_version": "1.5.0",
      "model_name": "HBoxModel",
      "state": {
       "_dom_classes": [],
       "_model_module": "@jupyter-widgets/controls",
       "_model_module_version": "1.5.0",
       "_model_name": "HBoxModel",
       "_view_count": null,
       "_view_module": "@jupyter-widgets/controls",
       "_view_module_version": "1.5.0",
       "_view_name": "HBoxView",
       "box_style": "",
       "children": [
        "IPY_MODEL_8c719a56f569479ca8dc40e950d0cfad",
        "IPY_MODEL_95d612d97dbd45109098a26d1487dfad",
        "IPY_MODEL_67d91087ab764dba8df6ef40cb552adb"
       ],
       "layout": "IPY_MODEL_79f818b953a64b94bff4f2c4675afef7"
      }
     },
     "215d3054b52143fcbe9d1a0d4141bb06": {
      "model_module": "@jupyter-widgets/controls",
      "model_module_version": "1.5.0",
      "model_name": "ProgressStyleModel",
      "state": {
       "_model_module": "@jupyter-widgets/controls",
       "_model_module_version": "1.5.0",
       "_model_name": "ProgressStyleModel",
       "_view_count": null,
       "_view_module": "@jupyter-widgets/base",
       "_view_module_version": "1.2.0",
       "_view_name": "StyleView",
       "bar_color": null,
       "description_width": ""
      }
     },
     "240ec717433845d09959219488df6714": {
      "model_module": "@jupyter-widgets/controls",
      "model_module_version": "1.5.0",
      "model_name": "DescriptionStyleModel",
      "state": {
       "_model_module": "@jupyter-widgets/controls",
       "_model_module_version": "1.5.0",
       "_model_name": "DescriptionStyleModel",
       "_view_count": null,
       "_view_module": "@jupyter-widgets/base",
       "_view_module_version": "1.2.0",
       "_view_name": "StyleView",
       "description_width": ""
      }
     },
     "2635eeafdf90416b85ee54df6336ac56": {
      "model_module": "@jupyter-widgets/base",
      "model_module_version": "1.2.0",
      "model_name": "LayoutModel",
      "state": {
       "_model_module": "@jupyter-widgets/base",
       "_model_module_version": "1.2.0",
       "_model_name": "LayoutModel",
       "_view_count": null,
       "_view_module": "@jupyter-widgets/base",
       "_view_module_version": "1.2.0",
       "_view_name": "LayoutView",
       "align_content": null,
       "align_items": null,
       "align_self": null,
       "border": null,
       "bottom": null,
       "display": null,
       "flex": null,
       "flex_flow": null,
       "grid_area": null,
       "grid_auto_columns": null,
       "grid_auto_flow": null,
       "grid_auto_rows": null,
       "grid_column": null,
       "grid_gap": null,
       "grid_row": null,
       "grid_template_areas": null,
       "grid_template_columns": null,
       "grid_template_rows": null,
       "height": null,
       "justify_content": null,
       "justify_items": null,
       "left": null,
       "margin": null,
       "max_height": null,
       "max_width": null,
       "min_height": null,
       "min_width": null,
       "object_fit": null,
       "object_position": null,
       "order": null,
       "overflow": null,
       "overflow_x": null,
       "overflow_y": null,
       "padding": null,
       "right": null,
       "top": null,
       "visibility": null,
       "width": null
      }
     },
     "275d4242f86d48f2907c7eaf80198716": {
      "model_module": "@jupyter-widgets/base",
      "model_module_version": "1.2.0",
      "model_name": "LayoutModel",
      "state": {
       "_model_module": "@jupyter-widgets/base",
       "_model_module_version": "1.2.0",
       "_model_name": "LayoutModel",
       "_view_count": null,
       "_view_module": "@jupyter-widgets/base",
       "_view_module_version": "1.2.0",
       "_view_name": "LayoutView",
       "align_content": null,
       "align_items": null,
       "align_self": null,
       "border": null,
       "bottom": null,
       "display": null,
       "flex": null,
       "flex_flow": null,
       "grid_area": null,
       "grid_auto_columns": null,
       "grid_auto_flow": null,
       "grid_auto_rows": null,
       "grid_column": null,
       "grid_gap": null,
       "grid_row": null,
       "grid_template_areas": null,
       "grid_template_columns": null,
       "grid_template_rows": null,
       "height": null,
       "justify_content": null,
       "justify_items": null,
       "left": null,
       "margin": null,
       "max_height": null,
       "max_width": null,
       "min_height": null,
       "min_width": null,
       "object_fit": null,
       "object_position": null,
       "order": null,
       "overflow": null,
       "overflow_x": null,
       "overflow_y": null,
       "padding": null,
       "right": null,
       "top": null,
       "visibility": null,
       "width": null
      }
     },
     "2959faa215e94c00a3a8fb174f5f762a": {
      "model_module": "@jupyter-widgets/base",
      "model_module_version": "1.2.0",
      "model_name": "LayoutModel",
      "state": {
       "_model_module": "@jupyter-widgets/base",
       "_model_module_version": "1.2.0",
       "_model_name": "LayoutModel",
       "_view_count": null,
       "_view_module": "@jupyter-widgets/base",
       "_view_module_version": "1.2.0",
       "_view_name": "LayoutView",
       "align_content": null,
       "align_items": null,
       "align_self": null,
       "border": null,
       "bottom": null,
       "display": null,
       "flex": null,
       "flex_flow": null,
       "grid_area": null,
       "grid_auto_columns": null,
       "grid_auto_flow": null,
       "grid_auto_rows": null,
       "grid_column": null,
       "grid_gap": null,
       "grid_row": null,
       "grid_template_areas": null,
       "grid_template_columns": null,
       "grid_template_rows": null,
       "height": null,
       "justify_content": null,
       "justify_items": null,
       "left": null,
       "margin": null,
       "max_height": null,
       "max_width": null,
       "min_height": null,
       "min_width": null,
       "object_fit": null,
       "object_position": null,
       "order": null,
       "overflow": null,
       "overflow_x": null,
       "overflow_y": null,
       "padding": null,
       "right": null,
       "top": null,
       "visibility": null,
       "width": null
      }
     },
     "2b0e99ea059e41b1bbe0b3107376f470": {
      "model_module": "@jupyter-widgets/base",
      "model_module_version": "1.2.0",
      "model_name": "LayoutModel",
      "state": {
       "_model_module": "@jupyter-widgets/base",
       "_model_module_version": "1.2.0",
       "_model_name": "LayoutModel",
       "_view_count": null,
       "_view_module": "@jupyter-widgets/base",
       "_view_module_version": "1.2.0",
       "_view_name": "LayoutView",
       "align_content": null,
       "align_items": null,
       "align_self": null,
       "border": null,
       "bottom": null,
       "display": null,
       "flex": null,
       "flex_flow": null,
       "grid_area": null,
       "grid_auto_columns": null,
       "grid_auto_flow": null,
       "grid_auto_rows": null,
       "grid_column": null,
       "grid_gap": null,
       "grid_row": null,
       "grid_template_areas": null,
       "grid_template_columns": null,
       "grid_template_rows": null,
       "height": null,
       "justify_content": null,
       "justify_items": null,
       "left": null,
       "margin": null,
       "max_height": null,
       "max_width": null,
       "min_height": null,
       "min_width": null,
       "object_fit": null,
       "object_position": null,
       "order": null,
       "overflow": null,
       "overflow_x": null,
       "overflow_y": null,
       "padding": null,
       "right": null,
       "top": null,
       "visibility": null,
       "width": null
      }
     },
     "2bc7645942f34a8987f391dd719af9e3": {
      "model_module": "@jupyter-widgets/base",
      "model_module_version": "1.2.0",
      "model_name": "LayoutModel",
      "state": {
       "_model_module": "@jupyter-widgets/base",
       "_model_module_version": "1.2.0",
       "_model_name": "LayoutModel",
       "_view_count": null,
       "_view_module": "@jupyter-widgets/base",
       "_view_module_version": "1.2.0",
       "_view_name": "LayoutView",
       "align_content": null,
       "align_items": null,
       "align_self": null,
       "border": null,
       "bottom": null,
       "display": null,
       "flex": null,
       "flex_flow": null,
       "grid_area": null,
       "grid_auto_columns": null,
       "grid_auto_flow": null,
       "grid_auto_rows": null,
       "grid_column": null,
       "grid_gap": null,
       "grid_row": null,
       "grid_template_areas": null,
       "grid_template_columns": null,
       "grid_template_rows": null,
       "height": null,
       "justify_content": null,
       "justify_items": null,
       "left": null,
       "margin": null,
       "max_height": null,
       "max_width": null,
       "min_height": null,
       "min_width": null,
       "object_fit": null,
       "object_position": null,
       "order": null,
       "overflow": null,
       "overflow_x": null,
       "overflow_y": null,
       "padding": null,
       "right": null,
       "top": null,
       "visibility": null,
       "width": null
      }
     },
     "2eda85b085c248d98c65de4cf0bf13c6": {
      "model_module": "@jupyter-widgets/base",
      "model_module_version": "1.2.0",
      "model_name": "LayoutModel",
      "state": {
       "_model_module": "@jupyter-widgets/base",
       "_model_module_version": "1.2.0",
       "_model_name": "LayoutModel",
       "_view_count": null,
       "_view_module": "@jupyter-widgets/base",
       "_view_module_version": "1.2.0",
       "_view_name": "LayoutView",
       "align_content": null,
       "align_items": null,
       "align_self": null,
       "border": null,
       "bottom": null,
       "display": null,
       "flex": null,
       "flex_flow": null,
       "grid_area": null,
       "grid_auto_columns": null,
       "grid_auto_flow": null,
       "grid_auto_rows": null,
       "grid_column": null,
       "grid_gap": null,
       "grid_row": null,
       "grid_template_areas": null,
       "grid_template_columns": null,
       "grid_template_rows": null,
       "height": null,
       "justify_content": null,
       "justify_items": null,
       "left": null,
       "margin": null,
       "max_height": null,
       "max_width": null,
       "min_height": null,
       "min_width": null,
       "object_fit": null,
       "object_position": null,
       "order": null,
       "overflow": null,
       "overflow_x": null,
       "overflow_y": null,
       "padding": null,
       "right": null,
       "top": null,
       "visibility": null,
       "width": null
      }
     },
     "33e2906149694429a82aa8780f7f265a": {
      "model_module": "@jupyter-widgets/controls",
      "model_module_version": "1.5.0",
      "model_name": "DescriptionStyleModel",
      "state": {
       "_model_module": "@jupyter-widgets/controls",
       "_model_module_version": "1.5.0",
       "_model_name": "DescriptionStyleModel",
       "_view_count": null,
       "_view_module": "@jupyter-widgets/base",
       "_view_module_version": "1.2.0",
       "_view_name": "StyleView",
       "description_width": ""
      }
     },
     "35471a1ca88e480f8c683dec76690803": {
      "model_module": "@jupyter-widgets/controls",
      "model_module_version": "1.5.0",
      "model_name": "HBoxModel",
      "state": {
       "_dom_classes": [],
       "_model_module": "@jupyter-widgets/controls",
       "_model_module_version": "1.5.0",
       "_model_name": "HBoxModel",
       "_view_count": null,
       "_view_module": "@jupyter-widgets/controls",
       "_view_module_version": "1.5.0",
       "_view_name": "HBoxView",
       "box_style": "",
       "children": [
        "IPY_MODEL_7944436e2dcd4d4fb35070be13aa0423",
        "IPY_MODEL_0cda6cd5c9d04bc38eea63c50e998704",
        "IPY_MODEL_75f825841f3b4d28a1aa1c7f26bdfb41"
       ],
       "layout": "IPY_MODEL_2bc7645942f34a8987f391dd719af9e3"
      }
     },
     "3d95779dd18a4f5ead7be490b9e6fa89": {
      "model_module": "@jupyter-widgets/controls",
      "model_module_version": "1.5.0",
      "model_name": "HBoxModel",
      "state": {
       "_dom_classes": [],
       "_model_module": "@jupyter-widgets/controls",
       "_model_module_version": "1.5.0",
       "_model_name": "HBoxModel",
       "_view_count": null,
       "_view_module": "@jupyter-widgets/controls",
       "_view_module_version": "1.5.0",
       "_view_name": "HBoxView",
       "box_style": "",
       "children": [
        "IPY_MODEL_cb3ae0fd394c482b8cc33711b6aa01a9",
        "IPY_MODEL_4828f217a1b440ba8c95d4bed02196d2",
        "IPY_MODEL_41c2edfc330049a598455ceff010ecb2"
       ],
       "layout": "IPY_MODEL_1bd18fb221bf4027b8555261211f34b9"
      }
     },
     "3feb73355702433e9ddcb321a6f77e53": {
      "model_module": "@jupyter-widgets/base",
      "model_module_version": "1.2.0",
      "model_name": "LayoutModel",
      "state": {
       "_model_module": "@jupyter-widgets/base",
       "_model_module_version": "1.2.0",
       "_model_name": "LayoutModel",
       "_view_count": null,
       "_view_module": "@jupyter-widgets/base",
       "_view_module_version": "1.2.0",
       "_view_name": "LayoutView",
       "align_content": null,
       "align_items": null,
       "align_self": null,
       "border": null,
       "bottom": null,
       "display": null,
       "flex": null,
       "flex_flow": null,
       "grid_area": null,
       "grid_auto_columns": null,
       "grid_auto_flow": null,
       "grid_auto_rows": null,
       "grid_column": null,
       "grid_gap": null,
       "grid_row": null,
       "grid_template_areas": null,
       "grid_template_columns": null,
       "grid_template_rows": null,
       "height": null,
       "justify_content": null,
       "justify_items": null,
       "left": null,
       "margin": null,
       "max_height": null,
       "max_width": null,
       "min_height": null,
       "min_width": null,
       "object_fit": null,
       "object_position": null,
       "order": null,
       "overflow": null,
       "overflow_x": null,
       "overflow_y": null,
       "padding": null,
       "right": null,
       "top": null,
       "visibility": null,
       "width": null
      }
     },
     "41c2edfc330049a598455ceff010ecb2": {
      "model_module": "@jupyter-widgets/controls",
      "model_module_version": "1.5.0",
      "model_name": "HTMLModel",
      "state": {
       "_dom_classes": [],
       "_model_module": "@jupyter-widgets/controls",
       "_model_module_version": "1.5.0",
       "_model_name": "HTMLModel",
       "_view_count": null,
       "_view_module": "@jupyter-widgets/controls",
       "_view_module_version": "1.5.0",
       "_view_name": "HTMLView",
       "description": "",
       "description_tooltip": null,
       "layout": "IPY_MODEL_2b0e99ea059e41b1bbe0b3107376f470",
       "placeholder": "​",
       "style": "IPY_MODEL_7323013860f54153ba415ec4507bebf9",
       "value": " 50000/50000 [04:45&lt;00:00, 165.72it/s]"
      }
     },
     "46365a17b09944abba9027da7a8aaf77": {
      "model_module": "@jupyter-widgets/controls",
      "model_module_version": "1.5.0",
      "model_name": "FloatProgressModel",
      "state": {
       "_dom_classes": [],
       "_model_module": "@jupyter-widgets/controls",
       "_model_module_version": "1.5.0",
       "_model_name": "FloatProgressModel",
       "_view_count": null,
       "_view_module": "@jupyter-widgets/controls",
       "_view_module_version": "1.5.0",
       "_view_name": "ProgressView",
       "bar_style": "success",
       "description": "",
       "description_tooltip": null,
       "layout": "IPY_MODEL_f3e8420b534341ddbd229e7ae0635e28",
       "max": 50000.0,
       "min": 0.0,
       "orientation": "horizontal",
       "style": "IPY_MODEL_b7f1fc602ae34bc989cd544b7106c22a",
       "value": 50000.0
      }
     },
     "4828f217a1b440ba8c95d4bed02196d2": {
      "model_module": "@jupyter-widgets/controls",
      "model_module_version": "1.5.0",
      "model_name": "FloatProgressModel",
      "state": {
       "_dom_classes": [],
       "_model_module": "@jupyter-widgets/controls",
       "_model_module_version": "1.5.0",
       "_model_name": "FloatProgressModel",
       "_view_count": null,
       "_view_module": "@jupyter-widgets/controls",
       "_view_module_version": "1.5.0",
       "_view_name": "ProgressView",
       "bar_style": "success",
       "description": "",
       "description_tooltip": null,
       "layout": "IPY_MODEL_b788614632124a9ea98dadb01cff002c",
       "max": 50000.0,
       "min": 0.0,
       "orientation": "horizontal",
       "style": "IPY_MODEL_e2158229bbeb49f3b3660862c8d327dd",
       "value": 50000.0
      }
     },
     "4a4c2e21f09e4d76afad08374ffd9b56": {
      "model_module": "@jupyter-widgets/controls",
      "model_module_version": "1.5.0",
      "model_name": "FloatProgressModel",
      "state": {
       "_dom_classes": [],
       "_model_module": "@jupyter-widgets/controls",
       "_model_module_version": "1.5.0",
       "_model_name": "FloatProgressModel",
       "_view_count": null,
       "_view_module": "@jupyter-widgets/controls",
       "_view_module_version": "1.5.0",
       "_view_name": "ProgressView",
       "bar_style": "success",
       "description": "",
       "description_tooltip": null,
       "layout": "IPY_MODEL_f1e3d8c9703e4706b62abced64049c84",
       "max": 50000.0,
       "min": 0.0,
       "orientation": "horizontal",
       "style": "IPY_MODEL_13fee811c4e44d19ab2610d25fa3531e",
       "value": 50000.0
      }
     },
     "4c460fdfe35647fc85e09d70b2196bcd": {
      "model_module": "@jupyter-widgets/controls",
      "model_module_version": "1.5.0",
      "model_name": "ProgressStyleModel",
      "state": {
       "_model_module": "@jupyter-widgets/controls",
       "_model_module_version": "1.5.0",
       "_model_name": "ProgressStyleModel",
       "_view_count": null,
       "_view_module": "@jupyter-widgets/base",
       "_view_module_version": "1.2.0",
       "_view_name": "StyleView",
       "bar_color": null,
       "description_width": ""
      }
     },
     "4fa405fd79d6466a93e4d04bdbad2e20": {
      "model_module": "@jupyter-widgets/base",
      "model_module_version": "1.2.0",
      "model_name": "LayoutModel",
      "state": {
       "_model_module": "@jupyter-widgets/base",
       "_model_module_version": "1.2.0",
       "_model_name": "LayoutModel",
       "_view_count": null,
       "_view_module": "@jupyter-widgets/base",
       "_view_module_version": "1.2.0",
       "_view_name": "LayoutView",
       "align_content": null,
       "align_items": null,
       "align_self": null,
       "border": null,
       "bottom": null,
       "display": null,
       "flex": null,
       "flex_flow": null,
       "grid_area": null,
       "grid_auto_columns": null,
       "grid_auto_flow": null,
       "grid_auto_rows": null,
       "grid_column": null,
       "grid_gap": null,
       "grid_row": null,
       "grid_template_areas": null,
       "grid_template_columns": null,
       "grid_template_rows": null,
       "height": null,
       "justify_content": null,
       "justify_items": null,
       "left": null,
       "margin": null,
       "max_height": null,
       "max_width": null,
       "min_height": null,
       "min_width": null,
       "object_fit": null,
       "object_position": null,
       "order": null,
       "overflow": null,
       "overflow_x": null,
       "overflow_y": null,
       "padding": null,
       "right": null,
       "top": null,
       "visibility": null,
       "width": null
      }
     },
     "52785bf2a5aa4d169adb5df964f6568d": {
      "model_module": "@jupyter-widgets/base",
      "model_module_version": "1.2.0",
      "model_name": "LayoutModel",
      "state": {
       "_model_module": "@jupyter-widgets/base",
       "_model_module_version": "1.2.0",
       "_model_name": "LayoutModel",
       "_view_count": null,
       "_view_module": "@jupyter-widgets/base",
       "_view_module_version": "1.2.0",
       "_view_name": "LayoutView",
       "align_content": null,
       "align_items": null,
       "align_self": null,
       "border": null,
       "bottom": null,
       "display": null,
       "flex": null,
       "flex_flow": null,
       "grid_area": null,
       "grid_auto_columns": null,
       "grid_auto_flow": null,
       "grid_auto_rows": null,
       "grid_column": null,
       "grid_gap": null,
       "grid_row": null,
       "grid_template_areas": null,
       "grid_template_columns": null,
       "grid_template_rows": null,
       "height": null,
       "justify_content": null,
       "justify_items": null,
       "left": null,
       "margin": null,
       "max_height": null,
       "max_width": null,
       "min_height": null,
       "min_width": null,
       "object_fit": null,
       "object_position": null,
       "order": null,
       "overflow": null,
       "overflow_x": null,
       "overflow_y": null,
       "padding": null,
       "right": null,
       "top": null,
       "visibility": null,
       "width": null
      }
     },
     "5485dd8e49524c8cae0d9358be51f2e4": {
      "model_module": "@jupyter-widgets/controls",
      "model_module_version": "1.5.0",
      "model_name": "DescriptionStyleModel",
      "state": {
       "_model_module": "@jupyter-widgets/controls",
       "_model_module_version": "1.5.0",
       "_model_name": "DescriptionStyleModel",
       "_view_count": null,
       "_view_module": "@jupyter-widgets/base",
       "_view_module_version": "1.2.0",
       "_view_name": "StyleView",
       "description_width": ""
      }
     },
     "587c03bf091c4121b419b7621ed1bac9": {
      "model_module": "@jupyter-widgets/controls",
      "model_module_version": "1.5.0",
      "model_name": "HBoxModel",
      "state": {
       "_dom_classes": [],
       "_model_module": "@jupyter-widgets/controls",
       "_model_module_version": "1.5.0",
       "_model_name": "HBoxModel",
       "_view_count": null,
       "_view_module": "@jupyter-widgets/controls",
       "_view_module_version": "1.5.0",
       "_view_name": "HBoxView",
       "box_style": "",
       "children": [
        "IPY_MODEL_0b8e526d4753495cb7b05153637c6272",
        "IPY_MODEL_4a4c2e21f09e4d76afad08374ffd9b56",
        "IPY_MODEL_a0246d1038e34665bdc00df441883cef"
       ],
       "layout": "IPY_MODEL_2959faa215e94c00a3a8fb174f5f762a"
      }
     },
     "598e3bf75ce5413e9cba68c1c467a8f5": {
      "model_module": "@jupyter-widgets/base",
      "model_module_version": "1.2.0",
      "model_name": "LayoutModel",
      "state": {
       "_model_module": "@jupyter-widgets/base",
       "_model_module_version": "1.2.0",
       "_model_name": "LayoutModel",
       "_view_count": null,
       "_view_module": "@jupyter-widgets/base",
       "_view_module_version": "1.2.0",
       "_view_name": "LayoutView",
       "align_content": null,
       "align_items": null,
       "align_self": null,
       "border": null,
       "bottom": null,
       "display": null,
       "flex": null,
       "flex_flow": null,
       "grid_area": null,
       "grid_auto_columns": null,
       "grid_auto_flow": null,
       "grid_auto_rows": null,
       "grid_column": null,
       "grid_gap": null,
       "grid_row": null,
       "grid_template_areas": null,
       "grid_template_columns": null,
       "grid_template_rows": null,
       "height": null,
       "justify_content": null,
       "justify_items": null,
       "left": null,
       "margin": null,
       "max_height": null,
       "max_width": null,
       "min_height": null,
       "min_width": null,
       "object_fit": null,
       "object_position": null,
       "order": null,
       "overflow": null,
       "overflow_x": null,
       "overflow_y": null,
       "padding": null,
       "right": null,
       "top": null,
       "visibility": null,
       "width": null
      }
     },
     "62caa19fdab74106ab09c4553ea28b0c": {
      "model_module": "@jupyter-widgets/controls",
      "model_module_version": "1.5.0",
      "model_name": "HBoxModel",
      "state": {
       "_dom_classes": [],
       "_model_module": "@jupyter-widgets/controls",
       "_model_module_version": "1.5.0",
       "_model_name": "HBoxModel",
       "_view_count": null,
       "_view_module": "@jupyter-widgets/controls",
       "_view_module_version": "1.5.0",
       "_view_name": "HBoxView",
       "box_style": "",
       "children": [
        "IPY_MODEL_b58384aae8844c5696991e5b77491d9d",
        "IPY_MODEL_1546efab0007405790aae0931012f744",
        "IPY_MODEL_9dce972e841c4cdd886b22dcd4678719"
       ],
       "layout": "IPY_MODEL_8799b5cbb2ed4897b1f858e1ffd544e1"
      }
     },
     "630d43717c23489980859964f6cc5122": {
      "model_module": "@jupyter-widgets/controls",
      "model_module_version": "1.5.0",
      "model_name": "HTMLModel",
      "state": {
       "_dom_classes": [],
       "_model_module": "@jupyter-widgets/controls",
       "_model_module_version": "1.5.0",
       "_model_name": "HTMLModel",
       "_view_count": null,
       "_view_module": "@jupyter-widgets/controls",
       "_view_module_version": "1.5.0",
       "_view_name": "HTMLView",
       "description": "",
       "description_tooltip": null,
       "layout": "IPY_MODEL_2635eeafdf90416b85ee54df6336ac56",
       "placeholder": "​",
       "style": "IPY_MODEL_f37f49c4029a426d9579139a133df3a4",
       "value": " 50000/50000 [03:25&lt;00:00, 245.89it/s]"
      }
     },
     "67d91087ab764dba8df6ef40cb552adb": {
      "model_module": "@jupyter-widgets/controls",
      "model_module_version": "1.5.0",
      "model_name": "HTMLModel",
      "state": {
       "_dom_classes": [],
       "_model_module": "@jupyter-widgets/controls",
       "_model_module_version": "1.5.0",
       "_model_name": "HTMLModel",
       "_view_count": null,
       "_view_module": "@jupyter-widgets/controls",
       "_view_module_version": "1.5.0",
       "_view_name": "HTMLView",
       "description": "",
       "description_tooltip": null,
       "layout": "IPY_MODEL_8d76ceff159a4be3ab4ac2ba4138b8aa",
       "placeholder": "​",
       "style": "IPY_MODEL_240ec717433845d09959219488df6714",
       "value": " 10/10 [9:35:32&lt;00:00, 3447.25s/it]"
      }
     },
     "695f1d87b0234fb4a9eff9f5cb3c51f6": {
      "model_module": "@jupyter-widgets/controls",
      "model_module_version": "1.5.0",
      "model_name": "HBoxModel",
      "state": {
       "_dom_classes": [],
       "_model_module": "@jupyter-widgets/controls",
       "_model_module_version": "1.5.0",
       "_model_name": "HBoxModel",
       "_view_count": null,
       "_view_module": "@jupyter-widgets/controls",
       "_view_module_version": "1.5.0",
       "_view_name": "HBoxView",
       "box_style": "",
       "children": [
        "IPY_MODEL_c580a11a9cbc47dbbd19b6c251746b10",
        "IPY_MODEL_c664bf28bac34612bde1a58d0c85b06b",
        "IPY_MODEL_d5448220746d4316b009b2827b2ee02b"
       ],
       "layout": "IPY_MODEL_05bc281c9344405ca135766bd1255fc3"
      }
     },
     "6b77a44f7b05494788e6578f68f3ec16": {
      "model_module": "@jupyter-widgets/base",
      "model_module_version": "1.2.0",
      "model_name": "LayoutModel",
      "state": {
       "_model_module": "@jupyter-widgets/base",
       "_model_module_version": "1.2.0",
       "_model_name": "LayoutModel",
       "_view_count": null,
       "_view_module": "@jupyter-widgets/base",
       "_view_module_version": "1.2.0",
       "_view_name": "LayoutView",
       "align_content": null,
       "align_items": null,
       "align_self": null,
       "border": null,
       "bottom": null,
       "display": null,
       "flex": null,
       "flex_flow": null,
       "grid_area": null,
       "grid_auto_columns": null,
       "grid_auto_flow": null,
       "grid_auto_rows": null,
       "grid_column": null,
       "grid_gap": null,
       "grid_row": null,
       "grid_template_areas": null,
       "grid_template_columns": null,
       "grid_template_rows": null,
       "height": null,
       "justify_content": null,
       "justify_items": null,
       "left": null,
       "margin": null,
       "max_height": null,
       "max_width": null,
       "min_height": null,
       "min_width": null,
       "object_fit": null,
       "object_position": null,
       "order": null,
       "overflow": null,
       "overflow_x": null,
       "overflow_y": null,
       "padding": null,
       "right": null,
       "top": null,
       "visibility": null,
       "width": null
      }
     },
     "6ba8a11779e4446dbaaf84e93da1ba70": {
      "model_module": "@jupyter-widgets/controls",
      "model_module_version": "1.5.0",
      "model_name": "DescriptionStyleModel",
      "state": {
       "_model_module": "@jupyter-widgets/controls",
       "_model_module_version": "1.5.0",
       "_model_name": "DescriptionStyleModel",
       "_view_count": null,
       "_view_module": "@jupyter-widgets/base",
       "_view_module_version": "1.2.0",
       "_view_name": "StyleView",
       "description_width": ""
      }
     },
     "6d6a7e64f8c8407ca2c1c0b111719cd7": {
      "model_module": "@jupyter-widgets/controls",
      "model_module_version": "1.5.0",
      "model_name": "ProgressStyleModel",
      "state": {
       "_model_module": "@jupyter-widgets/controls",
       "_model_module_version": "1.5.0",
       "_model_name": "ProgressStyleModel",
       "_view_count": null,
       "_view_module": "@jupyter-widgets/base",
       "_view_module_version": "1.2.0",
       "_view_name": "StyleView",
       "bar_color": null,
       "description_width": ""
      }
     },
     "6e17289a18424687a1eade7f250c6ded": {
      "model_module": "@jupyter-widgets/base",
      "model_module_version": "1.2.0",
      "model_name": "LayoutModel",
      "state": {
       "_model_module": "@jupyter-widgets/base",
       "_model_module_version": "1.2.0",
       "_model_name": "LayoutModel",
       "_view_count": null,
       "_view_module": "@jupyter-widgets/base",
       "_view_module_version": "1.2.0",
       "_view_name": "LayoutView",
       "align_content": null,
       "align_items": null,
       "align_self": null,
       "border": null,
       "bottom": null,
       "display": null,
       "flex": null,
       "flex_flow": null,
       "grid_area": null,
       "grid_auto_columns": null,
       "grid_auto_flow": null,
       "grid_auto_rows": null,
       "grid_column": null,
       "grid_gap": null,
       "grid_row": null,
       "grid_template_areas": null,
       "grid_template_columns": null,
       "grid_template_rows": null,
       "height": null,
       "justify_content": null,
       "justify_items": null,
       "left": null,
       "margin": null,
       "max_height": null,
       "max_width": null,
       "min_height": null,
       "min_width": null,
       "object_fit": null,
       "object_position": null,
       "order": null,
       "overflow": null,
       "overflow_x": null,
       "overflow_y": null,
       "padding": null,
       "right": null,
       "top": null,
       "visibility": null,
       "width": null
      }
     },
     "716d72e9c4f94721a54f0034cb853ea1": {
      "model_module": "@jupyter-widgets/controls",
      "model_module_version": "1.5.0",
      "model_name": "DescriptionStyleModel",
      "state": {
       "_model_module": "@jupyter-widgets/controls",
       "_model_module_version": "1.5.0",
       "_model_name": "DescriptionStyleModel",
       "_view_count": null,
       "_view_module": "@jupyter-widgets/base",
       "_view_module_version": "1.2.0",
       "_view_name": "StyleView",
       "description_width": ""
      }
     },
     "7323013860f54153ba415ec4507bebf9": {
      "model_module": "@jupyter-widgets/controls",
      "model_module_version": "1.5.0",
      "model_name": "DescriptionStyleModel",
      "state": {
       "_model_module": "@jupyter-widgets/controls",
       "_model_module_version": "1.5.0",
       "_model_name": "DescriptionStyleModel",
       "_view_count": null,
       "_view_module": "@jupyter-widgets/base",
       "_view_module_version": "1.2.0",
       "_view_name": "StyleView",
       "description_width": ""
      }
     },
     "73cb70efb42d46ae98ed60c396ec312d": {
      "model_module": "@jupyter-widgets/controls",
      "model_module_version": "1.5.0",
      "model_name": "DescriptionStyleModel",
      "state": {
       "_model_module": "@jupyter-widgets/controls",
       "_model_module_version": "1.5.0",
       "_model_name": "DescriptionStyleModel",
       "_view_count": null,
       "_view_module": "@jupyter-widgets/base",
       "_view_module_version": "1.2.0",
       "_view_name": "StyleView",
       "description_width": ""
      }
     },
     "75f825841f3b4d28a1aa1c7f26bdfb41": {
      "model_module": "@jupyter-widgets/controls",
      "model_module_version": "1.5.0",
      "model_name": "HTMLModel",
      "state": {
       "_dom_classes": [],
       "_model_module": "@jupyter-widgets/controls",
       "_model_module_version": "1.5.0",
       "_model_name": "HTMLModel",
       "_view_count": null,
       "_view_module": "@jupyter-widgets/controls",
       "_view_module_version": "1.5.0",
       "_view_name": "HTMLView",
       "description": "",
       "description_tooltip": null,
       "layout": "IPY_MODEL_78315ac5cbb84758b2b6b39674864d6e",
       "placeholder": "​",
       "style": "IPY_MODEL_9a1ff4507fcd4c48a2691e60fd8767b4",
       "value": " 50000/50000 [02:39&lt;00:00, 311.71it/s]"
      }
     },
     "78315ac5cbb84758b2b6b39674864d6e": {
      "model_module": "@jupyter-widgets/base",
      "model_module_version": "1.2.0",
      "model_name": "LayoutModel",
      "state": {
       "_model_module": "@jupyter-widgets/base",
       "_model_module_version": "1.2.0",
       "_model_name": "LayoutModel",
       "_view_count": null,
       "_view_module": "@jupyter-widgets/base",
       "_view_module_version": "1.2.0",
       "_view_name": "LayoutView",
       "align_content": null,
       "align_items": null,
       "align_self": null,
       "border": null,
       "bottom": null,
       "display": null,
       "flex": null,
       "flex_flow": null,
       "grid_area": null,
       "grid_auto_columns": null,
       "grid_auto_flow": null,
       "grid_auto_rows": null,
       "grid_column": null,
       "grid_gap": null,
       "grid_row": null,
       "grid_template_areas": null,
       "grid_template_columns": null,
       "grid_template_rows": null,
       "height": null,
       "justify_content": null,
       "justify_items": null,
       "left": null,
       "margin": null,
       "max_height": null,
       "max_width": null,
       "min_height": null,
       "min_width": null,
       "object_fit": null,
       "object_position": null,
       "order": null,
       "overflow": null,
       "overflow_x": null,
       "overflow_y": null,
       "padding": null,
       "right": null,
       "top": null,
       "visibility": null,
       "width": null
      }
     },
     "78ddb1e1f5344c19a88976c9ebb8a863": {
      "model_module": "@jupyter-widgets/controls",
      "model_module_version": "1.5.0",
      "model_name": "FloatProgressModel",
      "state": {
       "_dom_classes": [],
       "_model_module": "@jupyter-widgets/controls",
       "_model_module_version": "1.5.0",
       "_model_name": "FloatProgressModel",
       "_view_count": null,
       "_view_module": "@jupyter-widgets/controls",
       "_view_module_version": "1.5.0",
       "_view_name": "ProgressView",
       "bar_style": "success",
       "description": "",
       "description_tooltip": null,
       "layout": "IPY_MODEL_89bb6bff9db84b8cb601d34de5bb7bf2",
       "max": 30.0,
       "min": 0.0,
       "orientation": "horizontal",
       "style": "IPY_MODEL_d140e210e2334132be2ed7ab41846453",
       "value": 30.0
      }
     },
     "7944436e2dcd4d4fb35070be13aa0423": {
      "model_module": "@jupyter-widgets/controls",
      "model_module_version": "1.5.0",
      "model_name": "HTMLModel",
      "state": {
       "_dom_classes": [],
       "_model_module": "@jupyter-widgets/controls",
       "_model_module_version": "1.5.0",
       "_model_name": "HTMLModel",
       "_view_count": null,
       "_view_module": "@jupyter-widgets/controls",
       "_view_module_version": "1.5.0",
       "_view_name": "HTMLView",
       "description": "",
       "description_tooltip": null,
       "layout": "IPY_MODEL_d27da4b0962e4319bffa1f7bdf313ee3",
       "placeholder": "​",
       "style": "IPY_MODEL_d29fde5c3e6a4ff2a7b18c6dbbb276db",
       "value": "100%"
      }
     },
     "79f818b953a64b94bff4f2c4675afef7": {
      "model_module": "@jupyter-widgets/base",
      "model_module_version": "1.2.0",
      "model_name": "LayoutModel",
      "state": {
       "_model_module": "@jupyter-widgets/base",
       "_model_module_version": "1.2.0",
       "_model_name": "LayoutModel",
       "_view_count": null,
       "_view_module": "@jupyter-widgets/base",
       "_view_module_version": "1.2.0",
       "_view_name": "LayoutView",
       "align_content": null,
       "align_items": null,
       "align_self": null,
       "border": null,
       "bottom": null,
       "display": null,
       "flex": null,
       "flex_flow": null,
       "grid_area": null,
       "grid_auto_columns": null,
       "grid_auto_flow": null,
       "grid_auto_rows": null,
       "grid_column": null,
       "grid_gap": null,
       "grid_row": null,
       "grid_template_areas": null,
       "grid_template_columns": null,
       "grid_template_rows": null,
       "height": null,
       "justify_content": null,
       "justify_items": null,
       "left": null,
       "margin": null,
       "max_height": null,
       "max_width": null,
       "min_height": null,
       "min_width": null,
       "object_fit": null,
       "object_position": null,
       "order": null,
       "overflow": null,
       "overflow_x": null,
       "overflow_y": null,
       "padding": null,
       "right": null,
       "top": null,
       "visibility": null,
       "width": null
      }
     },
     "7bc1d814c2e44200b486835c4460e9c9": {
      "model_module": "@jupyter-widgets/base",
      "model_module_version": "1.2.0",
      "model_name": "LayoutModel",
      "state": {
       "_model_module": "@jupyter-widgets/base",
       "_model_module_version": "1.2.0",
       "_model_name": "LayoutModel",
       "_view_count": null,
       "_view_module": "@jupyter-widgets/base",
       "_view_module_version": "1.2.0",
       "_view_name": "LayoutView",
       "align_content": null,
       "align_items": null,
       "align_self": null,
       "border": null,
       "bottom": null,
       "display": null,
       "flex": null,
       "flex_flow": null,
       "grid_area": null,
       "grid_auto_columns": null,
       "grid_auto_flow": null,
       "grid_auto_rows": null,
       "grid_column": null,
       "grid_gap": null,
       "grid_row": null,
       "grid_template_areas": null,
       "grid_template_columns": null,
       "grid_template_rows": null,
       "height": null,
       "justify_content": null,
       "justify_items": null,
       "left": null,
       "margin": null,
       "max_height": null,
       "max_width": null,
       "min_height": null,
       "min_width": null,
       "object_fit": null,
       "object_position": null,
       "order": null,
       "overflow": null,
       "overflow_x": null,
       "overflow_y": null,
       "padding": null,
       "right": null,
       "top": null,
       "visibility": null,
       "width": null
      }
     },
     "7c88b9dd4f604b48bab747746172cd10": {
      "model_module": "@jupyter-widgets/controls",
      "model_module_version": "1.5.0",
      "model_name": "DescriptionStyleModel",
      "state": {
       "_model_module": "@jupyter-widgets/controls",
       "_model_module_version": "1.5.0",
       "_model_name": "DescriptionStyleModel",
       "_view_count": null,
       "_view_module": "@jupyter-widgets/base",
       "_view_module_version": "1.2.0",
       "_view_name": "StyleView",
       "description_width": ""
      }
     },
     "8460563a691c47c2a312ada05da74475": {
      "model_module": "@jupyter-widgets/controls",
      "model_module_version": "1.5.0",
      "model_name": "DescriptionStyleModel",
      "state": {
       "_model_module": "@jupyter-widgets/controls",
       "_model_module_version": "1.5.0",
       "_model_name": "DescriptionStyleModel",
       "_view_count": null,
       "_view_module": "@jupyter-widgets/base",
       "_view_module_version": "1.2.0",
       "_view_name": "StyleView",
       "description_width": ""
      }
     },
     "848cf73bacc6403c8d2e4c207acce712": {
      "model_module": "@jupyter-widgets/controls",
      "model_module_version": "1.5.0",
      "model_name": "ProgressStyleModel",
      "state": {
       "_model_module": "@jupyter-widgets/controls",
       "_model_module_version": "1.5.0",
       "_model_name": "ProgressStyleModel",
       "_view_count": null,
       "_view_module": "@jupyter-widgets/base",
       "_view_module_version": "1.2.0",
       "_view_name": "StyleView",
       "bar_color": null,
       "description_width": ""
      }
     },
     "8799b5cbb2ed4897b1f858e1ffd544e1": {
      "model_module": "@jupyter-widgets/base",
      "model_module_version": "1.2.0",
      "model_name": "LayoutModel",
      "state": {
       "_model_module": "@jupyter-widgets/base",
       "_model_module_version": "1.2.0",
       "_model_name": "LayoutModel",
       "_view_count": null,
       "_view_module": "@jupyter-widgets/base",
       "_view_module_version": "1.2.0",
       "_view_name": "LayoutView",
       "align_content": null,
       "align_items": null,
       "align_self": null,
       "border": null,
       "bottom": null,
       "display": null,
       "flex": null,
       "flex_flow": null,
       "grid_area": null,
       "grid_auto_columns": null,
       "grid_auto_flow": null,
       "grid_auto_rows": null,
       "grid_column": null,
       "grid_gap": null,
       "grid_row": null,
       "grid_template_areas": null,
       "grid_template_columns": null,
       "grid_template_rows": null,
       "height": null,
       "justify_content": null,
       "justify_items": null,
       "left": null,
       "margin": null,
       "max_height": null,
       "max_width": null,
       "min_height": null,
       "min_width": null,
       "object_fit": null,
       "object_position": null,
       "order": null,
       "overflow": null,
       "overflow_x": null,
       "overflow_y": null,
       "padding": null,
       "right": null,
       "top": null,
       "visibility": null,
       "width": null
      }
     },
     "882e9b81595247feb1efe67c316b6685": {
      "model_module": "@jupyter-widgets/controls",
      "model_module_version": "1.5.0",
      "model_name": "HBoxModel",
      "state": {
       "_dom_classes": [],
       "_model_module": "@jupyter-widgets/controls",
       "_model_module_version": "1.5.0",
       "_model_name": "HBoxModel",
       "_view_count": null,
       "_view_module": "@jupyter-widgets/controls",
       "_view_module_version": "1.5.0",
       "_view_name": "HBoxView",
       "box_style": "",
       "children": [
        "IPY_MODEL_e86ac906d306466aa11147f5abffd93d",
        "IPY_MODEL_78ddb1e1f5344c19a88976c9ebb8a863",
        "IPY_MODEL_1b9a24ef51e049ddabf5a8f9c728b256"
       ],
       "layout": "IPY_MODEL_6b77a44f7b05494788e6578f68f3ec16"
      }
     },
     "89bb6bff9db84b8cb601d34de5bb7bf2": {
      "model_module": "@jupyter-widgets/base",
      "model_module_version": "1.2.0",
      "model_name": "LayoutModel",
      "state": {
       "_model_module": "@jupyter-widgets/base",
       "_model_module_version": "1.2.0",
       "_model_name": "LayoutModel",
       "_view_count": null,
       "_view_module": "@jupyter-widgets/base",
       "_view_module_version": "1.2.0",
       "_view_name": "LayoutView",
       "align_content": null,
       "align_items": null,
       "align_self": null,
       "border": null,
       "bottom": null,
       "display": null,
       "flex": null,
       "flex_flow": null,
       "grid_area": null,
       "grid_auto_columns": null,
       "grid_auto_flow": null,
       "grid_auto_rows": null,
       "grid_column": null,
       "grid_gap": null,
       "grid_row": null,
       "grid_template_areas": null,
       "grid_template_columns": null,
       "grid_template_rows": null,
       "height": null,
       "justify_content": null,
       "justify_items": null,
       "left": null,
       "margin": null,
       "max_height": null,
       "max_width": null,
       "min_height": null,
       "min_width": null,
       "object_fit": null,
       "object_position": null,
       "order": null,
       "overflow": null,
       "overflow_x": null,
       "overflow_y": null,
       "padding": null,
       "right": null,
       "top": null,
       "visibility": null,
       "width": null
      }
     },
     "89f83494d1e04491a0369aeae188687f": {
      "model_module": "@jupyter-widgets/base",
      "model_module_version": "1.2.0",
      "model_name": "LayoutModel",
      "state": {
       "_model_module": "@jupyter-widgets/base",
       "_model_module_version": "1.2.0",
       "_model_name": "LayoutModel",
       "_view_count": null,
       "_view_module": "@jupyter-widgets/base",
       "_view_module_version": "1.2.0",
       "_view_name": "LayoutView",
       "align_content": null,
       "align_items": null,
       "align_self": null,
       "border": null,
       "bottom": null,
       "display": null,
       "flex": null,
       "flex_flow": null,
       "grid_area": null,
       "grid_auto_columns": null,
       "grid_auto_flow": null,
       "grid_auto_rows": null,
       "grid_column": null,
       "grid_gap": null,
       "grid_row": null,
       "grid_template_areas": null,
       "grid_template_columns": null,
       "grid_template_rows": null,
       "height": null,
       "justify_content": null,
       "justify_items": null,
       "left": null,
       "margin": null,
       "max_height": null,
       "max_width": null,
       "min_height": null,
       "min_width": null,
       "object_fit": null,
       "object_position": null,
       "order": null,
       "overflow": null,
       "overflow_x": null,
       "overflow_y": null,
       "padding": null,
       "right": null,
       "top": null,
       "visibility": null,
       "width": null
      }
     },
     "8bb6a6b5b49645f18c41885cf20a4e85": {
      "model_module": "@jupyter-widgets/controls",
      "model_module_version": "1.5.0",
      "model_name": "ProgressStyleModel",
      "state": {
       "_model_module": "@jupyter-widgets/controls",
       "_model_module_version": "1.5.0",
       "_model_name": "ProgressStyleModel",
       "_view_count": null,
       "_view_module": "@jupyter-widgets/base",
       "_view_module_version": "1.2.0",
       "_view_name": "StyleView",
       "bar_color": null,
       "description_width": ""
      }
     },
     "8c719a56f569479ca8dc40e950d0cfad": {
      "model_module": "@jupyter-widgets/controls",
      "model_module_version": "1.5.0",
      "model_name": "HTMLModel",
      "state": {
       "_dom_classes": [],
       "_model_module": "@jupyter-widgets/controls",
       "_model_module_version": "1.5.0",
       "_model_name": "HTMLModel",
       "_view_count": null,
       "_view_module": "@jupyter-widgets/controls",
       "_view_module_version": "1.5.0",
       "_view_name": "HTMLView",
       "description": "",
       "description_tooltip": null,
       "layout": "IPY_MODEL_275d4242f86d48f2907c7eaf80198716",
       "placeholder": "​",
       "style": "IPY_MODEL_8460563a691c47c2a312ada05da74475",
       "value": "100%"
      }
     },
     "8d76ceff159a4be3ab4ac2ba4138b8aa": {
      "model_module": "@jupyter-widgets/base",
      "model_module_version": "1.2.0",
      "model_name": "LayoutModel",
      "state": {
       "_model_module": "@jupyter-widgets/base",
       "_model_module_version": "1.2.0",
       "_model_name": "LayoutModel",
       "_view_count": null,
       "_view_module": "@jupyter-widgets/base",
       "_view_module_version": "1.2.0",
       "_view_name": "LayoutView",
       "align_content": null,
       "align_items": null,
       "align_self": null,
       "border": null,
       "bottom": null,
       "display": null,
       "flex": null,
       "flex_flow": null,
       "grid_area": null,
       "grid_auto_columns": null,
       "grid_auto_flow": null,
       "grid_auto_rows": null,
       "grid_column": null,
       "grid_gap": null,
       "grid_row": null,
       "grid_template_areas": null,
       "grid_template_columns": null,
       "grid_template_rows": null,
       "height": null,
       "justify_content": null,
       "justify_items": null,
       "left": null,
       "margin": null,
       "max_height": null,
       "max_width": null,
       "min_height": null,
       "min_width": null,
       "object_fit": null,
       "object_position": null,
       "order": null,
       "overflow": null,
       "overflow_x": null,
       "overflow_y": null,
       "padding": null,
       "right": null,
       "top": null,
       "visibility": null,
       "width": null
      }
     },
     "95d612d97dbd45109098a26d1487dfad": {
      "model_module": "@jupyter-widgets/controls",
      "model_module_version": "1.5.0",
      "model_name": "FloatProgressModel",
      "state": {
       "_dom_classes": [],
       "_model_module": "@jupyter-widgets/controls",
       "_model_module_version": "1.5.0",
       "_model_name": "FloatProgressModel",
       "_view_count": null,
       "_view_module": "@jupyter-widgets/controls",
       "_view_module_version": "1.5.0",
       "_view_name": "ProgressView",
       "bar_style": "success",
       "description": "",
       "description_tooltip": null,
       "layout": "IPY_MODEL_ba842ab716e44157a190b2098e98ed60",
       "max": 10.0,
       "min": 0.0,
       "orientation": "horizontal",
       "style": "IPY_MODEL_215d3054b52143fcbe9d1a0d4141bb06",
       "value": 10.0
      }
     },
     "9a1ff4507fcd4c48a2691e60fd8767b4": {
      "model_module": "@jupyter-widgets/controls",
      "model_module_version": "1.5.0",
      "model_name": "DescriptionStyleModel",
      "state": {
       "_model_module": "@jupyter-widgets/controls",
       "_model_module_version": "1.5.0",
       "_model_name": "DescriptionStyleModel",
       "_view_count": null,
       "_view_module": "@jupyter-widgets/base",
       "_view_module_version": "1.2.0",
       "_view_name": "StyleView",
       "description_width": ""
      }
     },
     "9b908f1d10a54068bd0ba1254a431e91": {
      "model_module": "@jupyter-widgets/controls",
      "model_module_version": "1.5.0",
      "model_name": "HTMLModel",
      "state": {
       "_dom_classes": [],
       "_model_module": "@jupyter-widgets/controls",
       "_model_module_version": "1.5.0",
       "_model_name": "HTMLModel",
       "_view_count": null,
       "_view_module": "@jupyter-widgets/controls",
       "_view_module_version": "1.5.0",
       "_view_name": "HTMLView",
       "description": "",
       "description_tooltip": null,
       "layout": "IPY_MODEL_6e17289a18424687a1eade7f250c6ded",
       "placeholder": "​",
       "style": "IPY_MODEL_5485dd8e49524c8cae0d9358be51f2e4",
       "value": " 50000/50000 [01:35&lt;00:00, 530.90it/s]"
      }
     },
     "9c868be1ba9b4273a397996764d9495f": {
      "model_module": "@jupyter-widgets/controls",
      "model_module_version": "1.5.0",
      "model_name": "DescriptionStyleModel",
      "state": {
       "_model_module": "@jupyter-widgets/controls",
       "_model_module_version": "1.5.0",
       "_model_name": "DescriptionStyleModel",
       "_view_count": null,
       "_view_module": "@jupyter-widgets/base",
       "_view_module_version": "1.2.0",
       "_view_name": "StyleView",
       "description_width": ""
      }
     },
     "9dce972e841c4cdd886b22dcd4678719": {
      "model_module": "@jupyter-widgets/controls",
      "model_module_version": "1.5.0",
      "model_name": "HTMLModel",
      "state": {
       "_dom_classes": [],
       "_model_module": "@jupyter-widgets/controls",
       "_model_module_version": "1.5.0",
       "_model_name": "HTMLModel",
       "_view_count": null,
       "_view_module": "@jupyter-widgets/controls",
       "_view_module_version": "1.5.0",
       "_view_name": "HTMLView",
       "description": "",
       "description_tooltip": null,
       "layout": "IPY_MODEL_d86cf2f026194183a2f5f01cab96da31",
       "placeholder": "​",
       "style": "IPY_MODEL_9c868be1ba9b4273a397996764d9495f",
       "value": " 50000/50000 [01:54&lt;00:00, 439.63it/s]"
      }
     },
     "a0246d1038e34665bdc00df441883cef": {
      "model_module": "@jupyter-widgets/controls",
      "model_module_version": "1.5.0",
      "model_name": "HTMLModel",
      "state": {
       "_dom_classes": [],
       "_model_module": "@jupyter-widgets/controls",
       "_model_module_version": "1.5.0",
       "_model_name": "HTMLModel",
       "_view_count": null,
       "_view_module": "@jupyter-widgets/controls",
       "_view_module_version": "1.5.0",
       "_view_name": "HTMLView",
       "description": "",
       "description_tooltip": null,
       "layout": "IPY_MODEL_4fa405fd79d6466a93e4d04bdbad2e20",
       "placeholder": "​",
       "style": "IPY_MODEL_fe485f09c4cc4b0c8afed376fa555da3",
       "value": " 50000/50000 [03:57&lt;00:00, 205.48it/s]"
      }
     },
     "ad1e3ad79e5a430f8beff9b92c690203": {
      "model_module": "@jupyter-widgets/controls",
      "model_module_version": "1.5.0",
      "model_name": "HBoxModel",
      "state": {
       "_dom_classes": [],
       "_model_module": "@jupyter-widgets/controls",
       "_model_module_version": "1.5.0",
       "_model_name": "HBoxModel",
       "_view_count": null,
       "_view_module": "@jupyter-widgets/controls",
       "_view_module_version": "1.5.0",
       "_view_name": "HBoxView",
       "box_style": "",
       "children": [
        "IPY_MODEL_f29c8af6e4114b808bfe1f8909e59a41",
        "IPY_MODEL_d8a5476c5b9d4affb8c8b51d7b6ad21b",
        "IPY_MODEL_630d43717c23489980859964f6cc5122"
       ],
       "layout": "IPY_MODEL_f694c40c3d11466c9631d39dd0c37ad7"
      }
     },
     "b13e44ced2604016b62c5db3f365718c": {
      "model_module": "@jupyter-widgets/controls",
      "model_module_version": "1.5.0",
      "model_name": "DescriptionStyleModel",
      "state": {
       "_model_module": "@jupyter-widgets/controls",
       "_model_module_version": "1.5.0",
       "_model_name": "DescriptionStyleModel",
       "_view_count": null,
       "_view_module": "@jupyter-widgets/base",
       "_view_module_version": "1.2.0",
       "_view_name": "StyleView",
       "description_width": ""
      }
     },
     "b58384aae8844c5696991e5b77491d9d": {
      "model_module": "@jupyter-widgets/controls",
      "model_module_version": "1.5.0",
      "model_name": "HTMLModel",
      "state": {
       "_dom_classes": [],
       "_model_module": "@jupyter-widgets/controls",
       "_model_module_version": "1.5.0",
       "_model_name": "HTMLModel",
       "_view_count": null,
       "_view_module": "@jupyter-widgets/controls",
       "_view_module_version": "1.5.0",
       "_view_name": "HTMLView",
       "description": "",
       "description_tooltip": null,
       "layout": "IPY_MODEL_89f83494d1e04491a0369aeae188687f",
       "placeholder": "​",
       "style": "IPY_MODEL_33e2906149694429a82aa8780f7f265a",
       "value": "100%"
      }
     },
     "b788614632124a9ea98dadb01cff002c": {
      "model_module": "@jupyter-widgets/base",
      "model_module_version": "1.2.0",
      "model_name": "LayoutModel",
      "state": {
       "_model_module": "@jupyter-widgets/base",
       "_model_module_version": "1.2.0",
       "_model_name": "LayoutModel",
       "_view_count": null,
       "_view_module": "@jupyter-widgets/base",
       "_view_module_version": "1.2.0",
       "_view_name": "LayoutView",
       "align_content": null,
       "align_items": null,
       "align_self": null,
       "border": null,
       "bottom": null,
       "display": null,
       "flex": null,
       "flex_flow": null,
       "grid_area": null,
       "grid_auto_columns": null,
       "grid_auto_flow": null,
       "grid_auto_rows": null,
       "grid_column": null,
       "grid_gap": null,
       "grid_row": null,
       "grid_template_areas": null,
       "grid_template_columns": null,
       "grid_template_rows": null,
       "height": null,
       "justify_content": null,
       "justify_items": null,
       "left": null,
       "margin": null,
       "max_height": null,
       "max_width": null,
       "min_height": null,
       "min_width": null,
       "object_fit": null,
       "object_position": null,
       "order": null,
       "overflow": null,
       "overflow_x": null,
       "overflow_y": null,
       "padding": null,
       "right": null,
       "top": null,
       "visibility": null,
       "width": null
      }
     },
     "b7f1fc602ae34bc989cd544b7106c22a": {
      "model_module": "@jupyter-widgets/controls",
      "model_module_version": "1.5.0",
      "model_name": "ProgressStyleModel",
      "state": {
       "_model_module": "@jupyter-widgets/controls",
       "_model_module_version": "1.5.0",
       "_model_name": "ProgressStyleModel",
       "_view_count": null,
       "_view_module": "@jupyter-widgets/base",
       "_view_module_version": "1.2.0",
       "_view_name": "StyleView",
       "bar_color": null,
       "description_width": ""
      }
     },
     "b89591ab4dc6421d8fac0ccf7b4011c8": {
      "model_module": "@jupyter-widgets/base",
      "model_module_version": "1.2.0",
      "model_name": "LayoutModel",
      "state": {
       "_model_module": "@jupyter-widgets/base",
       "_model_module_version": "1.2.0",
       "_model_name": "LayoutModel",
       "_view_count": null,
       "_view_module": "@jupyter-widgets/base",
       "_view_module_version": "1.2.0",
       "_view_name": "LayoutView",
       "align_content": null,
       "align_items": null,
       "align_self": null,
       "border": null,
       "bottom": null,
       "display": null,
       "flex": null,
       "flex_flow": null,
       "grid_area": null,
       "grid_auto_columns": null,
       "grid_auto_flow": null,
       "grid_auto_rows": null,
       "grid_column": null,
       "grid_gap": null,
       "grid_row": null,
       "grid_template_areas": null,
       "grid_template_columns": null,
       "grid_template_rows": null,
       "height": null,
       "justify_content": null,
       "justify_items": null,
       "left": null,
       "margin": null,
       "max_height": null,
       "max_width": null,
       "min_height": null,
       "min_width": null,
       "object_fit": null,
       "object_position": null,
       "order": null,
       "overflow": null,
       "overflow_x": null,
       "overflow_y": null,
       "padding": null,
       "right": null,
       "top": null,
       "visibility": null,
       "width": null
      }
     },
     "ba842ab716e44157a190b2098e98ed60": {
      "model_module": "@jupyter-widgets/base",
      "model_module_version": "1.2.0",
      "model_name": "LayoutModel",
      "state": {
       "_model_module": "@jupyter-widgets/base",
       "_model_module_version": "1.2.0",
       "_model_name": "LayoutModel",
       "_view_count": null,
       "_view_module": "@jupyter-widgets/base",
       "_view_module_version": "1.2.0",
       "_view_name": "LayoutView",
       "align_content": null,
       "align_items": null,
       "align_self": null,
       "border": null,
       "bottom": null,
       "display": null,
       "flex": null,
       "flex_flow": null,
       "grid_area": null,
       "grid_auto_columns": null,
       "grid_auto_flow": null,
       "grid_auto_rows": null,
       "grid_column": null,
       "grid_gap": null,
       "grid_row": null,
       "grid_template_areas": null,
       "grid_template_columns": null,
       "grid_template_rows": null,
       "height": null,
       "justify_content": null,
       "justify_items": null,
       "left": null,
       "margin": null,
       "max_height": null,
       "max_width": null,
       "min_height": null,
       "min_width": null,
       "object_fit": null,
       "object_position": null,
       "order": null,
       "overflow": null,
       "overflow_x": null,
       "overflow_y": null,
       "padding": null,
       "right": null,
       "top": null,
       "visibility": null,
       "width": null
      }
     },
     "bf882badabab4d75bd585e684f65453f": {
      "model_module": "@jupyter-widgets/base",
      "model_module_version": "1.2.0",
      "model_name": "LayoutModel",
      "state": {
       "_model_module": "@jupyter-widgets/base",
       "_model_module_version": "1.2.0",
       "_model_name": "LayoutModel",
       "_view_count": null,
       "_view_module": "@jupyter-widgets/base",
       "_view_module_version": "1.2.0",
       "_view_name": "LayoutView",
       "align_content": null,
       "align_items": null,
       "align_self": null,
       "border": null,
       "bottom": null,
       "display": null,
       "flex": null,
       "flex_flow": null,
       "grid_area": null,
       "grid_auto_columns": null,
       "grid_auto_flow": null,
       "grid_auto_rows": null,
       "grid_column": null,
       "grid_gap": null,
       "grid_row": null,
       "grid_template_areas": null,
       "grid_template_columns": null,
       "grid_template_rows": null,
       "height": null,
       "justify_content": null,
       "justify_items": null,
       "left": null,
       "margin": null,
       "max_height": null,
       "max_width": null,
       "min_height": null,
       "min_width": null,
       "object_fit": null,
       "object_position": null,
       "order": null,
       "overflow": null,
       "overflow_x": null,
       "overflow_y": null,
       "padding": null,
       "right": null,
       "top": null,
       "visibility": null,
       "width": null
      }
     },
     "c580a11a9cbc47dbbd19b6c251746b10": {
      "model_module": "@jupyter-widgets/controls",
      "model_module_version": "1.5.0",
      "model_name": "HTMLModel",
      "state": {
       "_dom_classes": [],
       "_model_module": "@jupyter-widgets/controls",
       "_model_module_version": "1.5.0",
       "_model_name": "HTMLModel",
       "_view_count": null,
       "_view_module": "@jupyter-widgets/controls",
       "_view_module_version": "1.5.0",
       "_view_name": "HTMLView",
       "description": "",
       "description_tooltip": null,
       "layout": "IPY_MODEL_b89591ab4dc6421d8fac0ccf7b4011c8",
       "placeholder": "​",
       "style": "IPY_MODEL_7c88b9dd4f604b48bab747746172cd10",
       "value": "100%"
      }
     },
     "c664bf28bac34612bde1a58d0c85b06b": {
      "model_module": "@jupyter-widgets/controls",
      "model_module_version": "1.5.0",
      "model_name": "FloatProgressModel",
      "state": {
       "_dom_classes": [],
       "_model_module": "@jupyter-widgets/controls",
       "_model_module_version": "1.5.0",
       "_model_name": "FloatProgressModel",
       "_view_count": null,
       "_view_module": "@jupyter-widgets/controls",
       "_view_module_version": "1.5.0",
       "_view_name": "ProgressView",
       "bar_style": "success",
       "description": "",
       "description_tooltip": null,
       "layout": "IPY_MODEL_cb9a63ef08a14176b52eba5b61a7dd1a",
       "max": 50000.0,
       "min": 0.0,
       "orientation": "horizontal",
       "style": "IPY_MODEL_4c460fdfe35647fc85e09d70b2196bcd",
       "value": 50000.0
      }
     },
     "caf5c0cb3b2d4009bdf192d2b871fcf0": {
      "model_module": "@jupyter-widgets/controls",
      "model_module_version": "1.5.0",
      "model_name": "HTMLModel",
      "state": {
       "_dom_classes": [],
       "_model_module": "@jupyter-widgets/controls",
       "_model_module_version": "1.5.0",
       "_model_name": "HTMLModel",
       "_view_count": null,
       "_view_module": "@jupyter-widgets/controls",
       "_view_module_version": "1.5.0",
       "_view_name": "HTMLView",
       "description": "",
       "description_tooltip": null,
       "layout": "IPY_MODEL_598e3bf75ce5413e9cba68c1c467a8f5",
       "placeholder": "​",
       "style": "IPY_MODEL_73cb70efb42d46ae98ed60c396ec312d",
       "value": "100%"
      }
     },
     "cb3ae0fd394c482b8cc33711b6aa01a9": {
      "model_module": "@jupyter-widgets/controls",
      "model_module_version": "1.5.0",
      "model_name": "HTMLModel",
      "state": {
       "_dom_classes": [],
       "_model_module": "@jupyter-widgets/controls",
       "_model_module_version": "1.5.0",
       "_model_name": "HTMLModel",
       "_view_count": null,
       "_view_module": "@jupyter-widgets/controls",
       "_view_module_version": "1.5.0",
       "_view_name": "HTMLView",
       "description": "",
       "description_tooltip": null,
       "layout": "IPY_MODEL_bf882badabab4d75bd585e684f65453f",
       "placeholder": "​",
       "style": "IPY_MODEL_716d72e9c4f94721a54f0034cb853ea1",
       "value": "100%"
      }
     },
     "cb9a63ef08a14176b52eba5b61a7dd1a": {
      "model_module": "@jupyter-widgets/base",
      "model_module_version": "1.2.0",
      "model_name": "LayoutModel",
      "state": {
       "_model_module": "@jupyter-widgets/base",
       "_model_module_version": "1.2.0",
       "_model_name": "LayoutModel",
       "_view_count": null,
       "_view_module": "@jupyter-widgets/base",
       "_view_module_version": "1.2.0",
       "_view_name": "LayoutView",
       "align_content": null,
       "align_items": null,
       "align_self": null,
       "border": null,
       "bottom": null,
       "display": null,
       "flex": null,
       "flex_flow": null,
       "grid_area": null,
       "grid_auto_columns": null,
       "grid_auto_flow": null,
       "grid_auto_rows": null,
       "grid_column": null,
       "grid_gap": null,
       "grid_row": null,
       "grid_template_areas": null,
       "grid_template_columns": null,
       "grid_template_rows": null,
       "height": null,
       "justify_content": null,
       "justify_items": null,
       "left": null,
       "margin": null,
       "max_height": null,
       "max_width": null,
       "min_height": null,
       "min_width": null,
       "object_fit": null,
       "object_position": null,
       "order": null,
       "overflow": null,
       "overflow_x": null,
       "overflow_y": null,
       "padding": null,
       "right": null,
       "top": null,
       "visibility": null,
       "width": null
      }
     },
     "d140e210e2334132be2ed7ab41846453": {
      "model_module": "@jupyter-widgets/controls",
      "model_module_version": "1.5.0",
      "model_name": "ProgressStyleModel",
      "state": {
       "_model_module": "@jupyter-widgets/controls",
       "_model_module_version": "1.5.0",
       "_model_name": "ProgressStyleModel",
       "_view_count": null,
       "_view_module": "@jupyter-widgets/base",
       "_view_module_version": "1.2.0",
       "_view_name": "StyleView",
       "bar_color": null,
       "description_width": ""
      }
     },
     "d27da4b0962e4319bffa1f7bdf313ee3": {
      "model_module": "@jupyter-widgets/base",
      "model_module_version": "1.2.0",
      "model_name": "LayoutModel",
      "state": {
       "_model_module": "@jupyter-widgets/base",
       "_model_module_version": "1.2.0",
       "_model_name": "LayoutModel",
       "_view_count": null,
       "_view_module": "@jupyter-widgets/base",
       "_view_module_version": "1.2.0",
       "_view_name": "LayoutView",
       "align_content": null,
       "align_items": null,
       "align_self": null,
       "border": null,
       "bottom": null,
       "display": null,
       "flex": null,
       "flex_flow": null,
       "grid_area": null,
       "grid_auto_columns": null,
       "grid_auto_flow": null,
       "grid_auto_rows": null,
       "grid_column": null,
       "grid_gap": null,
       "grid_row": null,
       "grid_template_areas": null,
       "grid_template_columns": null,
       "grid_template_rows": null,
       "height": null,
       "justify_content": null,
       "justify_items": null,
       "left": null,
       "margin": null,
       "max_height": null,
       "max_width": null,
       "min_height": null,
       "min_width": null,
       "object_fit": null,
       "object_position": null,
       "order": null,
       "overflow": null,
       "overflow_x": null,
       "overflow_y": null,
       "padding": null,
       "right": null,
       "top": null,
       "visibility": null,
       "width": null
      }
     },
     "d29fde5c3e6a4ff2a7b18c6dbbb276db": {
      "model_module": "@jupyter-widgets/controls",
      "model_module_version": "1.5.0",
      "model_name": "DescriptionStyleModel",
      "state": {
       "_model_module": "@jupyter-widgets/controls",
       "_model_module_version": "1.5.0",
       "_model_name": "DescriptionStyleModel",
       "_view_count": null,
       "_view_module": "@jupyter-widgets/base",
       "_view_module_version": "1.2.0",
       "_view_name": "StyleView",
       "description_width": ""
      }
     },
     "d5448220746d4316b009b2827b2ee02b": {
      "model_module": "@jupyter-widgets/controls",
      "model_module_version": "1.5.0",
      "model_name": "HTMLModel",
      "state": {
       "_dom_classes": [],
       "_model_module": "@jupyter-widgets/controls",
       "_model_module_version": "1.5.0",
       "_model_name": "HTMLModel",
       "_view_count": null,
       "_view_module": "@jupyter-widgets/controls",
       "_view_module_version": "1.5.0",
       "_view_name": "HTMLView",
       "description": "",
       "description_tooltip": null,
       "layout": "IPY_MODEL_086440dc8cfe4e08a6b0df34980465ad",
       "placeholder": "​",
       "style": "IPY_MODEL_d7af4f8faa554f0f83b2b306850352c9",
       "value": " 50000/50000 [04:23&lt;00:00, 193.75it/s]"
      }
     },
     "d7af4f8faa554f0f83b2b306850352c9": {
      "model_module": "@jupyter-widgets/controls",
      "model_module_version": "1.5.0",
      "model_name": "DescriptionStyleModel",
      "state": {
       "_model_module": "@jupyter-widgets/controls",
       "_model_module_version": "1.5.0",
       "_model_name": "DescriptionStyleModel",
       "_view_count": null,
       "_view_module": "@jupyter-widgets/base",
       "_view_module_version": "1.2.0",
       "_view_name": "StyleView",
       "description_width": ""
      }
     },
     "d86cf2f026194183a2f5f01cab96da31": {
      "model_module": "@jupyter-widgets/base",
      "model_module_version": "1.2.0",
      "model_name": "LayoutModel",
      "state": {
       "_model_module": "@jupyter-widgets/base",
       "_model_module_version": "1.2.0",
       "_model_name": "LayoutModel",
       "_view_count": null,
       "_view_module": "@jupyter-widgets/base",
       "_view_module_version": "1.2.0",
       "_view_name": "LayoutView",
       "align_content": null,
       "align_items": null,
       "align_self": null,
       "border": null,
       "bottom": null,
       "display": null,
       "flex": null,
       "flex_flow": null,
       "grid_area": null,
       "grid_auto_columns": null,
       "grid_auto_flow": null,
       "grid_auto_rows": null,
       "grid_column": null,
       "grid_gap": null,
       "grid_row": null,
       "grid_template_areas": null,
       "grid_template_columns": null,
       "grid_template_rows": null,
       "height": null,
       "justify_content": null,
       "justify_items": null,
       "left": null,
       "margin": null,
       "max_height": null,
       "max_width": null,
       "min_height": null,
       "min_width": null,
       "object_fit": null,
       "object_position": null,
       "order": null,
       "overflow": null,
       "overflow_x": null,
       "overflow_y": null,
       "padding": null,
       "right": null,
       "top": null,
       "visibility": null,
       "width": null
      }
     },
     "d8a5476c5b9d4affb8c8b51d7b6ad21b": {
      "model_module": "@jupyter-widgets/controls",
      "model_module_version": "1.5.0",
      "model_name": "FloatProgressModel",
      "state": {
       "_dom_classes": [],
       "_model_module": "@jupyter-widgets/controls",
       "_model_module_version": "1.5.0",
       "_model_name": "FloatProgressModel",
       "_view_count": null,
       "_view_module": "@jupyter-widgets/controls",
       "_view_module_version": "1.5.0",
       "_view_name": "ProgressView",
       "bar_style": "success",
       "description": "",
       "description_tooltip": null,
       "layout": "IPY_MODEL_52785bf2a5aa4d169adb5df964f6568d",
       "max": 50000.0,
       "min": 0.0,
       "orientation": "horizontal",
       "style": "IPY_MODEL_6d6a7e64f8c8407ca2c1c0b111719cd7",
       "value": 50000.0
      }
     },
     "ddde440738bf43d8a2d01451e5660720": {
      "model_module": "@jupyter-widgets/base",
      "model_module_version": "1.2.0",
      "model_name": "LayoutModel",
      "state": {
       "_model_module": "@jupyter-widgets/base",
       "_model_module_version": "1.2.0",
       "_model_name": "LayoutModel",
       "_view_count": null,
       "_view_module": "@jupyter-widgets/base",
       "_view_module_version": "1.2.0",
       "_view_name": "LayoutView",
       "align_content": null,
       "align_items": null,
       "align_self": null,
       "border": null,
       "bottom": null,
       "display": null,
       "flex": null,
       "flex_flow": null,
       "grid_area": null,
       "grid_auto_columns": null,
       "grid_auto_flow": null,
       "grid_auto_rows": null,
       "grid_column": null,
       "grid_gap": null,
       "grid_row": null,
       "grid_template_areas": null,
       "grid_template_columns": null,
       "grid_template_rows": null,
       "height": null,
       "justify_content": null,
       "justify_items": null,
       "left": null,
       "margin": null,
       "max_height": null,
       "max_width": null,
       "min_height": null,
       "min_width": null,
       "object_fit": null,
       "object_position": null,
       "order": null,
       "overflow": null,
       "overflow_x": null,
       "overflow_y": null,
       "padding": null,
       "right": null,
       "top": null,
       "visibility": null,
       "width": null
      }
     },
     "e0efb54a20b943829ddd2ec0a4aa5654": {
      "model_module": "@jupyter-widgets/base",
      "model_module_version": "1.2.0",
      "model_name": "LayoutModel",
      "state": {
       "_model_module": "@jupyter-widgets/base",
       "_model_module_version": "1.2.0",
       "_model_name": "LayoutModel",
       "_view_count": null,
       "_view_module": "@jupyter-widgets/base",
       "_view_module_version": "1.2.0",
       "_view_name": "LayoutView",
       "align_content": null,
       "align_items": null,
       "align_self": null,
       "border": null,
       "bottom": null,
       "display": null,
       "flex": null,
       "flex_flow": null,
       "grid_area": null,
       "grid_auto_columns": null,
       "grid_auto_flow": null,
       "grid_auto_rows": null,
       "grid_column": null,
       "grid_gap": null,
       "grid_row": null,
       "grid_template_areas": null,
       "grid_template_columns": null,
       "grid_template_rows": null,
       "height": null,
       "justify_content": null,
       "justify_items": null,
       "left": null,
       "margin": null,
       "max_height": null,
       "max_width": null,
       "min_height": null,
       "min_width": null,
       "object_fit": null,
       "object_position": null,
       "order": null,
       "overflow": null,
       "overflow_x": null,
       "overflow_y": null,
       "padding": null,
       "right": null,
       "top": null,
       "visibility": null,
       "width": null
      }
     },
     "e2158229bbeb49f3b3660862c8d327dd": {
      "model_module": "@jupyter-widgets/controls",
      "model_module_version": "1.5.0",
      "model_name": "ProgressStyleModel",
      "state": {
       "_model_module": "@jupyter-widgets/controls",
       "_model_module_version": "1.5.0",
       "_model_name": "ProgressStyleModel",
       "_view_count": null,
       "_view_module": "@jupyter-widgets/base",
       "_view_module_version": "1.2.0",
       "_view_name": "StyleView",
       "bar_color": null,
       "description_width": ""
      }
     },
     "e42dd090572242d880a50b41c227052a": {
      "model_module": "@jupyter-widgets/controls",
      "model_module_version": "1.5.0",
      "model_name": "DescriptionStyleModel",
      "state": {
       "_model_module": "@jupyter-widgets/controls",
       "_model_module_version": "1.5.0",
       "_model_name": "DescriptionStyleModel",
       "_view_count": null,
       "_view_module": "@jupyter-widgets/base",
       "_view_module_version": "1.2.0",
       "_view_name": "StyleView",
       "description_width": ""
      }
     },
     "e86ac906d306466aa11147f5abffd93d": {
      "model_module": "@jupyter-widgets/controls",
      "model_module_version": "1.5.0",
      "model_name": "HTMLModel",
      "state": {
       "_dom_classes": [],
       "_model_module": "@jupyter-widgets/controls",
       "_model_module_version": "1.5.0",
       "_model_name": "HTMLModel",
       "_view_count": null,
       "_view_module": "@jupyter-widgets/controls",
       "_view_module_version": "1.5.0",
       "_view_name": "HTMLView",
       "description": "",
       "description_tooltip": null,
       "layout": "IPY_MODEL_170cf57f5e4a46ef901c1d937c44e310",
       "placeholder": "​",
       "style": "IPY_MODEL_e42dd090572242d880a50b41c227052a",
       "value": "T = 0.500 : : 100%"
      }
     },
     "f1e3d8c9703e4706b62abced64049c84": {
      "model_module": "@jupyter-widgets/base",
      "model_module_version": "1.2.0",
      "model_name": "LayoutModel",
      "state": {
       "_model_module": "@jupyter-widgets/base",
       "_model_module_version": "1.2.0",
       "_model_name": "LayoutModel",
       "_view_count": null,
       "_view_module": "@jupyter-widgets/base",
       "_view_module_version": "1.2.0",
       "_view_name": "LayoutView",
       "align_content": null,
       "align_items": null,
       "align_self": null,
       "border": null,
       "bottom": null,
       "display": null,
       "flex": null,
       "flex_flow": null,
       "grid_area": null,
       "grid_auto_columns": null,
       "grid_auto_flow": null,
       "grid_auto_rows": null,
       "grid_column": null,
       "grid_gap": null,
       "grid_row": null,
       "grid_template_areas": null,
       "grid_template_columns": null,
       "grid_template_rows": null,
       "height": null,
       "justify_content": null,
       "justify_items": null,
       "left": null,
       "margin": null,
       "max_height": null,
       "max_width": null,
       "min_height": null,
       "min_width": null,
       "object_fit": null,
       "object_position": null,
       "order": null,
       "overflow": null,
       "overflow_x": null,
       "overflow_y": null,
       "padding": null,
       "right": null,
       "top": null,
       "visibility": null,
       "width": null
      }
     },
     "f29c8af6e4114b808bfe1f8909e59a41": {
      "model_module": "@jupyter-widgets/controls",
      "model_module_version": "1.5.0",
      "model_name": "HTMLModel",
      "state": {
       "_dom_classes": [],
       "_model_module": "@jupyter-widgets/controls",
       "_model_module_version": "1.5.0",
       "_model_name": "HTMLModel",
       "_view_count": null,
       "_view_module": "@jupyter-widgets/controls",
       "_view_module_version": "1.5.0",
       "_view_name": "HTMLView",
       "description": "",
       "description_tooltip": null,
       "layout": "IPY_MODEL_7bc1d814c2e44200b486835c4460e9c9",
       "placeholder": "​",
       "style": "IPY_MODEL_14be1b77ca4846dfad772b85e46c2d70",
       "value": "100%"
      }
     },
     "f37f49c4029a426d9579139a133df3a4": {
      "model_module": "@jupyter-widgets/controls",
      "model_module_version": "1.5.0",
      "model_name": "DescriptionStyleModel",
      "state": {
       "_model_module": "@jupyter-widgets/controls",
       "_model_module_version": "1.5.0",
       "_model_name": "DescriptionStyleModel",
       "_view_count": null,
       "_view_module": "@jupyter-widgets/base",
       "_view_module_version": "1.2.0",
       "_view_name": "StyleView",
       "description_width": ""
      }
     },
     "f3e8420b534341ddbd229e7ae0635e28": {
      "model_module": "@jupyter-widgets/base",
      "model_module_version": "1.2.0",
      "model_name": "LayoutModel",
      "state": {
       "_model_module": "@jupyter-widgets/base",
       "_model_module_version": "1.2.0",
       "_model_name": "LayoutModel",
       "_view_count": null,
       "_view_module": "@jupyter-widgets/base",
       "_view_module_version": "1.2.0",
       "_view_name": "LayoutView",
       "align_content": null,
       "align_items": null,
       "align_self": null,
       "border": null,
       "bottom": null,
       "display": null,
       "flex": null,
       "flex_flow": null,
       "grid_area": null,
       "grid_auto_columns": null,
       "grid_auto_flow": null,
       "grid_auto_rows": null,
       "grid_column": null,
       "grid_gap": null,
       "grid_row": null,
       "grid_template_areas": null,
       "grid_template_columns": null,
       "grid_template_rows": null,
       "height": null,
       "justify_content": null,
       "justify_items": null,
       "left": null,
       "margin": null,
       "max_height": null,
       "max_width": null,
       "min_height": null,
       "min_width": null,
       "object_fit": null,
       "object_position": null,
       "order": null,
       "overflow": null,
       "overflow_x": null,
       "overflow_y": null,
       "padding": null,
       "right": null,
       "top": null,
       "visibility": null,
       "width": null
      }
     },
     "f694c40c3d11466c9631d39dd0c37ad7": {
      "model_module": "@jupyter-widgets/base",
      "model_module_version": "1.2.0",
      "model_name": "LayoutModel",
      "state": {
       "_model_module": "@jupyter-widgets/base",
       "_model_module_version": "1.2.0",
       "_model_name": "LayoutModel",
       "_view_count": null,
       "_view_module": "@jupyter-widgets/base",
       "_view_module_version": "1.2.0",
       "_view_name": "LayoutView",
       "align_content": null,
       "align_items": null,
       "align_self": null,
       "border": null,
       "bottom": null,
       "display": null,
       "flex": null,
       "flex_flow": null,
       "grid_area": null,
       "grid_auto_columns": null,
       "grid_auto_flow": null,
       "grid_auto_rows": null,
       "grid_column": null,
       "grid_gap": null,
       "grid_row": null,
       "grid_template_areas": null,
       "grid_template_columns": null,
       "grid_template_rows": null,
       "height": null,
       "justify_content": null,
       "justify_items": null,
       "left": null,
       "margin": null,
       "max_height": null,
       "max_width": null,
       "min_height": null,
       "min_width": null,
       "object_fit": null,
       "object_position": null,
       "order": null,
       "overflow": null,
       "overflow_x": null,
       "overflow_y": null,
       "padding": null,
       "right": null,
       "top": null,
       "visibility": null,
       "width": null
      }
     },
     "fe485f09c4cc4b0c8afed376fa555da3": {
      "model_module": "@jupyter-widgets/controls",
      "model_module_version": "1.5.0",
      "model_name": "DescriptionStyleModel",
      "state": {
       "_model_module": "@jupyter-widgets/controls",
       "_model_module_version": "1.5.0",
       "_model_name": "DescriptionStyleModel",
       "_view_count": null,
       "_view_module": "@jupyter-widgets/base",
       "_view_module_version": "1.2.0",
       "_view_name": "StyleView",
       "description_width": ""
      }
     }
    },
    "version_major": 2,
    "version_minor": 0
   }
  }
 },
 "nbformat": 4,
 "nbformat_minor": 5
}
