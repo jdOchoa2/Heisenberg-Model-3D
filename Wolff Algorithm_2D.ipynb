{
 "cells": [
  {
   "cell_type": "code",
   "execution_count": 1,
   "id": "b6aa4cbc",
   "metadata": {},
   "outputs": [
    {
     "name": "stderr",
     "output_type": "stream",
     "text": [
      "\u001b[32m\u001b[1m  Activating\u001b[22m\u001b[39m project at `~/Documents/Jupyter Notebooks/DIY/demo`\n"
     ]
    }
   ],
   "source": [
    "using Pkg\n",
    "Pkg.activate(\"./demo/Project.toml\");"
   ]
  },
  {
   "cell_type": "code",
   "execution_count": 2,
   "id": "559f81da",
   "metadata": {},
   "outputs": [],
   "source": [
    "using Random"
   ]
  },
  {
   "cell_type": "code",
   "execution_count": 3,
   "id": "9e268cfe",
   "metadata": {},
   "outputs": [
    {
     "data": {
      "text/plain": [
       "NewState (generic function with 1 method)"
      ]
     },
     "execution_count": 3,
     "metadata": {},
     "output_type": "execute_result"
    }
   ],
   "source": [
    "function RandomSpin()\n",
    "    \"\"\"Creates a random unit vector\"\"\"\n",
    "    θ = rand(0:1e-6:π)\n",
    "    ϕ = rand(0:1e-6:2π)\n",
    "    return [sin(θ)*cos(ϕ), sin(θ)*sin(ϕ), cos(θ)]\n",
    "end\n",
    "\n",
    "function AcceptanceProbability(Spin1, Spin2, n, βJ)\n",
    "    \"\"\"Computes the probability of adding Spin2 - neighbour of\n",
    "    Spin1 - to the cluster. It uses the energy βJ and the vector \n",
    "    of reflection n\"\"\"\n",
    "    return 1 - exp(min(0,-2βJ*transpose(Spin1)*n*transpose(Spin2)*n))\n",
    "end\n",
    "\n",
    "function ReflectSpin(S,n,state)\n",
    "    \"\"\"Reflectes the spin state[S] around the plane defined by the\n",
    "    normal vector n\"\"\"\n",
    "    state[S] -=  2(transpose(state[S])*n)*n\n",
    "end\n",
    "\n",
    "function GetNeighbours(x,L,L2)\n",
    "    \"\"\"Gets the coordinates of the 4 neighbour spins of the one in index x. It \n",
    "    uses periodic boundery conditions in a 2D lattice of length L (area L2). The \n",
    "    matriz it returns contains the neighbours as folows: Up-Left-Right-Down\"\"\"\n",
    "    return [(x-1-L+L2)%L2+1,\n",
    "            L*((x-1)÷L)+(x+L-2)%L+1,\n",
    "            L*((x-1)÷L)+(x)%L+1,\n",
    "            (x-1+L)%L2+1]\n",
    "end\n",
    "\n",
    "function Grow_Reflect(S, Cluster, n, βJ, L, L2, state)\n",
    "    \"\"\"Checks every neighbour of spin state[S] and adds them to the Cluster given\n",
    "    a certain probability (See to AcceptanceProbability). Finally, it reflects\n",
    "    the spin around the normal vector n (Refair to ReflectSpin)\"\"\"\n",
    "    #Checks neighbours\n",
    "    for Sn in GetNeighbours(S,L,L2)\n",
    "        if Sn ∉ Cluster && rand(0:1e-15:1) < AcceptanceProbability(state[S],state[Sn],n,βJ)\n",
    "            #Adds neighbour to Cluster\n",
    "            push!(Cluster,Sn)\n",
    "            #Checks neighbours of neighbour\n",
    "            Grow_Reflect(Sn, Cluster, n, βJ, L, L2, state)\n",
    "        end\n",
    "    end\n",
    "    #Reflects the spin\n",
    "    ReflectSpin(S,n, state)\n",
    "end\n",
    "\n",
    "function NewState(state, L, L2, βJ)\n",
    "    \"\"\"Chooses a randon spin from the state with lattice sice L, and also a\n",
    "    random normal vector. From there it builds the cluster using Wolff algorithm\n",
    "    (See Grow_Reflect)\"\"\"\n",
    "    n = RandomSpin()     #Initial random Normal Vector\n",
    "    #n = [0,0,1]         #Just for testing\n",
    "    S0 = rand(1:1:L2)    #Initial random Spin\n",
    "    Cluster = [S0]       #Stores the indexes of the spins added to the cluster\n",
    "    Grow_Reflect(S0, Cluster, n, βJ, L, L2, state) #Builds cluster and flips states for new state\n",
    "    #print(\"\\n\",Cluster) #Just for testing\n",
    "end"
   ]
  },
  {
   "cell_type": "code",
   "execution_count": 4,
   "id": "55f49809",
   "metadata": {},
   "outputs": [
    {
     "data": {
      "text/plain": [
       "RandomIsing (generic function with 1 method)"
      ]
     },
     "execution_count": 4,
     "metadata": {},
     "output_type": "execute_result"
    }
   ],
   "source": [
    "function RandomIsing()\n",
    "    \"\"\"Creates spins only in the z-axis (testing only)\"\"\"\n",
    "    return [0, 0, rand(-1:2:1)]\n",
    "end"
   ]
  },
  {
   "cell_type": "code",
   "execution_count": 5,
   "id": "fcbf0884",
   "metadata": {},
   "outputs": [
    {
     "name": "stdout",
     "output_type": "stream",
     "text": [
      "[[0.28894226552948327, 0.9537027201702589, -0.08344752081720931], [-0.2580894480480774, -0.02644427471119372, 0.9657590471443888], [-0.7335488492784864, -0.5592568967026471, -0.38618364700325297], [0.15586974935896325, -0.6670663274333186, -0.7285102168394062], [-0.32814698992351093, -0.8639480498841066, 0.3819860208248312], [-0.8274220654082688, -0.3048321515586658, -0.47164614389564263], [0.5198231899716833, 0.4724667987243956, 0.7117295661069482], [0.02773861599470513, 0.23474529044683562, 0.9716610611708844], [0.35087239409370236, 0.2467269714785802, 0.9033351341600533]]\n",
      "[[0.28894226552948327, 0.9537027201702589, -0.08344752081720931], [-0.2580894480480774, -0.02644427471119372, 0.9657590471443888], [-0.49226882317517523, -0.23425186480835025, 0.8383301673944095], [0.46667068163368586, -0.24841639383511765, 0.8488272911361339], [-0.32814698992351093, -0.8639480498841066, 0.3819860208248312], [-0.573199404179484, 0.03760665473330832, 0.818552492249614], [0.5198231899716833, 0.4724667987243956, 0.7117295661069482], [0.02773861599470513, 0.23474529044683562, 0.9716610611708844], [0.35087239409370236, 0.2467269714785802, 0.9033351341600533]]"
     ]
    }
   ],
   "source": [
    "βJ = 10  #Energy of interaction (Quantified)\n",
    "L = 3    #Lattice size\n",
    "L2 = L*L #Lattice Area\n",
    "#state = [RandomIsing() for i in 1:L2] #Just for testing\n",
    "state = [RandomSpin() for i in 1:L2]   #The 2D lattice is store as a 1D-Array\n",
    "#print(state)\n",
    "NewState(state, L, L2, βJ) #New state\n",
    "#print(\"\\n\",state)"
   ]
  }
 ],
 "metadata": {
  "kernelspec": {
   "display_name": "Julia 1.7.2",
   "language": "julia",
   "name": "julia-1.7"
  },
  "language_info": {
   "file_extension": ".jl",
   "mimetype": "application/julia",
   "name": "julia",
   "version": "1.7.3"
  }
 },
 "nbformat": 4,
 "nbformat_minor": 5
}
