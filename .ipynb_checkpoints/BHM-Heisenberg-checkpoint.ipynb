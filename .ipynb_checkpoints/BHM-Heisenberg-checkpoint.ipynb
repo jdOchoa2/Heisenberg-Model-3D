{
 "cells": [
  {
   "cell_type": "markdown",
   "metadata": {},
   "source": [
    "# Wolff Algorithm and Broad Histogram method for 3D Heisenberg Model"
   ]
  },
  {
   "cell_type": "markdown",
   "metadata": {},
   "source": [
    "## Packages"
   ]
  },
  {
   "cell_type": "code",
   "execution_count": 1,
   "metadata": {
    "_cell_guid": "b1076dfc-b9ad-4769-8c92-a6c4dae69d19",
    "_uuid": "8f2839f25d086af736a60e9eeb907d3b93b6e0e5",
    "tags": []
   },
   "outputs": [],
   "source": [
    "try:\n",
    "    from tqdm.notebook import tqdm as tq\n",
    "except:\n",
    "    !pip install tqdm\n",
    "    from tqdm.notebook import tqdm as tq\n",
    "\n",
    "import numpy as np\n",
    "from matplotlib import rcParams\n",
    "import matplotlib.pyplot as plt\n",
    "import numba as nb\n",
    "import seaborn as sns\n",
    "import pandas as pd\n",
    "from numba import prange\n",
    "import time\n",
    "from tqdm.notebook import tqdm as tq\n",
    "\n",
    "rcParams.update({'font.size': 11.5})"
   ]
  },
  {
   "cell_type": "markdown",
   "metadata": {},
   "source": [
    "# General functions"
   ]
  },
  {
   "cell_type": "markdown",
   "metadata": {},
   "source": [
    "## Initilization and neighbors"
   ]
  },
  {
   "cell_type": "code",
   "execution_count": 2,
   "metadata": {
    "tags": []
   },
   "outputs": [],
   "source": [
    "@nb.njit\n",
    "def random_initialize(L):\n",
    "    \"\"\"Generates a random initialization of the spins lattice.\n",
    "    Args:\n",
    "        L (int): Length of the lattice\n",
    "    Returns:\n",
    "        S (array): (L^3 x 3) array where each row represents a spin and each column contains\n",
    "                    its components in x, y and z.\n",
    "    \"\"\"\n",
    "    N = L**3\n",
    "    S = np.zeros((N,3))\n",
    "    PHI = np.random.uniform(0, 2*np.pi, N)\n",
    "    THETA = np.random.uniform(0, np.pi, N)\n",
    "    Sx = np.sin(THETA)*np.cos(PHI)\n",
    "    Sy = np.sin(THETA)*np.sin(PHI)\n",
    "    Sz = np.cos(THETA)\n",
    "    S[:,0], S[:,1], S[:,2] = Sx, Sy, Sz \n",
    "    return S\n",
    "\n",
    "def get_neighbors(L):\n",
    "    \"\"\"\n",
    "    Args:\n",
    "        L (int): Length of the lattice\n",
    "    Returns:\n",
    "        nbr (array): (L^3 x 6) array where each row represents a spin and each column the\n",
    "                    the index of its neighbors.\n",
    "    \"\"\"\n",
    "    N = L**3\n",
    "    nbr = np.zeros((N,6),dtype=np.int32)\n",
    "    for i in range(N):\n",
    "        nbr[i,:] = [(i // L) * L + (i - 1) % L, (i // L) * L + (i + 1) % L,\n",
    "               (i + L) % N, (i - L) % N, (i + L**2) % N, (i - L**2) % N]\n",
    "    return nbr"
   ]
  },
  {
   "cell_type": "code",
   "execution_count": 39,
   "metadata": {},
   "outputs": [],
   "source": [
    "@nb.njit\n",
    "def Metropolis(S, nbr, T, n_flips):\n",
    "    N = S.shape[0]\n",
    "    for step in range(n_flips):       \n",
    "        # Random vector r\n",
    "        phi = np.random.uniform(0, 2*np.pi)\n",
    "        z = np.random.uniform(-1,1)\n",
    "        theta = np.arccos(z)\n",
    "        r = np.array([np.sin(theta)*np.cos(phi),\n",
    "                      np.sin(theta)*np.sin(phi),\n",
    "                      np.cos(theta)])\n",
    "        \n",
    "        # Generate and flip cluster at site k\n",
    "        k = np.random.randint(0, N)\n",
    "        A_k = np.sum(S[nbr[k]],axis=0)\n",
    "        Anorm = np.linalg.norm(A_k)\n",
    "        S_k = S[k]\n",
    "        # Calculate the old and new energy (assumin the flip is accepted):\n",
    "        ek_old = -np.dot(S_k, A_k)\n",
    "        S_k_new = S_k - 2*np.dot(S[k], r)*r\n",
    "        ek_new = -np.dot(S_k, A_k)\n",
    "        DeltaE = ek_new - ek_old\n",
    "        p = np.exp(-DeltaE/T) # Probability of accepting the move\n",
    "        if np.random.random() < p:\n",
    "            S[k] = S_k # Accept the move with probability p\n",
    "    return S"
   ]
  },
  {
   "cell_type": "markdown",
   "metadata": {},
   "source": [
    "## Thermodynamic quantities"
   ]
  },
  {
   "cell_type": "code",
   "execution_count": 24,
   "metadata": {
    "tags": []
   },
   "outputs": [],
   "source": [
    "@nb.njit\n",
    "def calculate_energy(S, nbr):\n",
    "    \"\"\"\n",
    "    Args:\n",
    "        S (array): Lattice\n",
    "        nbr (array): Neighbors\n",
    "    Returns:\n",
    "        E (float): Energy\n",
    "    \"\"\"\n",
    "    N = S.shape[0]\n",
    "    E = 0\n",
    "    for i in prange(N):\n",
    "        nbrs_i = nbr[i]\n",
    "        S_i = S[i]\n",
    "        for ii in nbrs_i:\n",
    "            E += -np.dot(S[ii], S_i)\n",
    "    E = E/2\n",
    "    return E\n",
    "\n",
    "@nb.njit\n",
    "def calculate_magnet(S):\n",
    "    \"\"\"\n",
    "    Args:\n",
    "        S (array): Lattice\n",
    "    Returns:\n",
    "        M (float): Magentization calculated as the norm of the sum of all spin vectors\n",
    "    \"\"\"\n",
    "    N = S.shape[0]\n",
    "    S_sum = np.sum(S, axis=0)\n",
    "    return 1/N*np.linalg.norm(S_sum)"
   ]
  },
  {
   "cell_type": "code",
   "execution_count": 25,
   "metadata": {
    "tags": []
   },
   "outputs": [
    {
     "name": "stdout",
     "output_type": "stream",
     "text": [
      "Energy1 =  34.83535391838614\n",
      "Energy2 = -3000.0\n"
     ]
    }
   ],
   "source": [
    "def test_calculate_energy(L):\n",
    "    nbr = get_neighbors(L)\n",
    "    S = random_initialize(L)\n",
    "    E = calculate_energy(S, nbr)\n",
    "    print('Energy1 = ', E)\n",
    "    S = np.zeros((L**3,3))\n",
    "    S[:,0] = 1\n",
    "    E = calculate_energy(S, nbr)\n",
    "    print('Energy2 =', E)\n",
    "\n",
    "test_calculate_energy(10)"
   ]
  },
  {
   "cell_type": "markdown",
   "metadata": {},
   "source": [
    "# Wolff Clusters Algorithm"
   ]
  },
  {
   "cell_type": "code",
   "execution_count": 26,
   "metadata": {
    "tags": []
   },
   "outputs": [],
   "source": [
    "@nb.njit\n",
    "def p_acc(T, r, s_i, s_j):\n",
    "    \"\"\"\n",
    "    Args:\n",
    "        T (float): Temperature\n",
    "        r (array): Random vector along which the cluster will be flipped\n",
    "        s_i (array): Spin i\n",
    "        s_j (array): Spin j (neighbor to add/reject)\n",
    "    Returns:\n",
    "        p (float): Probability of accepting a neighboring spin in the cluster\n",
    "    \"\"\"\n",
    "    beta = 1/T\n",
    "    p = 1-np.exp(min(0,-2*beta*(np.dot(r, s_i))*np.dot(r, s_j))) \n",
    "    return p\n",
    "\n",
    "@nb.njit\n",
    "def add_neighbors(neighbors, j, T, r, S, Pocket, Cluster):\n",
    "    \"\"\"\n",
    "    Args:\n",
    "        T (float): Temperature\n",
    "        r (array): Random vector along which the cluster will be flipped\n",
    "        s_i (array): Spin i\n",
    "        s_j (array): Spin j (neighbor to add/reject)\n",
    "    Returns:\n",
    "        p (float): Probability of accepting a neighboring spin in the cluster\n",
    "    \"\"\"\n",
    "    for ii in range(neighbors[j].shape[0]):\n",
    "        l = int(neighbors[j][ii])\n",
    "        p = p_acc(T, r, S[j,:], S[l,:])\n",
    "        if (l not in Cluster) and np.random.random() < p:\n",
    "            Pocket = np.append(Pocket, l)\n",
    "            Cluster = np.append(Cluster, l)\n",
    "    return Pocket, Cluster\n",
    "\n",
    "@nb.njit\n",
    "def generate_and_flip_cluster(S, neighbors, k, T, r):\n",
    "    Pocket, Cluster = np.array([k], dtype=np.int32), np.array([k], dtype=np.int32)\n",
    "    while Pocket.shape[0] != 0:\n",
    "        index_j = np.random.randint(0, Pocket.shape[0])\n",
    "        j = int(Pocket[index_j])\n",
    "        Pocket, Cluster = add_neighbors(neighbors, j, T, r, S, Pocket, Cluster)\n",
    "        Pocket = np.delete(Pocket, index_j)\n",
    "    for i in Cluster:\n",
    "        S[i] = S[i] - 2*np.dot(S[i], r)*r\n",
    "    return S\n",
    "\n",
    "@nb.njit\n",
    "def cluster_sample(S, nbr, T, n_flips):\n",
    "    N = S.shape[0] # Total number of spins\n",
    "    # Generate cluster configuration with n_flips\n",
    "    for step in range(n_flips):       \n",
    "        # Random vector r\n",
    "        phi = np.random.uniform(0, 2*np.pi)\n",
    "        z = np.random.uniform(-1,1)\n",
    "        theta = np.arccos(z)\n",
    "        r = np.array([np.sin(theta)*np.cos(phi),\n",
    "                      np.sin(theta)*np.sin(phi),\n",
    "                      np.cos(theta)])\n",
    "        \n",
    "        # Generate and flip cluster at site k\n",
    "        k = np.random.randint(0, N)\n",
    "        S = generate_and_flip_cluster(S, nbr, k, T, r)\n",
    "    return S"
   ]
  },
  {
   "cell_type": "code",
   "execution_count": 27,
   "metadata": {
    "tags": []
   },
   "outputs": [],
   "source": [
    "@nb.njit\n",
    "def thermo_T(S, nbr, T, n_samples):\n",
    "    \"\"\"Calculates the thermodynamic quantities at a given temperature\n",
    "    Args:\n",
    "        S (array)\n",
    "        nbr (array)\n",
    "        T (float): Temperature > 0\n",
    "        n_samples (int): Number of values to calculate\n",
    "    Returns:\n",
    "        M (float): Magnetization\n",
    "    \"\"\"\n",
    "    M = 0\n",
    "    n_flips = 1000\n",
    "    if T < 1.45:\n",
    "        n_flips = 10\n",
    "    for i in range(n_samples):\n",
    "        S = cluster_sample(S, nbr, T, n_flips) \n",
    "        M += calculate_magnet(S)\n",
    "    M = M/n_samples\n",
    "    return M"
   ]
  },
  {
   "cell_type": "code",
   "execution_count": 28,
   "metadata": {
    "tags": []
   },
   "outputs": [
    {
     "data": {
      "application/vnd.jupyter.widget-view+json": {
       "model_id": "e771a362d2c54575ad4c15db14bf8cd3",
       "version_major": 2,
       "version_minor": 0
      },
      "text/plain": [
       "  0%|          | 0/40 [00:00<?, ?it/s]"
      ]
     },
     "metadata": {},
     "output_type": "display_data"
    }
   ],
   "source": [
    "n_temps = 40 # Number of temperature values \n",
    "T_vals = np.linspace(2.5, 0.5, n_temps)\n",
    "M = np.zeros(n_temps)\n",
    "L = 10\n",
    "S = random_initialize(L)\n",
    "nbr = get_neighbors(L)\n",
    "t = tq(range(n_temps))\n",
    "for ii in t:\n",
    "    n_samples = 300 # Number n of samples for calculating the thermal average\n",
    "    M[ii] = thermo_T(S, nbr, T_vals[ii], n_samples)\n",
    "    t.set_description(\"T = {:.3f} : \".format(T_vals[ii]))"
   ]
  },
  {
   "cell_type": "code",
   "execution_count": 37,
   "metadata": {
    "tags": []
   },
   "outputs": [
    {
     "data": {
      "text/plain": [
       "<matplotlib.legend.Legend at 0x235fd986c10>"
      ]
     },
     "execution_count": 37,
     "metadata": {},
     "output_type": "execute_result"
    },
    {
     "data": {
      "image/png": "[encoded data removed]",
      "text/plain": [
       "<Figure size 432x288 with 1 Axes>"
      ]
     },
     "metadata": {
      "needs_background": "light"
     },
     "output_type": "display_data"
    }
   ],
   "source": [
    "plt.plot(T_vals,M,'ko-',mfc='w',label='L={}'.format(L))\n",
    "plt.xlabel('Temperature')\n",
    "plt.ylabel(r'$\\langle M\\rangle_T$')\n",
    "plt.legend()\n",
    "# plt.savefig('L_{}.jpg'.format(L), bbox_inches='tight')"
   ]
  },
  {
   "cell_type": "markdown",
   "metadata": {},
   "source": [
    "# Broad Histogram Method"
   ]
  },
  {
   "cell_type": "markdown",
   "metadata": {},
   "source": [
    "## Energize and rotate spin"
   ]
  },
  {
   "cell_type": "code",
   "execution_count": 30,
   "metadata": {
    "tags": []
   },
   "outputs": [],
   "source": [
    "@nb.njit\n",
    "def get_angles(vector):\n",
    "    \"\"\"\n",
    "    Args:\n",
    "        vector (array)\n",
    "    Returns:\n",
    "        theta (float): Polar angle (z axis) \n",
    "        phi (float): Azimuth angle\n",
    "    \"\"\"\n",
    "    r = np.linalg.norm(vector)\n",
    "    x, y, z = vector[0], vector[1], vector[2]\n",
    "    theta = np.arccos(z/r)\n",
    "    if theta == 0:\n",
    "        phi = 0\n",
    "    else:\n",
    "        phi = np.arccos(x/(r*np.sin(theta)))\n",
    "        phi = np.arctan2(y,x)\n",
    "    return theta, phi"
   ]
  },
  {
   "cell_type": "code",
   "execution_count": 31,
   "metadata": {
    "tags": []
   },
   "outputs": [],
   "source": [
    "def energize(S, nbr, E_target, tol, max_iter):\n",
    "    \"\"\"\n",
    "    Args:\n",
    "        S (array)\n",
    "        nbr (array)\n",
    "        E_target (float)\n",
    "        tol (float)\n",
    "        max_iter (int)\n",
    "    Returns:\n",
    "        S (array): Energized configuration\n",
    "        E_current: Energy \n",
    "    \"\"\"\n",
    "    N = S.shape[0]\n",
    "    iteration = 0\n",
    "    E_current = calculate_energy(S, nbr)\n",
    "    DeltaE = abs(E_target - E_current)\n",
    "    while DeltaE > tol and iteration <= max_iter:\n",
    "        # Choose a spin at random\n",
    "        k = np.random.randint(0, N)\n",
    "        S_k = S[k]\n",
    "        # Calculate the local field of that spin\n",
    "        A_k = np.sum(S[nbr[k]],axis=0)\n",
    "        Anorm = np.linalg.norm(A_k)\n",
    "        theta, phi = get_angles(A_k)\n",
    "        # Make a rotation to align A_k with the z axis\n",
    "        alpha = np.pi/2 - phi\n",
    "        beta = -theta\n",
    "        Rotz = np.array([[np.cos(alpha), -np.sin(alpha), 0],\n",
    "                        [np.sin(alpha), np.cos(alpha), 0],\n",
    "                        [0, 0, 1]])\n",
    "        Rotx = np.array([[1, 0, 0],\n",
    "                        [0, np.cos(beta), np.sin(beta)],\n",
    "                        [0, -np.sin(beta), np.cos(beta)]])\n",
    "        Rot = np.dot(Rotx, Rotz)\n",
    "        # Calculates the old energy\n",
    "        ei_old = -np.dot(S_k, A_k)\n",
    "        z = -ei_old/Anorm\n",
    "        if E_current < E_target:\n",
    "            z = np.random.uniform(-1, z)\n",
    "        else:\n",
    "            z = np.random.uniform(z, 1)\n",
    "        theta = np.arccos(z)\n",
    "        phi = np.random.uniform(0, 2*np.pi)\n",
    "        # Get the new vector in spherical coordinates\n",
    "        sk_new = np.array([[np.sin(theta)*np.cos(phi)],\n",
    "                           [np.sin(theta)*np.sin(phi)],\n",
    "                           [np.cos(theta)]])\n",
    "        # Rotate the new vector back to the original basis\n",
    "        sk_new = np.reshape(np.dot(Rot.T, sk_new), A_k.shape)\n",
    "        ei_new = - np.dot(sk_new, A_k)\n",
    "        S[k] = sk_new\n",
    "        DE = ei_new - ei_old\n",
    "        # Calculate the new energy\n",
    "        E_current += DE\n",
    "        DeltaE = abs(E_target-E_current)\n",
    "        iteration += 1\n",
    "    return S, E_current"
   ]
  },
  {
   "cell_type": "code",
   "execution_count": 32,
   "metadata": {
    "tags": []
   },
   "outputs": [
    {
     "name": "stdout",
     "output_type": "stream",
     "text": [
      "Tolerance is  0.001\n",
      "................................\n",
      "E_before =  37.06177218224299\n",
      "E_desired =  -141.52903395478768\n",
      "E_after =  -141.52841236014314\n",
      "................................\n",
      "E_before =  -19.747190983879463\n",
      "E_desired =  -607.3517593125082\n",
      "E_after =  -607.351116574846\n",
      "................................\n",
      "E_before =  4.5121590390037\n",
      "E_desired =  727.9726279269507\n",
      "E_after =  727.9721490867246\n",
      "................................\n",
      "E_before =  63.21470750535831\n",
      "E_desired =  876.2447038043706\n",
      "E_after =  876.2452871631982\n",
      "................................\n",
      "E_before =  9.336454548479612\n",
      "E_desired =  942.543000671259\n",
      "E_after =  942.5425193443634\n",
      "................................\n"
     ]
    }
   ],
   "source": [
    "def test_energize(L, tol=0.01):\n",
    "    print('Tolerance is ', tol)\n",
    "    print('................................')\n",
    "    for i in range(5):\n",
    "        S = random_initialize(L)\n",
    "        nbr = get_neighbors(L)\n",
    "        E_desired = np.random.uniform(-L**3, L**3)\n",
    "        E_before = calculate_energy(S, nbr)\n",
    "        print('E_before = ', E_before)\n",
    "        S, E_after = energize(S, nbr, E_desired, tol, 10000)\n",
    "        print('E_desired = ', E_desired)\n",
    "        print('E_after = ', E_after)\n",
    "        print('................................')\n",
    "        \n",
    "test_energize(10, 0.001)"
   ]
  },
  {
   "cell_type": "code",
   "execution_count": 33,
   "metadata": {
    "tags": []
   },
   "outputs": [],
   "source": [
    "def rotate_spin(S, nbr, index, E, Emin, Emax):\n",
    "    \"\"\"\n",
    "    Args:\n",
    "        S (arary)\n",
    "        nbr (array)\n",
    "        index (int)\n",
    "        E (float): Current energy of the configuration\n",
    "        Emin (float): Minimun energy of the window\n",
    "        Emax (float): Maximum energy of the window\n",
    "    Returns:\n",
    "        S (array)\n",
    "        ei_old (float): Energy of the spin at given index. Needed for later.\n",
    "        E (float): Total energy\n",
    "        Anorm (float): Magnitude of the local field of the spin at given index. Needed for later\n",
    "    \"\"\"\n",
    "    # Calculate the maximum possible window for rotating the spin such that the energy remains inside [Emin, Emax]\n",
    "    DeltaEb = min(Emax-E, E-Emin)\n",
    "    S_i = S[index]\n",
    "    nbr_i = nbr[index]\n",
    "    # Local field A_i and norm\n",
    "    A_i = np.sum(S[nbr_i],axis=0)\n",
    "    Anorm = np.linalg.norm(A_i)\n",
    "    theta, phi = get_angles(A_i)\n",
    "    alpha = np.pi/2 - phi\n",
    "    beta = -theta\n",
    "    # Rotation matrix to get to basis where A_i is aligned with z axis\n",
    "    Rotz = np.array([[np.cos(alpha), -np.sin(alpha), 0],\n",
    "                    [np.sin(alpha), np.cos(alpha), 0],\n",
    "                    [0, 0, 1]])\n",
    "    Rotx = np.array([[1, 0, 0],\n",
    "                    [0, np.cos(beta), np.sin(beta)],\n",
    "                    [0, -np.sin(beta), np.cos(beta)]])\n",
    "    Rot = np.dot(Rotx, Rotz)\n",
    "    ei_old = -np.dot(S_i, A_i)\n",
    "    # Calculate the minimun and maximun values the energy of the spin i can have\n",
    "    ei_min = ei_old - DeltaEb\n",
    "    ei_max = ei_old + DeltaEb\n",
    "    zmin = max(-1, -ei_max/Anorm) # These conditions ensure that z is always between [-1, 1].\n",
    "    zmax = min(1, -ei_min/Anorm)\n",
    "    zrand = np.random.uniform(zmin, zmax)\n",
    "    theta = np.arccos(zrand)\n",
    "    phi_rand = np.random.uniform(0, 2*np.pi)\n",
    "    si_new = np.array([[np.sin(theta)*np.cos(phi_rand)],\n",
    "                       [np.sin(theta)*np.sin(phi_rand)],\n",
    "                       [np.cos(theta)]])\n",
    "    # Get si_new back to old basis\n",
    "    si_new = np.reshape(np.dot(Rot.T, si_new), A_i.shape)\n",
    "    ei_new = -np.dot(si_new, A_i)\n",
    "    S[index] = si_new\n",
    "    DeltaE = ei_new - ei_old\n",
    "    E += DeltaE    # Update the energy\n",
    "    return S, ei_old, E, Anorm"
   ]
  },
  {
   "cell_type": "code",
   "execution_count": 34,
   "metadata": {
    "tags": []
   },
   "outputs": [
    {
     "name": "stdout",
     "output_type": "stream",
     "text": [
      "Emax = -20.039128146827853\n",
      "Emin = -24.039128146827853\n",
      "E_initial = -22.039128146827853\n",
      "E_final = -21.000887800463037\n",
      "Num_true out (/15) = 15\n",
      ".............................................\n",
      "Emax = 2.3125608354171296\n",
      "Emin = -1.6874391645828704\n",
      "E_initial = 0.3125608354171296\n",
      "E_final = -1.6786475760904085\n",
      "Num_true out (/15) = 15\n",
      ".............................................\n",
      "Emax = 29.55924628452525\n",
      "Emin = 25.55924628452525\n",
      "E_initial = 27.55924628452525\n",
      "E_final = 28.776994057523673\n",
      "Num_true out (/15) = 15\n",
      ".............................................\n",
      "Emax = 12.325249729073075\n",
      "Emin = 8.325249729073075\n",
      "E_initial = 10.325249729073075\n",
      "E_final = 12.325113167126766\n",
      "Num_true out (/15) = 15\n",
      ".............................................\n",
      "Emax = 67.40035579155983\n",
      "Emin = 63.40035579155983\n",
      "E_initial = 65.40035579155983\n",
      "E_final = 63.41205910655068\n",
      "Num_true out (/15) = 15\n",
      ".............................................\n"
     ]
    }
   ],
   "source": [
    "def test_rotate_spin(L, Num):\n",
    "    for i in range(Num):\n",
    "        S = random_initialize(L)\n",
    "        nbr = get_neighbors(L)\n",
    "        N = S.shape[0]\n",
    "        index = np.random.randint(0,N)\n",
    "        DeltaEb = 2\n",
    "        E_ini = calculate_energy(S, nbr)\n",
    "        Emin = E_ini - DeltaEb\n",
    "        Emax = E_ini + DeltaEb\n",
    "        print('Emax =', Emax)\n",
    "        print('Emin =', Emin)\n",
    "        print('E_initial =', E_ini)\n",
    "        num_true = 0\n",
    "        E = E_ini\n",
    "        for i in range(15):\n",
    "            S, _, E, _ = rotate_spin(S, nbr, index, E, Emin, Emax)\n",
    "            Efin = calculate_energy(S, nbr)\n",
    "            num_true += Emin < Efin and Efin < Emax  \n",
    "        print('E_final =', calculate_energy(S, nbr))\n",
    "        print('Num_true out (/15) =', num_true)\n",
    "        print('.............................................')\n",
    "        \n",
    "test_rotate_spin(10, 5)"
   ]
  },
  {
   "cell_type": "markdown",
   "metadata": {},
   "source": [
    "## Sampling"
   ]
  },
  {
   "cell_type": "code",
   "execution_count": 35,
   "metadata": {
    "tags": []
   },
   "outputs": [],
   "source": [
    "def one_energy(S, nbr, E, DeltaEb, DeltaE_fix , shuffle=True):\n",
    "    \"\"\"Calculate everything for a given energy at some T and E\n",
    "    Args:\n",
    "        S (array): Array of spins size (Nx3).\n",
    "        nbr (array): Array containig the indices of the neighbors of each spin.\n",
    "        E (float): Energy of interest.\n",
    "        DeltaEb (float): Window for rotating the spins.\n",
    "        DeltaE_fix (float): Fixed number for obtaining the N_up, N_down values.\n",
    "        shuffle (bool): Random lattice sweep.\n",
    "    Returns:\n",
    "        N_up (float): Updated\n",
    "        N_down (float): Updated\n",
    "        Thermo (array): Updated\n",
    "    \"\"\"\n",
    "    N = S.shape[0]\n",
    "    indices = np.arange(N)\n",
    "    if shuffle:\n",
    "        np.random.shuffle(indices) # Generate a random ordering to visit all spins in the lattice\n",
    "    N_up = 0\n",
    "    N_down = 0\n",
    "    Emin = E - DeltaEb # Define limits of energy for each window\n",
    "    Emax = E + DeltaEb\n",
    "    for i in range(N):\n",
    "        index = indices[i]\n",
    "        S, ei_old, E, Ai_norm = rotate_spin(S, nbr, index, E, Emin, Emax) # Rotate the spin at given index\n",
    "        # Calculate N_up and N_down (refer to PhD. theis of prof. JD page 61)\n",
    "        if abs(DeltaE_fix + ei_old) < Ai_norm:\n",
    "            N_up += 1/N * 1/(2*Ai_norm)\n",
    "        if abs(-DeltaE_fix + ei_old) < Ai_norm:\n",
    "            N_down += 1/N * 1/(2*Ai_norm)\n",
    "    return N_up, N_down"
   ]
  },
  {
   "cell_type": "code",
   "execution_count": 43,
   "metadata": {
    "tags": []
   },
   "outputs": [],
   "source": [
    "def one_muC(L, nbr, E_vals, DeltaEb, DeltaE_fix):\n",
    "    \"\"\"Samples across all energies in a given array.\n",
    "    Args:\n",
    "        L (int)\n",
    "        E_vals (array)\n",
    "        DeltaEb (float)\n",
    "        DeltaE_fix (float)\n",
    "        nbr (array)\n",
    "    Returns:\n",
    "        Nup (Array)\n",
    "        Ndown (Array)\n",
    "        Thermo (Array)\n",
    "    \"\"\"\n",
    "    num_values =  E_vals.shape[0]\n",
    "    Nup = np.zeros(num_values)\n",
    "    Ndown = np.zeros(num_values)\n",
    "    S = random_initialize(L)\n",
    "    cluster_sample(S, nbr, 1.44, 300)\n",
    "    for ii in prange(num_values):\n",
    "        energy = E_vals[ii]\n",
    "        # Metropolis and Wolff Clusters to generate an uncorrelated configuration for the next energy\n",
    "        S = Metropolis(S, nbr, 1.44, 100)\n",
    "        S = cluster_sample(S, nbr, 1.44, 5)\n",
    "        # Generate a configuration whose energy falls inside the next window\n",
    "        S, E_start = energize(S, nbr, energy, DeltaEb/5, 20000)\n",
    "        Nup_ii, Ndown_ii = one_energy(S, nbr, energy, DeltaEb, DeltaE_fix, shuffle=True)\n",
    "        Nup[ii] += Nup_ii\n",
    "        Ndown[ii] += Ndown_ii\n",
    "    return Nup, Ndown"
   ]
  },
  {
   "cell_type": "markdown",
   "metadata": {},
   "source": [
    "## Main loop"
   ]
  },
  {
   "cell_type": "code",
   "execution_count": 42,
   "metadata": {
    "tags": []
   },
   "outputs": [
    {
     "data": {
      "application/vnd.jupyter.widget-view+json": {
       "model_id": "77568cca10c94ca5a4dbc0e9cbb08c8d",
       "version_major": 2,
       "version_minor": 0
      },
      "text/plain": [
       "  0%|          | 0/8 [00:00<?, ?it/s]"
      ]
     },
     "metadata": {},
     "output_type": "display_data"
    }
   ],
   "source": [
    "num_values = 120\n",
    "E_vals = np.linspace(-2700, 0, num_values, endpoint=False)\n",
    "Nup = np.zeros(num_values)\n",
    "Ndown = np.zeros(num_values)\n",
    "total_runs = 8\n",
    "L = 10\n",
    "nbr = get_neighbors(L)\n",
    "DeltaEb = 2\n",
    "DeltaE_fix = 1\n",
    "for i in tq(range(total_runs)):\n",
    "    Nup_i, Ndown_i = one_muC(L, nbr, E_vals, DeltaEb, DeltaE_fix)\n",
    "    Nup += Nup_i\n",
    "    Ndown += Ndown_i\n",
    "Nup = Nup/total_runs\n",
    "Ndown = Ndown/total_runs"
   ]
  },
  {
   "cell_type": "markdown",
   "metadata": {},
   "source": [
    "# Plotting"
   ]
  },
  {
   "cell_type": "code",
   "execution_count": 44,
   "metadata": {
    "tags": []
   },
   "outputs": [
    {
     "data": {
      "text/plain": [
       "<matplotlib.legend.Legend at 0x235fbd68640>"
      ]
     },
     "execution_count": 44,
     "metadata": {},
     "output_type": "execute_result"
    },
    {
     "data": {
      "image/png": "[encoded data removed]",
      "text/plain": [
       "<Figure size 432x288 with 1 Axes>"
      ]
     },
     "metadata": {
      "needs_background": "light"
     },
     "output_type": "display_data"
    }
   ],
   "source": [
    "plt.plot(E_vals, np.log(Nup),'k-', label=r'Ln $\\langle N_{up}(E)\\rangle$')\n",
    "plt.plot(E_vals, np.log(Ndown),'k--', label=r'Ln $\\langle N_{dn}(E)\\rangle$')\n",
    "plt.ylabel(r'Ln $\\langle N(E)\\rangle$')\n",
    "plt.xlabel(r'Energy')\n",
    "plt.legend()\n",
    "# plt.savefig('Log.jpg',dpi=400,bbox_inches='tight')"
   ]
  },
  {
   "cell_type": "code",
   "execution_count": 45,
   "metadata": {
    "tags": []
   },
   "outputs": [
    {
     "data": {
      "text/plain": [
       "Text(0, 0.5, '$\\\\beta(E)$')"
      ]
     },
     "execution_count": 45,
     "metadata": {},
     "output_type": "execute_result"
    },
    {
     "data": {
      "image/png": "[encoded data removed]",
      "text/plain": [
       "<Figure size 432x288 with 1 Axes>"
      ]
     },
     "metadata": {
      "needs_background": "light"
     },
     "output_type": "display_data"
    }
   ],
   "source": [
    "beta = 1/DeltaE_fix * np.log(Nup/Ndown)\n",
    "plt.plot(E_vals, beta,'k.-')\n",
    "plt.xlabel(r'Energy')\n",
    "plt.ylabel(r'$\\beta(E)$')\n",
    "# plt.savefig('beta.jpg',dpi=400,bbox_inches='tight')"
   ]
  }
 ],
 "metadata": {
  "kernelspec": {
   "display_name": "Python 3",
   "language": "python",
   "name": "python3"
  },
  "language_info": {
   "codemirror_mode": {
    "name": "ipython",
    "version": 3
   },
   "file_extension": ".py",
   "mimetype": "text/x-python",
   "name": "python",
   "nbconvert_exporter": "python",
   "pygments_lexer": "ipython3",
   "version": "3.8.8"
  }
 },
 "nbformat": 4,
 "nbformat_minor": 4
}
